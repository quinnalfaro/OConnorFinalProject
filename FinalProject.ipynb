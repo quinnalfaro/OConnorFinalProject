{
  "nbformat": 4,
  "nbformat_minor": 0,
  "metadata": {
    "colab": {
      "name": "FinalProject.ipynb",
      "provenance": [],
      "collapsed_sections": [],
      "mount_file_id": "1qCHPqUlFKZ-HRAmZPnQQcGSVVvMaKOly",
      "authorship_tag": "ABX9TyN7AIs8NuoKZCFTwytQ6vpF",
      "include_colab_link": true
    },
    "kernelspec": {
      "name": "python3",
      "display_name": "Python 3"
    },
    "language_info": {
      "name": "python"
    },
    "accelerator": "GPU"
  },
  "cells": [
    {
      "cell_type": "markdown",
      "metadata": {
        "id": "view-in-github",
        "colab_type": "text"
      },
      "source": [
        "<a href=\"https://colab.research.google.com/github/quinnalfaro/OConnorFinalProject/blob/main/FinalProject.ipynb\" target=\"_parent\"><img src=\"https://colab.research.google.com/assets/colab-badge.svg\" alt=\"Open In Colab\"/></a>"
      ]
    },
    {
      "cell_type": "code",
      "metadata": {
        "id": "0-6ieOzoxWFg"
      },
      "source": [
        "import pandas as pd\n",
        "import numpy as np\n",
        "import torch\n",
        "import torchvision\n",
        "import matplotlib.pyplot as plt\n",
        "import albumentations as A\n",
        "from sklearn.model_selection import train_test_split\n",
        "import plotly.express as px\n",
        "import plotly.graph_objects as go"
      ],
      "execution_count": 63,
      "outputs": []
    },
    {
      "cell_type": "markdown",
      "metadata": {
        "id": "-TOE9oWVpqxe"
      },
      "source": [
        "# Read in data\n",
        "Because this is a Kaggle competition I made my df_val from splitting it off of the entire training dataframe."
      ]
    },
    {
      "cell_type": "code",
      "metadata": {
        "id": "RS9uJV4T2Rf9"
      },
      "source": [
        "df_train = pd.read_csv('/content/drive/MyDrive/FinalProjectData/training.csv')\n",
        "df_train = df_train.dropna()\n",
        "# For the purposes of testing out the model I've split the training dataset to make test and val\n",
        "df_train, df_val = train_test_split(df_train, test_size=0.2)"
      ],
      "execution_count": 2,
      "outputs": []
    },
    {
      "cell_type": "markdown",
      "metadata": {
        "id": "8K8smSEWYdjq"
      },
      "source": [
        "# Modified Digits data Class for CNN\n",
        "\n",
        "Here we change the data to be in the shape of 1x96x96 as it is a black and white image. We initialize the dataset and then ad the get item function to easily and quickly pull data from the dataset"
      ]
    },
    {
      "cell_type": "code",
      "metadata": {
        "id": "prVUzEyD2kfz"
      },
      "source": [
        "class DigitsDataset(torch.utils.data.Dataset):\n",
        "    def __init__(self, df):\n",
        "        self.df = df\n",
        "        \n",
        "    def __len__(self):\n",
        "        return len(self.df)\n",
        "    \n",
        "    def __getitem__(self, idx):\n",
        "        row = self.df.iloc[idx]\n",
        "        \n",
        "\n",
        "        x = row['Image'].split()\n",
        "\n",
        "        x = np.float32(np.array(x))\n",
        "        # Changing shape is only mod needed for cnn, Change 1 to 3 for color\n",
        "        x = np.reshape(x, (1, 96,96))\n",
        "\n",
        "        # Turn into numpy array\n",
        "        y = np.float32(row[:30].values)\n",
        "        return x, y"
      ],
      "execution_count": 147,
      "outputs": []
    },
    {
      "cell_type": "markdown",
      "metadata": {
        "id": "ZMRN0e87GoOE"
      },
      "source": [
        "## Creating instance of dataset and creating dataloader"
      ]
    },
    {
      "cell_type": "code",
      "metadata": {
        "id": "Y4nCxiOab3hg"
      },
      "source": [
        "dataset_train = DigitsDataset(df_train)\n",
        "dataset_val = DigitsDataset(df_val)\n",
        "\n",
        "dataloader_train = torch.utils.data.DataLoader(dataset_train, batch_size = 64, shuffle = True)\n",
        "dataloader_val = torch.utils.data.DataLoader(dataset_val, batch_size = 64, shuffle = True)"
      ],
      "execution_count": 148,
      "outputs": []
    },
    {
      "cell_type": "markdown",
      "metadata": {
        "id": "gsprc97tGtFG"
      },
      "source": [
        "# Quick test\n",
        "Here we have a quick test to make sure our dataloader is working and outputting the image as we want."
      ]
    },
    {
      "cell_type": "code",
      "metadata": {
        "colab": {
          "base_uri": "https://localhost:8080/",
          "height": 336
        },
        "id": "sMK1-xrurmct",
        "outputId": "dc5d25e6-3b49-47cb-e4c5-9eb02d86defe"
      },
      "source": [
        "X_batch, Y_batch = next(iter(dataloader_train))\n",
        "plt.imshow(X_batch[0][0],cmap='gray')\n",
        "Y_batch[0]"
      ],
      "execution_count": 150,
      "outputs": [
        {
          "output_type": "execute_result",
          "data": {
            "text/plain": [
              "tensor([68.9044, 34.9297, 24.4227, 33.0039, 59.6617, 34.5445, 79.4954, 34.1594,\n",
              "        35.9764, 34.1594, 14.9872, 31.6560, 58.8914, 26.0717, 87.3906, 24.1459,\n",
              "        37.5170, 26.2641,  9.0178, 22.6057, 46.3750, 59.5773, 61.2019, 78.2559,\n",
              "        29.0443, 75.7525, 45.2195, 74.5970, 44.8343, 83.6474])"
            ]
          },
          "metadata": {
            "tags": []
          },
          "execution_count": 150
        },
        {
          "output_type": "display_data",
          "data": {
            "image/png": "[encoded data removed]",
            "text/plain": [
              "<Figure size 432x288 with 1 Axes>"
            ]
          },
          "metadata": {
            "tags": [],
            "needs_background": "light"
          }
        }
      ]
    },
    {
      "cell_type": "markdown",
      "metadata": {
        "id": "WwGShAUrG6ZT"
      },
      "source": [
        "## Simple Convelutional Neuralnet\n",
        "Here we create the neural network object and add all of the necesary layers \n",
        "\n",
        "I found personally that having the first convelution be 1x32x3 gave the best results and lowest loss without overfitting. All of the following layers followed on suite. "
      ]
    },
    {
      "cell_type": "code",
      "metadata": {
        "id": "6s8CZsw2bgg_"
      },
      "source": [
        "class SimpleCNN(torch.nn.Module):\n",
        "    def __init__(self):\n",
        "        \n",
        "        super().__init__()\n",
        "\n",
        "        # Convelutional Layers\n",
        "        self.conv1 = torch.nn.Conv2d(1,32,3)\n",
        "        self.conv2 = torch.nn.Conv2d(32,64,3)\n",
        "        # Dense Layer\n",
        "        self.dense1 = torch.nn.Linear(30976,30)\n",
        "\n",
        "        # Max Pool Layer\n",
        "        self.pool = torch.nn.MaxPool2d(2)\n",
        "        #Flattens conv2 into 1d array\n",
        "        self.flatten = torch.nn.Flatten()\n",
        "        self.ReLU = torch.nn.ReLU()\n",
        "        \n",
        "    def forward(self, x):\n",
        "\n",
        "        #First Convelution \n",
        "        x = self.conv1(x)\n",
        "        x = self.ReLU(x)\n",
        "        x = self.pool(x)\n",
        "\n",
        "        #Second Convelution \n",
        "        x = self.conv2(x)\n",
        "        x = self.ReLU(x)\n",
        "        x = self.pool(x)\n",
        "\n",
        "        #Changes to 1D long array\n",
        "        x = self.flatten(x)\n",
        "        #Turns into correct size\n",
        "        x = self.dense1(x)\n",
        "\n",
        "        \n",
        "        return x"
      ],
      "execution_count": 6,
      "outputs": []
    },
    {
      "cell_type": "markdown",
      "metadata": {
        "id": "Z3bUnzMaqA7M"
      },
      "source": [
        "# Create instance of the model\n",
        "\n",
        "Because this is a regression style problem I chose a higher learning rate which I found gave much better results."
      ]
    },
    {
      "cell_type": "code",
      "metadata": {
        "id": "jniY8TGxLZeh"
      },
      "source": [
        "model = SimpleCNN()\n",
        "device = torch.device('cuda')\n",
        "model = model.to(device)\n",
        "\n",
        "loss_fun = torch.nn.MSELoss()\n",
        "optimizer = torch.optim.Adam(model.parameters(), lr = 0.1)"
      ],
      "execution_count": 21,
      "outputs": []
    },
    {
      "cell_type": "markdown",
      "metadata": {
        "id": "ntK6MA3zqD9n"
      },
      "source": [
        "# Train model\n",
        "\n",
        "I then train the model and test the loss on the validation dataset. Because this is a regression style model, I used torch's Mean squared error functionality to measure the loss. After going through trial and error of different numbers of epochs (*as seen in the graphs below*) I landed on 5 epochs. "
      ]
    },
    {
      "cell_type": "code",
      "metadata": {
        "colab": {
          "base_uri": "https://localhost:8080/"
        },
        "id": "eq5KVZp3Zf_0",
        "outputId": "f59e43ad-5128-4df0-e2d3-c9470c8b65fd"
      },
      "source": [
        "num_epochs = 10\n",
        "N_train = len(dataset_train)\n",
        "N_val = len(dataset_val)\n",
        "\n",
        "train_losses = []\n",
        "val_losses = []\n",
        "\n",
        "for ep in range(num_epochs):\n",
        "\n",
        "    model.train()\n",
        "    train_loss = 0.0\n",
        "    batch_idx = 0\n",
        "    \n",
        "    for X_batch, Y_batch in dataloader_train:\n",
        "        \n",
        "        X_batch = X_batch.to(device)\n",
        "        Y_batch = Y_batch.to(device)\n",
        "        \n",
        "        N_batch = X_batch.shape[0]\n",
        "        outputs = model(X_batch)\n",
        "        loss_oneBatch = loss_fun(outputs, Y_batch)\n",
        "        \n",
        "        model.zero_grad()\n",
        "        loss_oneBatch.backward()\n",
        "        optimizer.step()\n",
        "        \n",
        "        train_loss += loss_oneBatch*N_batch\n",
        "        \n",
        "    model.eval()\n",
        "    val_loss = 0.0\n",
        "    for X_batch, Y_batch in dataloader_val:\n",
        "        X_batch = X_batch.to(device)\n",
        "        Y_batch = Y_batch.to(device)\n",
        "        \n",
        "        with torch.no_grad():\n",
        "            \n",
        "            N_batch = X_batch.shape[0]\n",
        "            outputs = model(X_batch)\n",
        "            loss_oneBatch = loss_fun(outputs, Y_batch)\n",
        "            val_loss += loss_oneBatch*N_batch\n",
        "            \n",
        "    train_losses.append(train_loss/N_train)\n",
        "    val_losses.append(val_loss/N_val)\n",
        "    \n",
        "    print('epoch: ', ep, 'train loss: ', train_loss/N_train, 'validation loss: ', val_loss/N_val)"
      ],
      "execution_count": 22,
      "outputs": [
        {
          "output_type": "stream",
          "text": [
            "epoch:  0 train loss:  tensor(3.1975e+10, device='cuda:0', grad_fn=<DivBackward0>) validation loss:  tensor(86.7408, device='cuda:0')\n",
            "epoch:  1 train loss:  tensor(33.4479, device='cuda:0', grad_fn=<DivBackward0>) validation loss:  tensor(16.7027, device='cuda:0')\n",
            "epoch:  2 train loss:  tensor(11.6158, device='cuda:0', grad_fn=<DivBackward0>) validation loss:  tensor(10.7808, device='cuda:0')\n",
            "epoch:  3 train loss:  tensor(10.3866, device='cuda:0', grad_fn=<DivBackward0>) validation loss:  tensor(11.0534, device='cuda:0')\n",
            "epoch:  4 train loss:  tensor(10.4350, device='cuda:0', grad_fn=<DivBackward0>) validation loss:  tensor(10.6560, device='cuda:0')\n",
            "epoch:  5 train loss:  tensor(10.4723, device='cuda:0', grad_fn=<DivBackward0>) validation loss:  tensor(10.6460, device='cuda:0')\n",
            "epoch:  6 train loss:  tensor(10.2599, device='cuda:0', grad_fn=<DivBackward0>) validation loss:  tensor(10.6835, device='cuda:0')\n",
            "epoch:  7 train loss:  tensor(10.2841, device='cuda:0', grad_fn=<DivBackward0>) validation loss:  tensor(10.7109, device='cuda:0')\n",
            "epoch:  8 train loss:  tensor(10.5388, device='cuda:0', grad_fn=<DivBackward0>) validation loss:  tensor(10.7968, device='cuda:0')\n",
            "epoch:  9 train loss:  tensor(10.5925, device='cuda:0', grad_fn=<DivBackward0>) validation loss:  tensor(10.6196, device='cuda:0')\n"
          ],
          "name": "stdout"
        }
      ]
    },
    {
      "cell_type": "markdown",
      "metadata": {
        "id": "IFxgUA7rKKC2"
      },
      "source": [
        "# Plotting the loss vs epoch\n",
        "\n",
        "In the following plots we see that following the first epoch, which lead to a drop a drop in loss from 3.1975e+10 to 30, the training loss around 5 epochs tends to steady out. This also holds true for the validation loss. Because of this steep drop followed by a steading out, I decided to cap the number of epochs at 5. This would mean not only that there would be less to run and make the model less expensive, but also would avoid running the risk of overfitting that could come with having too many epochs. The following three graphs show first loss vs the number of epochs with a sort of zooming in on later epochs to show the true affect that they were having. One can see following the first big dropoff is graph one, that loss hovers between 10 and 12 for both."
      ]
    },
    {
      "cell_type": "markdown",
      "metadata": {
        "id": "SXUQBHbgMF1W"
      },
      "source": [
        "### All 10 epochs and loss"
      ]
    },
    {
      "cell_type": "code",
      "metadata": {
        "colab": {
          "base_uri": "https://localhost:8080/",
          "height": 298
        },
        "id": "3MlCMtUyHo1E",
        "outputId": "1a11cb02-8901-4e99-9d00-f49333752c30"
      },
      "source": [
        "plt.plot(train_losses, label = 'training loss')\n",
        "plt.plot(val_losses, label = 'validation loss')\n",
        "\n",
        "plt.legend(loc = 'upper right')\n",
        "plt.title('Objective function value value versus epoch')"
      ],
      "execution_count": 25,
      "outputs": [
        {
          "output_type": "execute_result",
          "data": {
            "text/plain": [
              "Text(0.5, 1.0, 'Objective function value value versus epoch')"
            ]
          },
          "metadata": {
            "tags": []
          },
          "execution_count": 25
        },
        {
          "output_type": "display_data",
          "data": {
            "image/png": "[encoded data removed]",
            "text/plain": [
              "<Figure size 432x288 with 1 Axes>"
            ]
          },
          "metadata": {
            "tags": [],
            "needs_background": "light"
          }
        }
      ]
    },
    {
      "cell_type": "markdown",
      "metadata": {
        "id": "PZQRMQ38MLI2"
      },
      "source": [
        "### Removing the first epoch\n",
        "\n",
        "To see closer the loss in the following 9 epochs we remove the first and see an evening out"
      ]
    },
    {
      "cell_type": "code",
      "metadata": {
        "colab": {
          "base_uri": "https://localhost:8080/",
          "height": 298
        },
        "id": "CW2zTGSxIHCU",
        "outputId": "1126c22a-bc4c-4d9b-ed5a-6529119d1443"
      },
      "source": [
        "plt.plot(train_losses[1:], label = 'training loss')\n",
        "plt.plot(val_losses[1:], label = 'validation loss')\n",
        "\n",
        "plt.legend(loc = 'upper right')\n",
        "plt.title('Objective function value value versus epoch')"
      ],
      "execution_count": 26,
      "outputs": [
        {
          "output_type": "execute_result",
          "data": {
            "text/plain": [
              "Text(0.5, 1.0, 'Objective function value value versus epoch')"
            ]
          },
          "metadata": {
            "tags": []
          },
          "execution_count": 26
        },
        {
          "output_type": "display_data",
          "data": {
            "image/png": "[encoded data removed]",
            "text/plain": [
              "<Figure size 432x288 with 1 Axes>"
            ]
          },
          "metadata": {
            "tags": [],
            "needs_background": "light"
          }
        }
      ]
    },
    {
      "cell_type": "markdown",
      "metadata": {
        "id": "95X6ITjJMfwS"
      },
      "source": [
        "### Removing now the first two epochs\n",
        "\n",
        "We see that following the fourth epoch the loss for both the trainging and the validation completely evens out and just bounces around between 10 and 11."
      ]
    },
    {
      "cell_type": "code",
      "metadata": {
        "colab": {
          "base_uri": "https://localhost:8080/",
          "height": 298
        },
        "id": "OIJR_hArJ7OM",
        "outputId": "b9c77b0e-8aec-429f-d262-15c5a4e149d8"
      },
      "source": [
        "plt.plot(train_losses[2:], label = 'training loss')\n",
        "plt.plot(val_losses[2:], label = 'validation loss')\n",
        "\n",
        "plt.legend(loc = 'upper right')\n",
        "plt.title('Objective function value value versus epoch')"
      ],
      "execution_count": 27,
      "outputs": [
        {
          "output_type": "execute_result",
          "data": {
            "text/plain": [
              "Text(0.5, 1.0, 'Objective function value value versus epoch')"
            ]
          },
          "metadata": {
            "tags": []
          },
          "execution_count": 27
        },
        {
          "output_type": "display_data",
          "data": {
            "image/png": "[encoded data removed]",
            "text/plain": [
              "<Figure size 432x288 with 1 Axes>"
            ]
          },
          "metadata": {
            "tags": [],
            "needs_background": "light"
          }
        }
      ]
    },
    {
      "cell_type": "markdown",
      "metadata": {
        "id": "7EXZqn0UM37J"
      },
      "source": [
        "# PART #2 \n",
        "\n",
        "## Using a pretrained resnet model \n",
        "\n",
        "We slightly change the dataset class and now add the **augment_data** boolean option when initializing the data, so if one would like to augment the data, they can in fact do so. "
      ]
    },
    {
      "cell_type": "code",
      "metadata": {
        "id": "WSW6hUINQ4em"
      },
      "source": [
        "class DigitsDatasetForRGB(torch.utils.data.Dataset):\n",
        "    def __init__(self, df, augment_data = False):\n",
        "        self.df = df\n",
        "        self.augment_data = augment_data\n",
        "\n",
        "        if augment_data:\n",
        "          self.transform = A.Compose([\n",
        "              A.GridDistortion(),\n",
        "              A.Rotate(limit = 20, p = 0.5),\n",
        "              A.Normalize(mean = (0.485, 0.456, 0.406), std=(0.229,0.224,0.225))\n",
        "          ])\n",
        "        else:\n",
        "          self.transform = A.Compose([A.Normalize(mean = (0.485, 0.456, 0.406), std=(0.229,0.224,0.225))])\n",
        "\n",
        "        \n",
        "    def __len__(self):\n",
        "        return len(self.df)\n",
        "    \n",
        "    def __getitem__(self, idx):\n",
        "        row = self.df.iloc[idx]\n",
        "        \n",
        "\n",
        "        x = row['Image'].split()\n",
        "\n",
        "        x = np.float32(np.array(x))\n",
        "        x = np.reshape(x, (96,96))\n",
        "        # Changing shape is and stacking image is needed for rgb images in resnet\n",
        "        ## Axis = 2 for data augmentation\n",
        "        x = np.stack((x,x,x), axis=2)\n",
        "\n",
        "        # Transform!\n",
        "        x = self.transform(image = x)['image']\n",
        "\n",
        "        #Change shape back\n",
        "        x = np.transpose(x, (2,0,1))\n",
        "\n",
        "        # Turn into numpy array\n",
        "        y = np.float32(row[:30].values)\n",
        "        # Updated torch.float to torch.long <--- MESSES UP RESNET\n",
        "        #y = torch.tensor(y,dtype=torch.long)\n",
        "        return x, y"
      ],
      "execution_count": 3,
      "outputs": []
    },
    {
      "cell_type": "code",
      "metadata": {
        "id": "kO8rn0o5Stlr"
      },
      "source": [
        "dataset_train = DigitsDatasetForRGB(df_train)\n",
        "dataset_val = DigitsDatasetForRGB(df_val)\n",
        "\n",
        "dataloader_train = torch.utils.data.DataLoader(dataset_train, batch_size = 64, shuffle = True)\n",
        "dataloader_val = torch.utils.data.DataLoader(dataset_val, batch_size = 64, shuffle = True)"
      ],
      "execution_count": 4,
      "outputs": []
    },
    {
      "cell_type": "markdown",
      "metadata": {
        "id": "9WOUCFysQRk0"
      },
      "source": [
        "### Creating and modifying Resnet\n",
        "\n",
        "Here we not only create the model but modify the final layer to have 30 outfeatures to match the 30 classes we are trying to predict through our regression style model."
      ]
    },
    {
      "cell_type": "code",
      "metadata": {
        "id": "rkiPnUMsKyKp"
      },
      "source": [
        "#For resnet\n",
        "model = torchvision.models.resnet18(pretrained = True)\n",
        "model.fc = torch.nn.Linear(in_features=512, out_features=30)\n",
        "\n",
        "device = torch.device('cuda')\n",
        "model = model.to(device)\n",
        "\n",
        "loss_fun = torch.nn.MSELoss()\n",
        "optimizer = torch.optim.Adam(model.parameters(), lr = 0.001)"
      ],
      "execution_count": 5,
      "outputs": []
    },
    {
      "cell_type": "code",
      "metadata": {
        "colab": {
          "base_uri": "https://localhost:8080/"
        },
        "id": "TptRctHPS4Cm",
        "outputId": "52681087-3ecf-4fdf-f934-3cd53f0a762c"
      },
      "source": [
        "num_epochs = 10\n",
        "N_train = len(dataset_train)\n",
        "N_val = len(dataset_val)\n",
        "\n",
        "train_losses = []\n",
        "val_losses = []\n",
        "\n",
        "for ep in range(num_epochs):\n",
        "\n",
        "    model.train()\n",
        "    train_loss = 0.0\n",
        "    batch_idx = 0\n",
        "    \n",
        "    for X_batch, Y_batch in dataloader_train:\n",
        "        \n",
        "        X_batch = X_batch.to(device)\n",
        "        Y_batch = Y_batch.to(device)\n",
        "        \n",
        "        N_batch = X_batch.shape[0]\n",
        "        outputs = model(X_batch)\n",
        "        loss_oneBatch = loss_fun(outputs, Y_batch)\n",
        "        \n",
        "        model.zero_grad()\n",
        "        loss_oneBatch.backward()\n",
        "        optimizer.step()\n",
        "        \n",
        "        train_loss += loss_oneBatch*N_batch\n",
        "        \n",
        "    model.eval()\n",
        "    val_loss = 0.0\n",
        "    for X_batch, Y_batch in dataloader_val:\n",
        "        X_batch = X_batch.to(device)\n",
        "        Y_batch = Y_batch.to(device)\n",
        "        \n",
        "        with torch.no_grad():\n",
        "            \n",
        "            N_batch = X_batch.shape[0]\n",
        "            outputs = model(X_batch)\n",
        "            loss_oneBatch = loss_fun(outputs, Y_batch)\n",
        "            val_loss += loss_oneBatch*N_batch\n",
        "            \n",
        "    train_losses.append(train_loss/N_train)\n",
        "    val_losses.append(val_loss/N_val)\n",
        "    \n",
        "    print('epoch: ', ep, 'train loss: ', train_loss/N_train, 'validation loss: ', val_loss/N_val)"
      ],
      "execution_count": 7,
      "outputs": [
        {
          "output_type": "stream",
          "text": [
            "epoch:  0 train loss:  tensor(1931.5220, device='cuda:0', grad_fn=<DivBackward0>) validation loss:  tensor(900.5385, device='cuda:0')\n",
            "epoch:  1 train loss:  tensor(805.5688, device='cuda:0', grad_fn=<DivBackward0>) validation loss:  tensor(343.1469, device='cuda:0')\n",
            "epoch:  2 train loss:  tensor(275.8622, device='cuda:0', grad_fn=<DivBackward0>) validation loss:  tensor(116.2086, device='cuda:0')\n",
            "epoch:  3 train loss:  tensor(80.2554, device='cuda:0', grad_fn=<DivBackward0>) validation loss:  tensor(33.3698, device='cuda:0')\n",
            "epoch:  4 train loss:  tensor(22.8968, device='cuda:0', grad_fn=<DivBackward0>) validation loss:  tensor(15.1034, device='cuda:0')\n",
            "epoch:  5 train loss:  tensor(10.6487, device='cuda:0', grad_fn=<DivBackward0>) validation loss:  tensor(9.6296, device='cuda:0')\n",
            "epoch:  6 train loss:  tensor(8.6542, device='cuda:0', grad_fn=<DivBackward0>) validation loss:  tensor(10.1937, device='cuda:0')\n",
            "epoch:  7 train loss:  tensor(8.2832, device='cuda:0', grad_fn=<DivBackward0>) validation loss:  tensor(11.1235, device='cuda:0')\n",
            "epoch:  8 train loss:  tensor(7.8870, device='cuda:0', grad_fn=<DivBackward0>) validation loss:  tensor(12.0195, device='cuda:0')\n",
            "epoch:  9 train loss:  tensor(7.3487, device='cuda:0', grad_fn=<DivBackward0>) validation loss:  tensor(11.7279, device='cuda:0')\n"
          ],
          "name": "stdout"
        }
      ]
    },
    {
      "cell_type": "code",
      "metadata": {
        "colab": {
          "base_uri": "https://localhost:8080/",
          "height": 298
        },
        "id": "YPsReIikVi2K",
        "outputId": "76ade287-9202-441c-81a1-4bc9cfe8af49"
      },
      "source": [
        "plt.plot(train_losses, label = 'training loss')\n",
        "plt.plot(val_losses, label = 'validation loss')\n",
        "\n",
        "plt.legend(loc = 'upper right')\n",
        "plt.title('Objective function value value versus epoch')"
      ],
      "execution_count": 155,
      "outputs": [
        {
          "output_type": "execute_result",
          "data": {
            "text/plain": [
              "Text(0.5, 1.0, 'Objective function value value versus epoch')"
            ]
          },
          "metadata": {
            "tags": []
          },
          "execution_count": 155
        },
        {
          "output_type": "display_data",
          "data": {
            "image/png": "[encoded data removed]",
            "text/plain": [
              "<Figure size 432x288 with 1 Axes>"
            ]
          },
          "metadata": {
            "tags": [],
            "needs_background": "light"
          }
        }
      ]
    },
    {
      "cell_type": "code",
      "metadata": {
        "colab": {
          "base_uri": "https://localhost:8080/",
          "height": 298
        },
        "id": "RhetEzAxYabB",
        "outputId": "f3879faf-1555-4a86-d1d5-d8963647a2cf"
      },
      "source": [
        "plt.plot(train_losses[4:], label = 'training loss')\n",
        "plt.plot(val_losses[4:], label = 'validation loss')\n",
        "\n",
        "plt.legend(loc = 'upper right')\n",
        "plt.title('Objective function value value versus epoch')"
      ],
      "execution_count": 156,
      "outputs": [
        {
          "output_type": "execute_result",
          "data": {
            "text/plain": [
              "Text(0.5, 1.0, 'Objective function value value versus epoch')"
            ]
          },
          "metadata": {
            "tags": []
          },
          "execution_count": 156
        },
        {
          "output_type": "display_data",
          "data": {
            "image/png": "[encoded data removed]",
            "text/plain": [
              "<Figure size 432x288 with 1 Axes>"
            ]
          },
          "metadata": {
            "tags": [],
            "needs_background": "light"
          }
        }
      ]
    },
    {
      "cell_type": "markdown",
      "metadata": {
        "id": "YVFtXYXIYweX"
      },
      "source": [
        "# Part #3 Data Augmentation!"
      ]
    },
    {
      "cell_type": "markdown",
      "metadata": {
        "id": "AbNaze5QskPg"
      },
      "source": [
        "Here we use the data augmentation functionality that we previously built to "
      ]
    },
    {
      "cell_type": "code",
      "metadata": {
        "id": "p8Ne2_rbfxH7"
      },
      "source": [
        "dataset_train = DigitsDatasetForRGB(df_train, True)\n",
        "dataset_val = DigitsDatasetForRGB(df_val, True)\n",
        "\n",
        "dataloader_train = torch.utils.data.DataLoader(dataset_train, batch_size = 64, shuffle = True)\n",
        "dataloader_val = torch.utils.data.DataLoader(dataset_val, batch_size = 64, shuffle = True)"
      ],
      "execution_count": 157,
      "outputs": []
    },
    {
      "cell_type": "code",
      "metadata": {
        "id": "z28pY72zfsSp"
      },
      "source": [
        "#For resnet\n",
        "model = torchvision.models.resnet18(pretrained = True)\n",
        "model.fc = torch.nn.Linear(in_features=512, out_features=30)\n",
        "\n",
        "device = torch.device('cuda')\n",
        "model = model.to(device)\n",
        "\n",
        "loss_fun = torch.nn.MSELoss()\n",
        "optimizer = torch.optim.Adam(model.parameters(), lr = 0.001)"
      ],
      "execution_count": 158,
      "outputs": []
    },
    {
      "cell_type": "code",
      "metadata": {
        "colab": {
          "base_uri": "https://localhost:8080/"
        },
        "id": "HaNG82R8fs-K",
        "outputId": "f97aa511-19a4-476b-8e40-4e8a236c6b71"
      },
      "source": [
        "num_epochs = 10\n",
        "N_train = len(dataset_train)\n",
        "N_val = len(dataset_val)\n",
        "\n",
        "train_losses = []\n",
        "val_losses = []\n",
        "\n",
        "for ep in range(num_epochs):\n",
        "\n",
        "    model.train()\n",
        "    train_loss = 0.0\n",
        "    batch_idx = 0\n",
        "    \n",
        "    for X_batch, Y_batch in dataloader_train:\n",
        "        \n",
        "        X_batch = X_batch.to(device)\n",
        "        Y_batch = Y_batch.to(device)\n",
        "        \n",
        "        N_batch = X_batch.shape[0]\n",
        "        outputs = model(X_batch)\n",
        "        loss_oneBatch = loss_fun(outputs, Y_batch)\n",
        "        \n",
        "        model.zero_grad()\n",
        "        loss_oneBatch.backward()\n",
        "        optimizer.step()\n",
        "        \n",
        "        train_loss += loss_oneBatch*N_batch\n",
        "        \n",
        "    model.eval()\n",
        "    val_loss = 0.0\n",
        "    for X_batch, Y_batch in dataloader_val:\n",
        "        X_batch = X_batch.to(device)\n",
        "        Y_batch = Y_batch.to(device)\n",
        "        \n",
        "        with torch.no_grad():\n",
        "            \n",
        "            N_batch = X_batch.shape[0]\n",
        "            outputs = model(X_batch)\n",
        "            loss_oneBatch = loss_fun(outputs, Y_batch)\n",
        "            val_loss += loss_oneBatch*N_batch\n",
        "            \n",
        "    train_losses.append(train_loss/N_train)\n",
        "    val_losses.append(val_loss/N_val)\n",
        "    \n",
        "    print('epoch: ', ep, 'train loss: ', train_loss/N_train, 'validation loss: ', val_loss/N_val)"
      ],
      "execution_count": 159,
      "outputs": [
        {
          "output_type": "stream",
          "text": [
            "epoch:  0 train loss:  tensor(1927.2825, device='cuda:0', grad_fn=<DivBackward0>) validation loss:  tensor(864.2728, device='cuda:0')\n",
            "epoch:  1 train loss:  tensor(797.3791, device='cuda:0', grad_fn=<DivBackward0>) validation loss:  tensor(355.3613, device='cuda:0')\n",
            "epoch:  2 train loss:  tensor(269.1956, device='cuda:0', grad_fn=<DivBackward0>) validation loss:  tensor(112.1131, device='cuda:0')\n",
            "epoch:  3 train loss:  tensor(77.2030, device='cuda:0', grad_fn=<DivBackward0>) validation loss:  tensor(40.8348, device='cuda:0')\n",
            "epoch:  4 train loss:  tensor(22.2597, device='cuda:0', grad_fn=<DivBackward0>) validation loss:  tensor(16.3067, device='cuda:0')\n",
            "epoch:  5 train loss:  tensor(10.8129, device='cuda:0', grad_fn=<DivBackward0>) validation loss:  tensor(11.4284, device='cuda:0')\n",
            "epoch:  6 train loss:  tensor(9.0806, device='cuda:0', grad_fn=<DivBackward0>) validation loss:  tensor(14.8949, device='cuda:0')\n",
            "epoch:  7 train loss:  tensor(8.7751, device='cuda:0', grad_fn=<DivBackward0>) validation loss:  tensor(12.9940, device='cuda:0')\n",
            "epoch:  8 train loss:  tensor(8.6906, device='cuda:0', grad_fn=<DivBackward0>) validation loss:  tensor(21.4923, device='cuda:0')\n",
            "epoch:  9 train loss:  tensor(8.3287, device='cuda:0', grad_fn=<DivBackward0>) validation loss:  tensor(13.1170, device='cuda:0')\n"
          ],
          "name": "stdout"
        }
      ]
    },
    {
      "cell_type": "code",
      "metadata": {
        "colab": {
          "base_uri": "https://localhost:8080/",
          "height": 298
        },
        "id": "P8IxUme2gH6y",
        "outputId": "d2e4d395-8854-4c11-f4b5-092c15658fa9"
      },
      "source": [
        "plt.plot(train_losses, label = 'training loss')\n",
        "plt.plot(val_losses, label = 'validation loss')\n",
        "\n",
        "plt.legend(loc = 'upper right')\n",
        "plt.title('Objective function value value versus epoch')"
      ],
      "execution_count": 160,
      "outputs": [
        {
          "output_type": "execute_result",
          "data": {
            "text/plain": [
              "Text(0.5, 1.0, 'Objective function value value versus epoch')"
            ]
          },
          "metadata": {
            "tags": []
          },
          "execution_count": 160
        },
        {
          "output_type": "display_data",
          "data": {
            "image/png": "[encoded data removed]",
            "text/plain": [
              "<Figure size 432x288 with 1 Axes>"
            ]
          },
          "metadata": {
            "tags": [],
            "needs_background": "light"
          }
        }
      ]
    },
    {
      "cell_type": "markdown",
      "metadata": {
        "id": "jDlGqHj4uUCo"
      },
      "source": [
        "# PART #4: Tying it all together\n",
        "\n",
        "\n",
        "## Architectures and Structures of Models\n",
        "\n",
        "Now that the models have been built built, loss over epochs has been graphed, architectures have been fiddled with, and multiple different learning rates have been tested for all three of our models, the following architectures and stats are what I believe give the best output for each of the three models\n",
        "\n",
        "  ### 1. Simple Convelutional Neural Network:\n",
        "\n",
        "\n",
        "  a. Architecture: \n",
        "\n",
        "\n",
        "    Depth = 1\n",
        "    Convelutional Nodes = 32\n",
        "    Size of Filter = 3x3\n",
        "    Dense Layer = 30976 inputs, 30 outputs\n",
        "\n",
        "  b. Training the model:\n",
        "\n",
        "    The logic for the following choices can be seen and is explained in the graphs which show objective function value vs epochs.  \n",
        "\n",
        "    epochs = 5\n",
        "    learning rate = 0.1\n",
        "\n",
        "\n",
        "\n",
        "   \n",
        " \n",
        "\n",
        "### 2. Convelutional Neural Network Trained on RESNET:\n",
        "\n",
        "  a. Architecture: \n",
        "    \n",
        "    \n",
        "    Depth = 1\n",
        "    Convelutional nodes = 32\n",
        "    size of filter = 3x3\n",
        "    Dense Layer = 30976 inputs, 30 outputs\n",
        "\n",
        "  b. Training the model:\n",
        "\n",
        "    The logic for the following choices can be seen and is explained in the graphs which show objective function value vs epochs.  \n",
        "\n",
        "    epochs = 5\n",
        "    learning rate = 0.001\n",
        "\n",
        "\n",
        "\n",
        "### 3. Convelutional Neural Network with Augmented Data Trained on resnet:\n",
        "\n",
        "  a. Architecture: \n",
        "    \n",
        "    \n",
        "    Depth = 1\n",
        "    Convelutional nodes = 64\n",
        "    size of filter = 7x7\n",
        "    Dense Layer = 512 inputs, 30 outputs\n",
        "\n",
        "\n",
        "  b. Training the model:\n",
        "\n",
        "    The logic for the following choices can be seen and is explained in the graphs which show objective function value vs epochs.  \n",
        "\n",
        "    epochs = 7\n",
        "    learning rate = 0.001\n",
        "\n",
        "\n",
        "\n",
        "\n",
        "\n",
        "  "
      ]
    },
    {
      "cell_type": "markdown",
      "metadata": {
        "id": "ot2wSJeg0oeN"
      },
      "source": [
        "# Results\n",
        "\n",
        "### 1. Simple Convelutional Neural Network:\n",
        "\n",
        "\n",
        "  Loss: \n",
        "\n",
        "    Training set Loss:\n",
        "        1st epoch: 3.1975e+10\n",
        "        Final epoch: 10.4723\n",
        "\n",
        "    Validation Set loss: \n",
        "        1st epoch: 86.7408\n",
        "        Final epoch: 10.6460\n",
        "\n",
        "\n",
        "\n",
        "\n",
        "   \n",
        " \n",
        "\n",
        "### 2. Convelutional Neural Network Trained on RESNET:\n",
        "\n",
        "  Loss: \n",
        "\n",
        "    Training set Loss:\n",
        "        1st epoch: 1812.8149\n",
        "        Final epoch: 19.6327\n",
        "\n",
        "    Validation Set loss:\n",
        "        1st epoch: 789.5609\n",
        "        Final epoch: 11.6147\n",
        "\n",
        "\n",
        "\n",
        "\n",
        "### 3. Convelutional Neural Network with Augmented Data Trained on resnet:\n",
        "\n",
        "\n",
        "  Loss: \n",
        "\n",
        "    Training set Loss:\n",
        "        1st epoch: 1808.2867\n",
        "        Final epoch: 8.7980\n",
        "\n",
        "    Validation Set loss: \n",
        "        1st epoch: 913.7388\n",
        "        Final epoch: 9.9740\n"
      ]
    },
    {
      "cell_type": "markdown",
      "metadata": {
        "id": "bmDOkl1R3f5R"
      },
      "source": [
        "# Kaggle entry and predictions"
      ]
    },
    {
      "cell_type": "markdown",
      "metadata": {
        "id": "o22Vfm6GBkfG"
      },
      "source": [
        "## Retrain model\n",
        "\n",
        "For this I am going to retrain the data augmentation model will the previously decided epochs we observed in the graph of epochs vs loss."
      ]
    },
    {
      "cell_type": "code",
      "metadata": {
        "id": "7Pn6jJ8EB3VF"
      },
      "source": [
        "#For resnet\n",
        "model = torchvision.models.resnet18(pretrained = True)\n",
        "model.fc = torch.nn.Linear(in_features=512, out_features=30)\n",
        "\n",
        "device = torch.device('cuda')\n",
        "model = model.to(device)\n",
        "\n",
        "loss_fun = torch.nn.MSELoss()\n",
        "optimizer = torch.optim.Adam(model.parameters(), lr = 0.001)\n",
        "\n",
        "dataset_train = DigitsDatasetForRGB(df_train, True)\n",
        "dataset_val = DigitsDatasetForRGB(df_val, True)\n",
        "\n",
        "dataloader_train = torch.utils.data.DataLoader(dataset_train, batch_size = 64, shuffle = True)\n",
        "dataloader_val = torch.utils.data.DataLoader(dataset_val, batch_size = 64, shuffle = True)"
      ],
      "execution_count": 8,
      "outputs": []
    },
    {
      "cell_type": "code",
      "metadata": {
        "colab": {
          "base_uri": "https://localhost:8080/"
        },
        "id": "zD7l_zy8BjAv",
        "outputId": "aed02db5-cec5-429f-edc7-da7f5a054f0d"
      },
      "source": [
        "num_epochs = 7\n",
        "N_train = len(dataset_train)\n",
        "N_val = len(dataset_val)\n",
        "\n",
        "train_losses = []\n",
        "val_losses = []\n",
        "\n",
        "for ep in range(num_epochs):\n",
        "\n",
        "    model.train()\n",
        "    train_loss = 0.0\n",
        "    batch_idx = 0\n",
        "    \n",
        "    for X_batch, Y_batch in dataloader_train:\n",
        "        \n",
        "        X_batch = X_batch.to(device)\n",
        "        Y_batch = Y_batch.to(device)\n",
        "        \n",
        "        N_batch = X_batch.shape[0]\n",
        "        outputs = model(X_batch)\n",
        "        loss_oneBatch = loss_fun(outputs, Y_batch)\n",
        "        \n",
        "        model.zero_grad()\n",
        "        loss_oneBatch.backward()\n",
        "        optimizer.step()\n",
        "        \n",
        "        train_loss += loss_oneBatch*N_batch\n",
        "        \n",
        "    model.eval()\n",
        "    val_loss = 0.0\n",
        "    for X_batch, Y_batch in dataloader_val:\n",
        "        X_batch = X_batch.to(device)\n",
        "        Y_batch = Y_batch.to(device)\n",
        "        \n",
        "        with torch.no_grad():\n",
        "            \n",
        "            N_batch = X_batch.shape[0]\n",
        "            outputs = model(X_batch)\n",
        "            loss_oneBatch = loss_fun(outputs, Y_batch)\n",
        "            val_loss += loss_oneBatch*N_batch\n",
        "            \n",
        "    train_losses.append(train_loss/N_train)\n",
        "    val_losses.append(val_loss/N_val)\n",
        "    \n",
        "    print('epoch: ', ep, 'train loss: ', train_loss/N_train, 'validation loss: ', val_loss/N_val)"
      ],
      "execution_count": 9,
      "outputs": [
        {
          "output_type": "stream",
          "text": [
            "epoch:  0 train loss:  tensor(1918.4764, device='cuda:0', grad_fn=<DivBackward0>) validation loss:  tensor(686.6243, device='cuda:0')\n",
            "epoch:  1 train loss:  tensor(791.3206, device='cuda:0', grad_fn=<DivBackward0>) validation loss:  tensor(333.6642, device='cuda:0')\n",
            "epoch:  2 train loss:  tensor(266.6734, device='cuda:0', grad_fn=<DivBackward0>) validation loss:  tensor(102.6489, device='cuda:0')\n",
            "epoch:  3 train loss:  tensor(76.0332, device='cuda:0', grad_fn=<DivBackward0>) validation loss:  tensor(40.6730, device='cuda:0')\n",
            "epoch:  4 train loss:  tensor(21.9675, device='cuda:0', grad_fn=<DivBackward0>) validation loss:  tensor(19.7030, device='cuda:0')\n",
            "epoch:  5 train loss:  tensor(10.8772, device='cuda:0', grad_fn=<DivBackward0>) validation loss:  tensor(10.5521, device='cuda:0')\n",
            "epoch:  6 train loss:  tensor(9.1067, device='cuda:0', grad_fn=<DivBackward0>) validation loss:  tensor(9.6413, device='cuda:0')\n"
          ],
          "name": "stdout"
        }
      ]
    },
    {
      "cell_type": "markdown",
      "metadata": {
        "id": "2af2LfsR5wtF"
      },
      "source": [
        "### Shape data\n",
        "\n",
        "Because the Kaggle data of course does not have the correct labels or answers, I created 30 dummy columns filled with 0's so that the data could be easily fed into the data class without difficult modifications to the data class itself."
      ]
    },
    {
      "cell_type": "code",
      "metadata": {
        "colab": {
          "base_uri": "https://localhost:8080/"
        },
        "id": "STe9WfbGy7_h",
        "outputId": "8400e154-0432-41c8-e73c-72a44bccc395"
      },
      "source": [
        "KaggleData = pd.read_csv('/content/drive/MyDrive/FinalProjectData/test.csv')\n",
        "df = KaggleData\n",
        "df = df.reindex(columns=list('A')*30).fillna(0)\n",
        "df['Image'] = KaggleData['Image']\n",
        "df.shape"
      ],
      "execution_count": 10,
      "outputs": [
        {
          "output_type": "execute_result",
          "data": {
            "text/plain": [
              "(1783, 31)"
            ]
          },
          "metadata": {
            "tags": []
          },
          "execution_count": 10
        }
      ]
    },
    {
      "cell_type": "markdown",
      "metadata": {
        "id": "FTUAay1L6nYp"
      },
      "source": [
        "### Data object\n",
        "\n",
        "We set shuffle to false as we need it in the correct order for the Kaggle submission and then feed it into our data augmentation class. We also set the batch size to be the size of the entire dataset so we can just toss the output into a dataframe then .csv for easy submission to Kaggle.\n"
      ]
    },
    {
      "cell_type": "code",
      "metadata": {
        "id": "tnn_XCQ34uu1"
      },
      "source": [
        "dataset_Kaggle = DigitsDatasetForRGB(df, True)\n",
        "dataloader_Kaggle = torch.utils.data.DataLoader(dataset_Kaggle, batch_size = 1783, shuffle = False)\n"
      ],
      "execution_count": 11,
      "outputs": []
    },
    {
      "cell_type": "markdown",
      "metadata": {
        "id": "4rcuT9EU7fkH"
      },
      "source": [
        "### Sanity check\n",
        "\n",
        "Here we are printing out one of the images and can see the augmentation being done to the face"
      ]
    },
    {
      "cell_type": "code",
      "metadata": {
        "colab": {
          "base_uri": "https://localhost:8080/",
          "height": 285
        },
        "id": "KTmh_YdV6Z4h",
        "outputId": "db59e8f3-6138-4fe0-c2aa-406cc684bb95"
      },
      "source": [
        "X_batch, Y_batch = next(iter(dataloader_Kaggle))\n",
        "plt.imshow(X_batch[0][0],cmap='gray')\n",
        "len(Y_batch[0])"
      ],
      "execution_count": 12,
      "outputs": [
        {
          "output_type": "execute_result",
          "data": {
            "text/plain": [
              "30"
            ]
          },
          "metadata": {
            "tags": []
          },
          "execution_count": 12
        },
        {
          "output_type": "display_data",
          "data": {
            "image/png": "[encoded data removed]",
            "text/plain": [
              "<Figure size 432x288 with 1 Axes>"
            ]
          },
          "metadata": {
            "tags": [],
            "needs_background": "light"
          }
        }
      ]
    },
    {
      "cell_type": "code",
      "metadata": {
        "id": "SLWkeUMfEsCD"
      },
      "source": [
        "X_batch = X_batch.to(device)\n",
        "KaggleResults = model(X_batch)"
      ],
      "execution_count": 13,
      "outputs": []
    },
    {
      "cell_type": "code",
      "metadata": {
        "colab": {
          "base_uri": "https://localhost:8080/",
          "height": 439
        },
        "id": "qqPTQAUzElhM",
        "outputId": "8f9d17e8-9864-4e73-d544-d154d7a816f7"
      },
      "source": [
        "df = pd.DataFrame(KaggleResults.tolist())\n",
        "df"
      ],
      "execution_count": 14,
      "outputs": [
        {
          "output_type": "execute_result",
          "data": {
            "text/html": [
              "<div>\n",
              "<style scoped>\n",
              "    .dataframe tbody tr th:only-of-type {\n",
              "        vertical-align: middle;\n",
              "    }\n",
              "\n",
              "    .dataframe tbody tr th {\n",
              "        vertical-align: top;\n",
              "    }\n",
              "\n",
              "    .dataframe thead th {\n",
              "        text-align: right;\n",
              "    }\n",
              "</style>\n",
              "<table border=\"1\" class=\"dataframe\">\n",
              "  <thead>\n",
              "    <tr style=\"text-align: right;\">\n",
              "      <th></th>\n",
              "      <th>0</th>\n",
              "      <th>1</th>\n",
              "      <th>2</th>\n",
              "      <th>3</th>\n",
              "      <th>4</th>\n",
              "      <th>5</th>\n",
              "      <th>6</th>\n",
              "      <th>7</th>\n",
              "      <th>8</th>\n",
              "      <th>9</th>\n",
              "      <th>10</th>\n",
              "      <th>11</th>\n",
              "      <th>12</th>\n",
              "      <th>13</th>\n",
              "      <th>14</th>\n",
              "      <th>15</th>\n",
              "      <th>16</th>\n",
              "      <th>17</th>\n",
              "      <th>18</th>\n",
              "      <th>19</th>\n",
              "      <th>20</th>\n",
              "      <th>21</th>\n",
              "      <th>22</th>\n",
              "      <th>23</th>\n",
              "      <th>24</th>\n",
              "      <th>25</th>\n",
              "      <th>26</th>\n",
              "      <th>27</th>\n",
              "      <th>28</th>\n",
              "      <th>29</th>\n",
              "    </tr>\n",
              "  </thead>\n",
              "  <tbody>\n",
              "    <tr>\n",
              "      <th>0</th>\n",
              "      <td>64.874290</td>\n",
              "      <td>36.058784</td>\n",
              "      <td>28.969097</td>\n",
              "      <td>36.296040</td>\n",
              "      <td>58.061974</td>\n",
              "      <td>37.037445</td>\n",
              "      <td>71.663887</td>\n",
              "      <td>36.788483</td>\n",
              "      <td>35.743389</td>\n",
              "      <td>37.100777</td>\n",
              "      <td>21.889536</td>\n",
              "      <td>37.253071</td>\n",
              "      <td>54.917404</td>\n",
              "      <td>28.586884</td>\n",
              "      <td>77.145485</td>\n",
              "      <td>28.909775</td>\n",
              "      <td>38.376682</td>\n",
              "      <td>28.790245</td>\n",
              "      <td>15.546316</td>\n",
              "      <td>29.788534</td>\n",
              "      <td>46.864555</td>\n",
              "      <td>55.978550</td>\n",
              "      <td>62.188931</td>\n",
              "      <td>73.962044</td>\n",
              "      <td>32.264141</td>\n",
              "      <td>74.208618</td>\n",
              "      <td>46.954121</td>\n",
              "      <td>71.055222</td>\n",
              "      <td>47.072575</td>\n",
              "      <td>79.840408</td>\n",
              "    </tr>\n",
              "    <tr>\n",
              "      <th>1</th>\n",
              "      <td>67.030243</td>\n",
              "      <td>37.252567</td>\n",
              "      <td>29.917543</td>\n",
              "      <td>37.502590</td>\n",
              "      <td>59.976055</td>\n",
              "      <td>38.266506</td>\n",
              "      <td>74.041756</td>\n",
              "      <td>38.020054</td>\n",
              "      <td>36.929611</td>\n",
              "      <td>38.338432</td>\n",
              "      <td>22.606909</td>\n",
              "      <td>38.496857</td>\n",
              "      <td>56.731003</td>\n",
              "      <td>29.545174</td>\n",
              "      <td>79.719162</td>\n",
              "      <td>29.879276</td>\n",
              "      <td>39.643154</td>\n",
              "      <td>29.761230</td>\n",
              "      <td>16.034594</td>\n",
              "      <td>30.783642</td>\n",
              "      <td>48.407856</td>\n",
              "      <td>57.868732</td>\n",
              "      <td>64.255562</td>\n",
              "      <td>76.458473</td>\n",
              "      <td>33.315044</td>\n",
              "      <td>76.715508</td>\n",
              "      <td>48.514198</td>\n",
              "      <td>73.483345</td>\n",
              "      <td>48.626862</td>\n",
              "      <td>82.530533</td>\n",
              "    </tr>\n",
              "    <tr>\n",
              "      <th>2</th>\n",
              "      <td>64.207787</td>\n",
              "      <td>35.692699</td>\n",
              "      <td>28.677876</td>\n",
              "      <td>35.919853</td>\n",
              "      <td>57.470177</td>\n",
              "      <td>36.651745</td>\n",
              "      <td>70.921867</td>\n",
              "      <td>36.401611</td>\n",
              "      <td>35.376595</td>\n",
              "      <td>36.724300</td>\n",
              "      <td>21.669243</td>\n",
              "      <td>36.862774</td>\n",
              "      <td>54.353794</td>\n",
              "      <td>28.294197</td>\n",
              "      <td>76.338692</td>\n",
              "      <td>28.609415</td>\n",
              "      <td>37.976547</td>\n",
              "      <td>28.493320</td>\n",
              "      <td>15.393057</td>\n",
              "      <td>29.476099</td>\n",
              "      <td>46.383163</td>\n",
              "      <td>55.391338</td>\n",
              "      <td>61.548157</td>\n",
              "      <td>73.186249</td>\n",
              "      <td>31.931574</td>\n",
              "      <td>73.433784</td>\n",
              "      <td>46.469120</td>\n",
              "      <td>70.306107</td>\n",
              "      <td>46.596180</td>\n",
              "      <td>78.999283</td>\n",
              "    </tr>\n",
              "    <tr>\n",
              "      <th>3</th>\n",
              "      <td>66.490540</td>\n",
              "      <td>36.948624</td>\n",
              "      <td>29.676941</td>\n",
              "      <td>37.199417</td>\n",
              "      <td>59.494053</td>\n",
              "      <td>37.961235</td>\n",
              "      <td>73.446182</td>\n",
              "      <td>37.712154</td>\n",
              "      <td>36.628857</td>\n",
              "      <td>38.024559</td>\n",
              "      <td>22.423227</td>\n",
              "      <td>38.185753</td>\n",
              "      <td>56.274982</td>\n",
              "      <td>29.302818</td>\n",
              "      <td>79.070724</td>\n",
              "      <td>29.635628</td>\n",
              "      <td>39.325344</td>\n",
              "      <td>29.511225</td>\n",
              "      <td>15.912539</td>\n",
              "      <td>30.537106</td>\n",
              "      <td>48.022644</td>\n",
              "      <td>57.394936</td>\n",
              "      <td>63.734280</td>\n",
              "      <td>75.830116</td>\n",
              "      <td>33.054939</td>\n",
              "      <td>76.084579</td>\n",
              "      <td>48.121067</td>\n",
              "      <td>72.876213</td>\n",
              "      <td>48.235756</td>\n",
              "      <td>81.853477</td>\n",
              "    </tr>\n",
              "    <tr>\n",
              "      <th>4</th>\n",
              "      <td>66.040359</td>\n",
              "      <td>36.704918</td>\n",
              "      <td>29.481310</td>\n",
              "      <td>36.945175</td>\n",
              "      <td>59.094696</td>\n",
              "      <td>37.701229</td>\n",
              "      <td>72.952629</td>\n",
              "      <td>37.452023</td>\n",
              "      <td>36.384701</td>\n",
              "      <td>37.769691</td>\n",
              "      <td>22.275028</td>\n",
              "      <td>37.925121</td>\n",
              "      <td>55.896839</td>\n",
              "      <td>29.102463</td>\n",
              "      <td>78.534790</td>\n",
              "      <td>29.433636</td>\n",
              "      <td>39.063927</td>\n",
              "      <td>29.314003</td>\n",
              "      <td>15.808623</td>\n",
              "      <td>30.325260</td>\n",
              "      <td>47.699085</td>\n",
              "      <td>56.998550</td>\n",
              "      <td>63.305618</td>\n",
              "      <td>75.311996</td>\n",
              "      <td>32.834114</td>\n",
              "      <td>75.566452</td>\n",
              "      <td>47.794632</td>\n",
              "      <td>72.369553</td>\n",
              "      <td>47.912251</td>\n",
              "      <td>81.293327</td>\n",
              "    </tr>\n",
              "    <tr>\n",
              "      <th>...</th>\n",
              "      <td>...</td>\n",
              "      <td>...</td>\n",
              "      <td>...</td>\n",
              "      <td>...</td>\n",
              "      <td>...</td>\n",
              "      <td>...</td>\n",
              "      <td>...</td>\n",
              "      <td>...</td>\n",
              "      <td>...</td>\n",
              "      <td>...</td>\n",
              "      <td>...</td>\n",
              "      <td>...</td>\n",
              "      <td>...</td>\n",
              "      <td>...</td>\n",
              "      <td>...</td>\n",
              "      <td>...</td>\n",
              "      <td>...</td>\n",
              "      <td>...</td>\n",
              "      <td>...</td>\n",
              "      <td>...</td>\n",
              "      <td>...</td>\n",
              "      <td>...</td>\n",
              "      <td>...</td>\n",
              "      <td>...</td>\n",
              "      <td>...</td>\n",
              "      <td>...</td>\n",
              "      <td>...</td>\n",
              "      <td>...</td>\n",
              "      <td>...</td>\n",
              "      <td>...</td>\n",
              "    </tr>\n",
              "    <tr>\n",
              "      <th>1778</th>\n",
              "      <td>66.734390</td>\n",
              "      <td>37.083088</td>\n",
              "      <td>29.784115</td>\n",
              "      <td>37.332840</td>\n",
              "      <td>59.712879</td>\n",
              "      <td>38.097134</td>\n",
              "      <td>73.712875</td>\n",
              "      <td>37.849400</td>\n",
              "      <td>36.760796</td>\n",
              "      <td>38.162430</td>\n",
              "      <td>22.501150</td>\n",
              "      <td>38.325382</td>\n",
              "      <td>56.478992</td>\n",
              "      <td>29.409908</td>\n",
              "      <td>79.358269</td>\n",
              "      <td>29.744709</td>\n",
              "      <td>39.466145</td>\n",
              "      <td>29.620079</td>\n",
              "      <td>15.973285</td>\n",
              "      <td>30.648642</td>\n",
              "      <td>48.197407</td>\n",
              "      <td>57.608089</td>\n",
              "      <td>63.964073</td>\n",
              "      <td>76.108833</td>\n",
              "      <td>33.177269</td>\n",
              "      <td>76.363678</td>\n",
              "      <td>48.300034</td>\n",
              "      <td>73.149040</td>\n",
              "      <td>48.407215</td>\n",
              "      <td>82.156723</td>\n",
              "    </tr>\n",
              "    <tr>\n",
              "      <th>1779</th>\n",
              "      <td>66.606346</td>\n",
              "      <td>37.021034</td>\n",
              "      <td>29.732122</td>\n",
              "      <td>37.266003</td>\n",
              "      <td>59.601414</td>\n",
              "      <td>38.027252</td>\n",
              "      <td>73.577911</td>\n",
              "      <td>37.780811</td>\n",
              "      <td>36.696560</td>\n",
              "      <td>38.095444</td>\n",
              "      <td>22.464869</td>\n",
              "      <td>38.255329</td>\n",
              "      <td>56.373867</td>\n",
              "      <td>29.357420</td>\n",
              "      <td>79.213600</td>\n",
              "      <td>29.686089</td>\n",
              "      <td>39.396473</td>\n",
              "      <td>29.570185</td>\n",
              "      <td>15.939408</td>\n",
              "      <td>30.587048</td>\n",
              "      <td>48.108276</td>\n",
              "      <td>57.497597</td>\n",
              "      <td>63.852264</td>\n",
              "      <td>75.970184</td>\n",
              "      <td>33.108696</td>\n",
              "      <td>76.227020</td>\n",
              "      <td>48.209141</td>\n",
              "      <td>73.010201</td>\n",
              "      <td>48.325470</td>\n",
              "      <td>82.002747</td>\n",
              "    </tr>\n",
              "    <tr>\n",
              "      <th>1780</th>\n",
              "      <td>67.763741</td>\n",
              "      <td>37.655071</td>\n",
              "      <td>30.237854</td>\n",
              "      <td>37.904770</td>\n",
              "      <td>60.624950</td>\n",
              "      <td>38.683334</td>\n",
              "      <td>74.851379</td>\n",
              "      <td>38.437916</td>\n",
              "      <td>37.328022</td>\n",
              "      <td>38.755264</td>\n",
              "      <td>22.841772</td>\n",
              "      <td>38.923553</td>\n",
              "      <td>57.346737</td>\n",
              "      <td>29.867451</td>\n",
              "      <td>80.588799</td>\n",
              "      <td>30.206375</td>\n",
              "      <td>40.072563</td>\n",
              "      <td>30.082697</td>\n",
              "      <td>16.203770</td>\n",
              "      <td>31.123556</td>\n",
              "      <td>48.934971</td>\n",
              "      <td>58.508583</td>\n",
              "      <td>64.951492</td>\n",
              "      <td>77.303375</td>\n",
              "      <td>33.682262</td>\n",
              "      <td>77.566544</td>\n",
              "      <td>49.038025</td>\n",
              "      <td>74.309334</td>\n",
              "      <td>49.147106</td>\n",
              "      <td>83.437347</td>\n",
              "    </tr>\n",
              "    <tr>\n",
              "      <th>1781</th>\n",
              "      <td>65.839966</td>\n",
              "      <td>36.591095</td>\n",
              "      <td>29.392673</td>\n",
              "      <td>36.835659</td>\n",
              "      <td>58.919010</td>\n",
              "      <td>37.588001</td>\n",
              "      <td>72.728729</td>\n",
              "      <td>37.337753</td>\n",
              "      <td>36.272854</td>\n",
              "      <td>37.652794</td>\n",
              "      <td>22.207682</td>\n",
              "      <td>37.808182</td>\n",
              "      <td>55.726910</td>\n",
              "      <td>29.015295</td>\n",
              "      <td>78.293686</td>\n",
              "      <td>29.341612</td>\n",
              "      <td>38.940895</td>\n",
              "      <td>29.220774</td>\n",
              "      <td>15.766809</td>\n",
              "      <td>30.235331</td>\n",
              "      <td>47.556046</td>\n",
              "      <td>56.822567</td>\n",
              "      <td>63.114235</td>\n",
              "      <td>75.077057</td>\n",
              "      <td>32.740505</td>\n",
              "      <td>75.328377</td>\n",
              "      <td>47.651955</td>\n",
              "      <td>72.142120</td>\n",
              "      <td>47.767990</td>\n",
              "      <td>81.038536</td>\n",
              "    </tr>\n",
              "    <tr>\n",
              "      <th>1782</th>\n",
              "      <td>69.185181</td>\n",
              "      <td>38.438484</td>\n",
              "      <td>30.856398</td>\n",
              "      <td>38.705864</td>\n",
              "      <td>61.883541</td>\n",
              "      <td>39.501175</td>\n",
              "      <td>76.413956</td>\n",
              "      <td>39.256023</td>\n",
              "      <td>38.102497</td>\n",
              "      <td>39.564148</td>\n",
              "      <td>23.316700</td>\n",
              "      <td>39.751251</td>\n",
              "      <td>58.540985</td>\n",
              "      <td>30.492470</td>\n",
              "      <td>82.296753</td>\n",
              "      <td>30.842852</td>\n",
              "      <td>40.909027</td>\n",
              "      <td>30.719622</td>\n",
              "      <td>16.530375</td>\n",
              "      <td>31.784439</td>\n",
              "      <td>49.958935</td>\n",
              "      <td>59.758820</td>\n",
              "      <td>66.310814</td>\n",
              "      <td>78.949585</td>\n",
              "      <td>34.370403</td>\n",
              "      <td>79.210670</td>\n",
              "      <td>50.074276</td>\n",
              "      <td>75.907715</td>\n",
              "      <td>50.167881</td>\n",
              "      <td>85.223923</td>\n",
              "    </tr>\n",
              "  </tbody>\n",
              "</table>\n",
              "<p>1783 rows × 30 columns</p>\n",
              "</div>"
            ],
            "text/plain": [
              "             0          1          2   ...         27         28         29\n",
              "0     64.874290  36.058784  28.969097  ...  71.055222  47.072575  79.840408\n",
              "1     67.030243  37.252567  29.917543  ...  73.483345  48.626862  82.530533\n",
              "2     64.207787  35.692699  28.677876  ...  70.306107  46.596180  78.999283\n",
              "3     66.490540  36.948624  29.676941  ...  72.876213  48.235756  81.853477\n",
              "4     66.040359  36.704918  29.481310  ...  72.369553  47.912251  81.293327\n",
              "...         ...        ...        ...  ...        ...        ...        ...\n",
              "1778  66.734390  37.083088  29.784115  ...  73.149040  48.407215  82.156723\n",
              "1779  66.606346  37.021034  29.732122  ...  73.010201  48.325470  82.002747\n",
              "1780  67.763741  37.655071  30.237854  ...  74.309334  49.147106  83.437347\n",
              "1781  65.839966  36.591095  29.392673  ...  72.142120  47.767990  81.038536\n",
              "1782  69.185181  38.438484  30.856398  ...  75.907715  50.167881  85.223923\n",
              "\n",
              "[1783 rows x 30 columns]"
            ]
          },
          "metadata": {
            "tags": []
          },
          "execution_count": 14
        }
      ]
    },
    {
      "cell_type": "code",
      "metadata": {
        "id": "eGl7n4n7FGwo"
      },
      "source": [
        "columns = pd.read_csv('/content/drive/MyDrive/FinalProjectData/training.csv').columns\n",
        "columns = columns.drop('Image')\n",
        "df.columns = columns"
      ],
      "execution_count": 26,
      "outputs": []
    },
    {
      "cell_type": "code",
      "metadata": {
        "id": "lB8LujUWLHVr"
      },
      "source": [
        "correctColumns = pd.read_csv('/content/drive/MyDrive/FinalProjectData/IdLookupTable.csv')"
      ],
      "execution_count": 44,
      "outputs": []
    },
    {
      "cell_type": "code",
      "metadata": {
        "id": "qfBaus3ON17g"
      },
      "source": [
        "for i in range(len(correctColumns)):\n",
        "  column = correctColumns.FeatureName.iloc[i]\n",
        "  imgIDX = correctColumns.ImageId.iloc[i] - 1\n",
        "  correctColumns.loc[i, 'Location'] = df[column][imgIDX]"
      ],
      "execution_count": 49,
      "outputs": []
    },
    {
      "cell_type": "code",
      "metadata": {
        "colab": {
          "base_uri": "https://localhost:8080/",
          "height": 419
        },
        "id": "j5WkE7XrP1hD",
        "outputId": "79a3b98a-b116-4aa0-fc26-d202f600c574"
      },
      "source": [
        "correctColumns"
      ],
      "execution_count": 50,
      "outputs": [
        {
          "output_type": "execute_result",
          "data": {
            "text/html": [
              "<div>\n",
              "<style scoped>\n",
              "    .dataframe tbody tr th:only-of-type {\n",
              "        vertical-align: middle;\n",
              "    }\n",
              "\n",
              "    .dataframe tbody tr th {\n",
              "        vertical-align: top;\n",
              "    }\n",
              "\n",
              "    .dataframe thead th {\n",
              "        text-align: right;\n",
              "    }\n",
              "</style>\n",
              "<table border=\"1\" class=\"dataframe\">\n",
              "  <thead>\n",
              "    <tr style=\"text-align: right;\">\n",
              "      <th></th>\n",
              "      <th>RowId</th>\n",
              "      <th>ImageId</th>\n",
              "      <th>FeatureName</th>\n",
              "      <th>Location</th>\n",
              "    </tr>\n",
              "  </thead>\n",
              "  <tbody>\n",
              "    <tr>\n",
              "      <th>0</th>\n",
              "      <td>1</td>\n",
              "      <td>1</td>\n",
              "      <td>left_eye_center_x</td>\n",
              "      <td>64.874290</td>\n",
              "    </tr>\n",
              "    <tr>\n",
              "      <th>1</th>\n",
              "      <td>2</td>\n",
              "      <td>1</td>\n",
              "      <td>left_eye_center_y</td>\n",
              "      <td>36.058784</td>\n",
              "    </tr>\n",
              "    <tr>\n",
              "      <th>2</th>\n",
              "      <td>3</td>\n",
              "      <td>1</td>\n",
              "      <td>right_eye_center_x</td>\n",
              "      <td>28.969097</td>\n",
              "    </tr>\n",
              "    <tr>\n",
              "      <th>3</th>\n",
              "      <td>4</td>\n",
              "      <td>1</td>\n",
              "      <td>right_eye_center_y</td>\n",
              "      <td>36.296040</td>\n",
              "    </tr>\n",
              "    <tr>\n",
              "      <th>4</th>\n",
              "      <td>5</td>\n",
              "      <td>1</td>\n",
              "      <td>left_eye_inner_corner_x</td>\n",
              "      <td>58.061974</td>\n",
              "    </tr>\n",
              "    <tr>\n",
              "      <th>...</th>\n",
              "      <td>...</td>\n",
              "      <td>...</td>\n",
              "      <td>...</td>\n",
              "      <td>...</td>\n",
              "    </tr>\n",
              "    <tr>\n",
              "      <th>27119</th>\n",
              "      <td>27120</td>\n",
              "      <td>1783</td>\n",
              "      <td>right_eye_center_y</td>\n",
              "      <td>38.705864</td>\n",
              "    </tr>\n",
              "    <tr>\n",
              "      <th>27120</th>\n",
              "      <td>27121</td>\n",
              "      <td>1783</td>\n",
              "      <td>nose_tip_x</td>\n",
              "      <td>49.958935</td>\n",
              "    </tr>\n",
              "    <tr>\n",
              "      <th>27121</th>\n",
              "      <td>27122</td>\n",
              "      <td>1783</td>\n",
              "      <td>nose_tip_y</td>\n",
              "      <td>59.758820</td>\n",
              "    </tr>\n",
              "    <tr>\n",
              "      <th>27122</th>\n",
              "      <td>27123</td>\n",
              "      <td>1783</td>\n",
              "      <td>mouth_center_bottom_lip_x</td>\n",
              "      <td>50.167881</td>\n",
              "    </tr>\n",
              "    <tr>\n",
              "      <th>27123</th>\n",
              "      <td>27124</td>\n",
              "      <td>1783</td>\n",
              "      <td>mouth_center_bottom_lip_y</td>\n",
              "      <td>85.223923</td>\n",
              "    </tr>\n",
              "  </tbody>\n",
              "</table>\n",
              "<p>27124 rows × 4 columns</p>\n",
              "</div>"
            ],
            "text/plain": [
              "       RowId  ImageId                FeatureName   Location\n",
              "0          1        1          left_eye_center_x  64.874290\n",
              "1          2        1          left_eye_center_y  36.058784\n",
              "2          3        1         right_eye_center_x  28.969097\n",
              "3          4        1         right_eye_center_y  36.296040\n",
              "4          5        1    left_eye_inner_corner_x  58.061974\n",
              "...      ...      ...                        ...        ...\n",
              "27119  27120     1783         right_eye_center_y  38.705864\n",
              "27120  27121     1783                 nose_tip_x  49.958935\n",
              "27121  27122     1783                 nose_tip_y  59.758820\n",
              "27122  27123     1783  mouth_center_bottom_lip_x  50.167881\n",
              "27123  27124     1783  mouth_center_bottom_lip_y  85.223923\n",
              "\n",
              "[27124 rows x 4 columns]"
            ]
          },
          "metadata": {
            "tags": []
          },
          "execution_count": 50
        }
      ]
    },
    {
      "cell_type": "code",
      "metadata": {
        "id": "felyNvmCE3wK"
      },
      "source": [
        "finalDF = correctColumns[['RowId', 'Location']]\n",
        "finalDF.to_csv('/content/drive/MyDrive/FinalProjectData/kaggleSubmission.csv', index=False)"
      ],
      "execution_count": 51,
      "outputs": []
    },
    {
      "cell_type": "markdown",
      "metadata": {
        "id": "KhdQsEwXReyI"
      },
      "source": [
        "# Final submission!\n",
        "\n",
        "With the data submitted to Kaggle I scored a score of 4.15 and got in the top 150!"
      ]
    },
    {
      "cell_type": "markdown",
      "metadata": {
        "id": "3NwuUx8HRWjN"
      },
      "source": [
        "![Screen Shot 2021-05-19 at 4.15.29 PM.png](data:image/png;base64,iVBORw0KGgoAAAANSUhEUgAAB4gAAAHKCAYAAADxZhYCAAAMamlDQ1BJQ0MgUHJvZmlsZQAASImVVwdYU8kWnluSkJDQAqFICb0J0quUEFoEAamCjZAEEkqMCUHEXhYVXLuIYkVXRRRdXQFZVMReFsXeFwsqyrqoi6KovEkBXfeV753vmzt/zpz5T8nMvTMAaPdxJZJ8VAeAAnGhNDEqjDk2PYNJ6gQYMAR0oA2oXJ5MwkpIiAVQBvu/y7sbAFH0V10UXP8c/6+ixxfIeAAg4yHO4st4BRC3AIBv4EmkhQAQFXrrqYUSBZ4Dsb4UBgjxagXOUeFdCpylws1Km+RENsSXAdCgcrnSHAC07kE9s4iXA3m0PkHsJuaLxABoD4c4mCfk8iFWxD68oGCyAldC7ADtJRDDeIBf1jecOX/jzxri53JzhrAqL6VohItkknzutP+zNP9bCvLlgz7sYKMKpdGJivxhDW/lTY5RYCrE3eKsuHhFrSHuE/FVdQcApQjl0Skqe9SUJ2PD+gEGxG58bngMxKYQR4rz42LV+qxsUSQHYrha0GJRIScZYiOIFwlkEUlqmy3SyYlqX2h9tpTNUuvPcqVKvwpfD+R5KSw1/xuhgKPmx7RKhMlpEFMgtikSpcZBrAWxqywvKUZtM7JEyI4btJHKExXx20CcKBBHhan4saJsaWSi2r6sQDaYL7ZFKOLEqfGBQmFytKo+2EkeVxk/zAW7LBCzUgZ5BLKxsYO58AXhEarcsecCcUqSmqdPUhiWqJqLUyT5CWp73EqQH6XQW0HsJStKUs/FUwvh4lTx49mSwoRkVZx4SS53VIIqHnw5iAVsEA6YQA5bFpgMcoGorbuhG/5SjUQCLpCCHCAALmrN4Iw05YgYPpNACfgDIgGQDc0LU44KQBHUfx7Sqp4uIFs5WqSckQeeQlwAYkA+/C1XzhIPeUsFT6BG9A/vXNh4MN582BTj/14/qP2qYUFNrFojH/TI1B60JEYQw4nRxEiiI26CB+OBeCx8hsLmgfvh/oN5fLUnPCW0Ex4RrhM6CLcnieZJv4tyNOiA/JHqWmR9WwvcDnJ642F4EGSHzDgDNwEuuBf0w8JDoGdvqGWr41ZUhfkd998y+ObfUNuR3cgo2ZAcSnb4fqaWk5b3EIui1t/WRxVr1lC92UMj3/tnf1N9PuxjvrfEFmEHsTPYcewc1ow1ACZ2DGvELmJHFHhodT1Rrq5Bb4nKePIgj+gf/rhqn4pKytxq3brcPqnGCgXFhYqNx54smSYV5QgLmSz4dRAwOWKe63Cmh5uHOwCKb43q9fWWofyGIIzzX3VzpwMw8uDAwEDzV10sfHsdMoPb/8+vOof38DXhBsDZuTy5tEilwxUPAnxLaMOdZgzMgTVwgPl4AB8QCEJBBBgF4kEySAcTYZWFcJ1LwVQwA8wFpaAcLAdrwHqwGWwDu8BecAA0gGZwHJwGF8BlcB3chaunE7wEPeAd6EcQhITQEDpijFggtogz4oH4IcFIBBKLJCLpSCaSg4gROTIDmY+UIyuR9chWpAb5GTmMHEfOIe3IbeQh0oW8QT6iGEpF9VEz1A4dgfqhLDQGTUYnoDnoFLQEXYAuRSvRanQPWo8eRy+g19EO9CXaiwFME2NglpgL5oexsXgsA8vGpNgsrAyrwKqxOqwJ/s9XsQ6sG/uAE3E6zsRd4AqOxlNwHj4Fn4Uvwdfju/B6/CR+FX+I9+BfCDSCKcGZEEDgEMYScghTCaWECsIOwiHCKbiXOgnviEQig2hP9IV7MZ2YS5xOXELcSNxHbCG2Ex8Te0kkkjHJmRREiidxSYWkUtI60h7SMdIVUiepT0NTw0LDQyNSI0NDrDFPo0Jjt8ZRjSsazzT6yTpkW3IAOZ7MJ08jLyNvJzeRL5E7yf0UXYo9JYiSTMmlzKVUUuoopyj3KG81NTWtNP01x2iKNOdoVmru1zyr+VDzA1WP6kRlU8dT5dSl1J3UFupt6lsajWZHC6Vl0AppS2k1tBO0B7Q+LbqWqxZHi681W6tKq17ritYrbbK2rTZLe6J2iXaF9kHtS9rdOmQdOx22Dldnlk6VzmGdmzq9unRdd9143QLdJbq7dc/pPtcj6dnpRejx9RbobdM7ofeYjtGt6Ww6jz6fvp1+it6pT9S31+fo5+qX6+/Vb9PvMdAz8DJINSg2qDI4YtDBwBh2DA4jn7GMcYBxg/HR0MyQZSgwXGxYZ3jF8L3RMKNQI4FRmdE+o+tGH42ZxhHGecYrjBuM75vgJk4mY0ymmmwyOWXSPUx/WOAw3rCyYQeG3TFFTZ1ME02nm24zvWjaa2ZuFmUmMVtndsKs25xhHmqea77a/Kh5lwXdIthCZLHa4pjFC6YBk8XMZ1YyTzJ7LE0toy3lllst2yz7reytUqzmWe2zum9NsfazzrZebd1q3WNjYTPaZoZNrc0dW7Ktn63Qdq3tGdv3dvZ2aXYL7Rrsntsb2XPsS+xr7e850BxCHKY4VDtccyQ6+jnmOW50vOyEOnk7CZ2qnC45o84+ziLnjc7twwnD/YeLh1cPv+lCdWG5FLnUujx0ZbjGus5zbXB9NcJmRMaIFSPOjPji5u2W77bd7a67nvso93nuTe5vPJw8eB5VHtc8aZ6RnrM9Gz1fezl7Cbw2ed3ypnuP9l7o3er92cfXR+pT59Pla+Ob6bvB96afvl+C3xK/s/4E/zD/2f7N/h8CfAIKAw4E/BnoEpgXuDvw+Uj7kYKR20c+DrIK4gZtDeoIZgZnBm8J7gixDOGGVIc8CrUO5YfuCH3GcmTlsvawXoW5hUnDDoW9ZwewZ7JbwrHwqPCy8LYIvYiUiPURDyKtInMiayN7oryjpke1RBOiY6JXRN/kmHF4nBpOzyjfUTNHnYyhxiTFrI95FOsUK41tGo2OHjV61eh7cbZx4riGeBDPiV8Vfz/BPmFKwq9jiGMSxlSNeZronjgj8UwSPWlS0u6kd8lhycuS76Y4pMhTWlO1U8en1qS+TwtPW5nWMXbE2JljL6SbpIvSGzNIGakZOzJ6x0WMWzOuc7z3+NLxNybYTyiecG6iycT8iUcmaU/iTjqYSchMy9yd+Ykbz63m9mZxsjZk9fDYvLW8l/xQ/mp+lyBIsFLwLDsoe2X285ygnFU5XcIQYYWwW8QWrRe9zo3O3Zz7Pi8+b2feQH5a/r4CjYLMgsNiPXGe+ORk88nFk9slzpJSSceUgClrpvRIY6Q7ZIhsgqyxUB8e6i/KHeQ/yB8WBRdVFfVNTZ16sFi3WFx8cZrTtMXTnpVElvw0HZ/Om946w3LG3BkPZ7Jmbp2FzMqa1TrbevaC2Z1zoubsmkuZmzf3t3lu81bO+2t+2vymBWYL5ix4/EPUD7WlWqXS0psLAxduXoQvEi1qW+y5eN3iL2X8svPlbuUV5Z+W8Jac/9H9x8ofB5ZmL21b5rNs03LicvHyGytCVuxaqbuyZOXjVaNX1a9mri5b/deaSWvOVXhVbF5LWStf21EZW9m4zmbd8nWf1gvXX68Kq9q3wXTD4g3vN/I3XtkUuqlus9nm8s0ft4i23NoatbW+2q66YhtxW9G2p9tTt5/5ye+nmh0mO8p3fN4p3tmxK3HXyRrfmprdpruX1aK18tquPeP3XN4bvrexzqVu6z7GvvL9YL98/4ufM3++cSDmQOtBv4N1v9j+suEQ/VBZPVI/rb6nQdjQ0Zje2H541OHWpsCmQ7+6/rqz2bK56ojBkWVHKUcXHB04VnKst0XS0n085/jj1kmtd0+MPXHt5JiTbadiTp09HXn6xBnWmWNng842nws4d/i83/mGCz4X6i96Xzz0m/dvh9p82uov+V5qvOx/ual9ZPvRKyFXjl8Nv3r6Gufahetx19tvpNy4dXP8zY5b/FvPb+fffn2n6E7/3Tn3CPfK7uvcr3hg+qD6d8ff93X4dBx5GP7w4qOkR3cf8x6/fCJ78qlzwVPa04pnFs9qnns8b+6K7Lr8YtyLzpeSl/3dpX/o/rHhlcOrX/4M/fNiz9ieztfS1wNvlrw1frvzL6+/WnsTeh+8K3jX/76sz7hv1we/D2c+pn181j/1E+lT5WfHz01fYr7cGygYGJBwpVzlUQCDDc3OBuDNTgBo6QDQ4b2NMk51F1QKorq/KhH4T1h1X1SKDwB1sFMc49ktAOyHzT4UcsOmOMInhwLU03OoqUWW7emh4qLCmxChb2DgLTzHkJoA+CwdGOjfODDweTsM9jYALVNUd1CFEOGdYYuS4wqjeA74TlT3029y/L4Higi8wPf9vwDgNo8PzWhFYAAAAIplWElmTU0AKgAAAAgABAEaAAUAAAABAAAAPgEbAAUAAAABAAAARgEoAAMAAAABAAIAAIdpAAQAAAABAAAATgAAAAAAAACQAAAAAQAAAJAAAAABAAOShgAHAAAAEgAAAHigAgAEAAAAAQAAB4igAwAEAAAAAQAAAcoAAAAAQVNDSUkAAABTY3JlZW5zaG90O46s/QAAAAlwSFlzAAAWJQAAFiUBSVIk8AAAAddpVFh0WE1MOmNvbS5hZG9iZS54bXAAAAAAADx4OnhtcG1ldGEgeG1sbnM6eD0iYWRvYmU6bnM6bWV0YS8iIHg6eG1wdGs9IlhNUCBDb3JlIDYuMC4wIj4KICAgPHJkZjpSREYgeG1sbnM6cmRmPSJodHRwOi8vd3d3LnczLm9yZy8xOTk5LzAyLzIyLXJkZi1zeW50YXgtbnMjIj4KICAgICAgPHJkZjpEZXNjcmlwdGlvbiByZGY6YWJvdXQ9IiIKICAgICAgICAgICAgeG1sbnM6ZXhpZj0iaHR0cDovL25zLmFkb2JlLmNvbS9leGlmLzEuMC8iPgogICAgICAgICA8ZXhpZjpQaXhlbFlEaW1lbnNpb24+NDU4PC9leGlmOlBpeGVsWURpbWVuc2lvbj4KICAgICAgICAgPGV4aWY6UGl4ZWxYRGltZW5zaW9uPjE5Mjg8L2V4aWY6UGl4ZWxYRGltZW5zaW9uPgogICAgICAgICA8ZXhpZjpVc2VyQ29tbWVudD5TY3JlZW5zaG90PC9leGlmOlVzZXJDb21tZW50PgogICAgICA8L3JkZjpEZXNjcmlwdGlvbj4KICAgPC9yZGY6UkRGPgo8L3g6eG1wbWV0YT4KTuaxMAAAABxpRE9UAAAAAgAAAAAAAADlAAAAKAAAAOUAAADlAAB+tOvvaJkAAEAASURBVHgB7N0HtGxVnSfggyRBUIJKliAKSBC1CYqoICggBiSYUDCMk2d60pq0emZWT0/P9Mya1LNmeqbFjIKISBAjYCYrAmJCSRJEQUQUEFCH3+netfbdr6pu1bv3vnfrvm+v9V7VPXXid06ds2v/d1jv94+nTiJAgAABAgQIECBAgAABAgQIECBAgAABAgQIECBAgACBFS+wngDxij/HDpAAAQIECBAgQIAAAQIECBAgQIAAAQIECBAgQIAAAQK9gACxC4EAAQIECBAgQIAAAQIECBAgQIAAAQIECBAgQIAAAQLriIAA8Tpyoh0mAQIECBAgQIAAAQIECBAgQIAAAQIECBAgQIAAAQIEBIhdAwQIECBAgAABAgQIECBAgAABAgQIECBAgAABAgQIEFhHBASI15ET7TAJECBAgAABAgQIECBAgAABAgQIECBAgAABAgQIECAgQOwaIECAAAECBAgQIECAAAECBAgQIECAAAECBAgQIECAwDoiIEC8jpxoh0mAAAECBAgQIECAAAECBAgQIECAAAECBAgQIECAAAEBYtcAAQIECBAgQIAAAQIECBAgQIAAAQIECBAgQIAAAQIE1hEBAeJ15EQ7TAIECBAgQIAAAQIECBAgQIAAAQIECBAgQIAAAQIECAgQuwYIECBAgAABAgQIECBAgAABAgQIECBAgAABAgQIECCwjggIEK8jJ9phEiBAgAABAgQIECBAgAABAgQIECBAgAABAgQIECBAQIDYNUCAAAECBAgQIECAAAECBAgQIECAAAECBAgQIECAAIF1RECAeB050Q6TAAECBAgQIECAAAECBAgQIECAAAECBAgQIECAAAECAsSuAQIECBAgQIAAAQIECBAgQIAAAQIECBAgQIAAAQIECKwjAgLE68iJdpgECBAgQIAAAQIECBAgQIAAAQIECBAgQIAAAQIECBAQIHYNECBAgAABAgQIECBAgAABAgQIECBAgAABAgQIECBAYB0RECBeR060wyRAgAABAgQIECBAgAABAgQIECBAgAABAgQIECBAgIAAsWuAAAECBAgQIECAAAECBAgQIECAAAECBAgQIECAAAEC64iAAPE6cqIdJgECBAgQIECAAAECBAgQIECAAAECBAgQIECAAAECBASIXQMECBAgQIAAAQIECBAgQIAAAQIECBAgQIAAAQIECBBYRwQEiNeRE+0wCRAgQIAAAQIECBAgQIAAAQIECBAgQIAAAQIECBAgIEDsGiBAgAABAgQIECBAgAABAgQIECBAgAABAgQIECBAgMA6IiBAvI6caIdJgAABAgQIECBAgAABAgQIECBAgAABAgQIECBAgACBBQeIf/Ob33S/+tWvu4cefrh79NFHiRIgQIAAAQIECBAgQIAAAQIECBAgQIAAAQIECBAgQIDAAgQ23HDDbpMnPrHbbLMndRtvvPEC1rTqogsKEN9778+7Xz7wwKprNYUAAQIECBAgQIAAAQIECBAgQIAAAQIECBAgQIAAAQIEFizw5M0377beeqsFr6esYLUDxD+5+6fdQw891K9n88036zbdZNNuww036NZbb72ybq8ECBAgQIAAAQIECBAgQIAAAQIECBAgQIAAAQIECBAgMIXA73//+8d7bn6se/ChB7sHHvhVv+Qmm2zSbbvN06dYy+hZVytAXFoOb7DBBt3WW23VbbTRhqO34BMCBAgQIECAAAECBAgQIECAAAECBAgQIECAAAECBAgQmFrgkUce7X76s591CRovVkviqQPEGXP4zrt+0u/8Nk9/uuDw1KfRAgQIECBAgAABAgQIECBAgAABAgQIECBAgAABAgQIEJhMIEHiu3/6037m7bfbdsFjEk8dIC6th9Ot9BZPecpke20uAgQIECBAgAABAgQIECBAgAABAgQIECBAgAABAgQIEFgtgV/cf3/f3fRitCKeOkB8+x13Pt7n9aOd1sOrde4sRIAAAQIECBAgQIAAAQIECBAgQIAAAQIECBAgQIAAgakESiviDTfcsNtxh+2nWradeeoA8c233NqvIxteb7312vX5mwABAgQIECBAgAABAgQIECBAgAABAgQIECBAgAABAgQWUSBjEKchb9Kuu+y8oDWvdoB4px13WNCGLUyAAAECBAgQIECAAAECBAgQIECAAAECBAgQIECAAAECkwn8+PY7+hkFiCfzMhcBAgQIECBAgAABAgQIECBAgAABAgQIECBAgAABAgRmVkCAeGZPnR0nQIAAAQIECBAgQIAAAQIECBAgQIAAAQIECBAgQIDAdAICxNN5mZsAAQIECBAgQIAAAQIECBAgQIAAAQIECBAgQIAAAQIzKyBAPLOnzo4TIECAAAECBAgQIECAAAECBAgQIECAAAECBAgQIEBgOgEB4um8zE2AAAECBAgQIECAAAECBAgQIECAAAECBAgQIECAAIGZFRAgntlTZ8cJECBAgAABAgQIECBAgAABAgQIECBAgAABAgQIECAwnYAA8XRe5iZAgAABAgQIECBAgAABAgQIECBAgAABAgQIECBAgMDMCggQz+yps+MECBAgQIAAAQIECBAgQIAAAQIECBAgQIAAAQIECBCYTkCAeDovcxMgQIAAAQIECBAgQIAAAQIECBAgQIAAAQIECBAgQGBmBQSIZ/bU2XECBAgQIECAAAECBAgQIECAAAECBAgQIECAAAECBAhMJyBAPJ2XuQkQIECAAAECBAgQIECAAAECBAgQIECAAAECBAgQIDCzAgLEM3vq7DgBAgQIECBAgAABAgQIECBAgAABAgQIECBAgAABAgSmExAgns7L3AQIECBAgAABAgQIECBAgAABAgQIECBAgAABAgQIEJhZAQHimT11dpwAAQIECBAgQIAAAQIECBAgQIAAAQIECBAgQIAAAQLTCQgQT+dlbgIECBAgQIAAAQIECBAgQIAAAQIECBAgQIAAAQIECMysgADxzJ46O06AAAECBAgQIECAAAECBAgQIECAAAECBAgQIECAAIHpBASIp/MyNwECBAgQIECAAAECBAgQIECAAAECBAgQIECAAAECBGZWQIB4Zk+dHSdAgAABAgQIECBAgAABAgQIECBAgAABAgQIECBAgMB0AgLE03mZmwABAgQIECBAgAABAgQIECBAgAABAgQIECBAgAABAjMrIEA8s6fOjhMgQIAAAQIECBAgQIAAAQIECBAgQIAAAQIECBAgQGA6AQHi6bzMTYAAAQIECBAgQIAAAQIECBAgQIAAAQIECBAgQIAAgZkVECCe2VNnxwkQIECAAAECBAgQIECAAAECBAgQIECAAAECBAgQIDCdgADxdF7mJkCAAAECBAgQIECAAAECBAgQIECAAAECBAgQIECAwMwKCBDP7Kmz4wQIECBAgAABAgQIECBAgAABAgQIECBAgAABAgQIEJhOQIB4Oi9zEyBAgAABAgQIECBAgAABAgQIECBAgAABAgQIECBAYGYFBIhn9tTZcQIECBAgQIAAAQIECBAgQIAAAQIECBAgQIAAAQIECEwnIEA8nZe5CRAgQIAAAQIECBAgQIAAAQIECBAgQIAAAQIECBAgMLMCAsQze+rsOAECBJZW4OGHH+5uueWWbosttui23Xbbpd3YhGtfjvs04a6bjQABAgQIECBAgAABAgQIECBAgAABAgQILAsBAeIFnoaf/vSn3fXXXz9Yy2677dbtuuuug79HvWmX23HHHbs99thj1OymEyCwggS++tWvdo888kh/RPvss0+3zTbbLLuje+yxx7qPfOQj3aOPPtrv2yGHHNLttddea3U/l+M+rVUQGydAgAABAgQIECBAgAABAgQIECBAgAABAqshIEC8Gmj1IgnynHXWWV1atSVtuOGG3Zve9KZuo402qmeb8/73v/99d+6553b33nvvYPqJJ57YPeUpTxn87c1sCCTQn/OZtPXWW3cbbLDBbOz4DO/lgw8+2D3wwAP9ETzxiU+cye/NBz/4wUHg9fDDD+9SsWS5pVzb559//mC3UonlqKOOGvy9Nt4sx31aGw62SYAAAQIECBAgQIAAAQIECBAgQIAAAQIEFiIgQLwQvb9e9kc/+lH3xS9+cbCm/fbbrzvwwAMHf7dvfvCDH3Rf+cpXBpP333//7g/+4A8Gf3szGwK/+tWvujPPPHOwsyeddFL35Cc/efC3N0sjkNa33//+9/uVP+tZz+pe+tKXLs2GlnCtsxAgTsWHs88+u7v//vt7icMOO6x75jOfuYQq8696Oe7T/HttDgIECBAgQIAAAQIECBAgQIAAAQIECBAgsLwEBIgX6Xx86lOf6n7yk58M1jaqRXDb4jgtIN/4xjdqeTqQm503AsRr51wJEK8599/97nfd3Xff3W222Wbd5ptvvuY2PGZLy3GfxuyujwgQIECAAAECBAgQIECAAAECBAgQIECAwLITECBepFPy85//vDvnnHMGa3vGM57RveIVrxj8Xd5cffXV3be+9a3yZ/fyl798ojGLBwt4s2wEBIjXzqkQIF477rZKgAABAgQIECBAgAABAgQIECBAgAABAgQIrAwBAeJFPI+XX3559+1vf3uwxqOPPrrbYYcdBn9n3NSPfexjg7/zWeZpU1rI3X777f2/LPPYY4/1Lfgyxu3uu+/epdXxsHTrrbd2d911V//R0572tJHdwX7zm9/s0pI5aY899ui23HLL/n3+u+6667qM8Zq011579dvKvtx2223dL37xi37+5zznOf3n4/6r15P5N910076F9Z133tndc8893TbbbNPbPP3pT++e8IQn9KvKdrP/+Zfga7prjtHOO+88blP9Z1nnTTfd1I9N+9BDD/Xb22KLLXqDScZ2vu+++7qMb5pxofM+Y0inxWTGXc2/OmVbP/zhD7tf//rX3c033zz4aNddd+2e9KQn9X/HbtLtlu6S00pzn3326X72s591P/7xj7s77rijH9844762Y1pnnmy7dP+bbW277bZdzvsmm2wy2KdRbx599NEuXaNnPbnGsv4s+9SnPrU/N/ONpZzzE4NcE7mWctw5pzmfo7rZjms51syT6yLnPC3vc1388pe/7HLOyrVbrotyDNdcc033m9/8pt9uGfM72417UvEr80/yWq65VPAoY4LnvJd9WH/99VdZTX1t5/sYszZl/+qKIOlCvjYd1sV0vmNprZvrK/PmnKYL7fr7WW+n/r7nGs13JeczlvkOxTjTt9tuu8H1k/OebWSeHHOulZyzZz/72d3qHuvqGJbjWJ1lJ/HP+vP9vPHGG/trNNfrxhtv3H+ncz+JybAUn9wfy7jiBx10UH//LWbxzXWWe3HOTdYpESBAgAABAgQIECBAgAABAgQIECBAgACBWRMQIF7EM5ZA2RlnnNElyJCUYNfrX//6QQD0oosu6m655Zb+s/x3wgkn9PMMJjz+JgGTCy+8cBD4qz8r70eNBfrlL3+5D4hkvj333LN78YtfXBaZ83raaacN/n7lK1/Z7bTTToO/Tz/99K4E39ICOi2eE0gqad999+0SNJkv1es55phjumuvvbYPeLbLlf1McPb8889vP+7/TkAnLa3bgGE+TDD94osv7hIsG5USdD344IOHfpxAUPYtxzkqJYAWpxIMasecHrZcjnn77bcf9tGcafV41AnwJmh6ySWXzJnnrW9962Dbkxzv85///C7jWg/zyooTHPzCF74wuE7nbOzxP7baaqu+9XsCYcNSAnRXXnnlsI/6aTlfL3nJSwb7XGasjzU2Gaf73HPPLR/PeY15znkJuOfDVK5IMHtUSoD61a9+9aiPV5megGzGDi/f13aGVMRIcL4NANfX9qjvYns9v+1tbxsEabOdOkD8spe9rA/oluB5ux+5JnL9tuez/r4nAJ1r+Rvf+Ea7eH8+X/Oa1/SBzvPOO2+oYe5VqaxSe2dF8x3r6hpm3au77Hz7lHXPd43mWsm53XDDDTP7IKWSwllnnTX4++STT+4uuOCCoffjXB9HHHFEXzFjsIA3BAgQIECAAAECBAgQIECAAAECBAgQIEBgBgQEiBf5JKVV5Ze+9KXBWg855JC+JW5a9CXwW9J+++3XB8jK33lNgDljGdcB2frz+v2wAGQdMCqB13qZ8n7SAHECICVYXJZdnQBxAo7jjinBzBtuuGFkoC7bftGLXtQHT8t+lNf6mMu0Ya8veMELuuc973mrfPT1r3+9++53v7vK9HZCgoSvfe1ru/XWW69veZvA4rh07LHHThQ4qoOmo9ZXB4jr7pVHzZ/pCSrGrE05Dwl4jQqKlvkTOMsxpKVkndrru/6sfp/lEqytW83Wx1pawbfXV72Otpv2+QLECTrnezFJmiTIn/XE4fjjj+9bjZb1ThKgnCZAnJbCpSV42Ub7mpb+hx566JzJ9bWfAG9ac49Ku+22W98qP/s1KqUldoLydRp3rAsxXMiy4/Yp+15fZ/WxtO/TujqVYOrAexsgTqWNemz5dh25jk866aQ5wf92Hn8TIECAAAECBAgQIECAAAECBAgQIECAAIHlJiBAvMhnJK34EuRNl6RJCTAlgPCZz3xmECRNUOENb3jDnNZrv/3tb7vPfvazfUvCskt77713371yuoFNN8/f+c535rT+O+644+YE8OqA0WIEiMt+JJidQEm6oM2+t0HDMl/9WgdxMj3d9r7whS/sl0/XyNdff309e/8+AaoEoNNKNvMkaFxSWja+6U1vKn/2r+14zgkoptvX7F/80yKzDu4kwJZAW0npuvsDH/hA+bPvqjjbTzA4gaIEmtISsaQEk7KNLJdgfrqwTYvMkhIQzXEmpUvtSdKwYFb2P+c+68p20sI7Qax0sVy3EE0QOIG/dEGclrVp1ZvWwSW1rcOzv5/85CfnBP3Tyjzd7ablerroroPlbcAw6/70pz9dVt93aZz9TGvfdP2cZesu1p/73Od2BxxwwGD+YceabWQdaZ2d7nsvu+yyOcHrmKa1Z1K6Ds/364orruiD9JmW5XNdJeW7ln+TpHzX8p1KSnA1reJzjefcpmVrAvEltZU56mt7MVoQl+2kAkPpTj1djOf6rwPobZf19fe9rCMVUnI+0j15ls85r1Mqa6Tldu4pOc52G2984xsnDoYvxHAhy47zj9vnPve5wSHneNPdeyoPJAif+0q6nS4pXYS/9KUv7St+ZFobIM60rCMttNNldz7P96wOxucaz7UuESBAgAABAgQIECBAgAABAgQIECBAgACBWREQIF6CM5WxTBOIKymBvrpr3MMPP7wP7JXP85qgRQI+JQ1r8ZqgxNlnn11m6YMedYvJOmC0WAHidE2bgNO0qQ7ilCB5PTZuxvnMv5ISpHzVq15V/uxf225iTz311EGL1DaQkwBQAmhp4VtSgn05D3XrzHodCRAmUFVS/VmZlpbCGTs3QduM01qPXZpxTc8888wya18RYNT4u4OZmjdt0HRUd9q5furxq9ONdP7VKcHTVEQoQeK2Be5XvvKVPuhdlkn35wl+1ak9L3Xr5XSfXgKOaX155JFHrjJubb18znu66C1j27bHOqxVbNvytrTAr/exbkWdCgEJ8E2TEnT/0Ic+NFgkXQ3neOqUyhipxJDKAvmsrlhQX9uLFSBuKy9kX1LJIa29S2rPZ/19zzxtALkN6Od8JABcukrPMq132zPBqGNdiOFCls0+j9qnXP/5PpZrdNh9J8u334O6tX97X0nr7nxPyjWc5bP/9VACbUWKzCMRIECAAAECBAgQIECAAAECBAgQIECAAIHlLCBAvERnJy0h6xawZTPDAqH5rG5Rl6Dd6173ujldn5blE7RKC8qS3vzmNw9aq9YBo8UIEKflXQJ0q5PqIE7bAjPrawMxGYc1rfnq1Aba0xK7BGDb4HHb8rGsJ61S61a+6UI3AZ2ktrVh/VlZftzrUgSI00q6HQc2+1Cf92Gtqct+tgG/U045pW9VmxbqOSela+lR4zInqJ5rN624k9K6N0HS1jEt4Etr6bLtvGb5j3zkI4Pt1EHLNkA86lgzLvE999zTr3bYfi52gDjHWFoh18cy6n19bS9GgDiOubbryg1l22mtWrdir8cyrr/vqcCQHgXq1AZMhwXkM3/d5XzGjk5FiJJGHWsb5J3GcCHLZr9G7VN77Wd84F122aUcyuA12884w6V1dt0de3tfGnV+r7rqqn7s8qw0LdAznrxEgAABAgQIECBAgAABAgQIECBAgAABAgRmRUCAeInOVLrcTWu2EpArm8l4pukSuE0f/OAHB/Omq9m0IB6W2lbEdevHOmC0GAHiYa0ah+3TsGl1EKcNOmX+BK/e+973DhZN6+G6dW4+SEvAtNQr6cQTT+zSoi/p4osv7ruLzfu0cE5L51Gpts14x+kuNindKn/0ox+ds1haIidAlnWWYPScGao/FjtAnBaPCegOS5dccknfBXQ+y76Nuj4SCP785z8/WEUJqqcV9Cc+8YnB9FRASOB30vS9732v+9rXvjaYPYHfUSktNEsrzvrctwHid73rXUNXkTG8M9Zx0rAWwgsNEGe9aYlfdxOc6yoVInIN5vtZj0ub+etUX9ujAohtsLIO7GZd9TU5rDV42V7bCrjuVr7+vg9zyjrSJXhpUT5qO/XYzu13ftyxLsRwIcuO2qd0cZ4xxUsa1iNA+Sw9A2Qc5KT6/tEGiEd9T9J9femGPN3up6W8RIAAAQIECBAgQIAAAQIECBAgQIAAAQIEZkVAgHgJz1QbEBvWkjabT6vLD1Rj4Y4KOmXetOx83/vel7d9Sve6CQ4l1QGjxQgQj9uPfoNj/hsVxCmLtAHiupvXMs+4AHG63i3jPM/X0rkOkrWBtG9961tdxjIelhL4SWvjBIyf9rSnrTLLYgeIx7UMro93lR0ZM6GM4dsGGuuuo8csPvio7jp6MHGCNwnGJyifVH8fxh3rfAHg+T6fYLf6sb4vvPDCkbPmvD/zmc8c2gJ1vms7K50mQFwH0dsdar8DdYvsSb7v9bU/rNv6bG91A8R33XVXt7qGC1l2lH99jaZVdlq5j0r1974O8LYB4lE9E6QCQyoyJNXL9xP8R4AAAQIECBAgQIAAAQIECBAgQIAAAQIElrmAAPESnqCHHnqo7263bGJYK9l8ltbGH/7wh8tsXd0qeDCxelO3PqzHaJ0kYJTV1F3KvvKVr+x22mmnwdpHBV8GM0z4Zr71LDRAfM4553Q///nP+7157nOf2x1wwAEj96xubTxsvNC0JExwqR6ruF3ZwQcf3KW74zqtyQBxfbz1Psz3vgQUb7vttjkti8e1rhy2znRrnm6up011a/jlFCDOcaQb6xxXgpWjUro9f/GLXzwY+zrzzXdtZ55pAsTjKmKkB4J830t6xSte0WUs4qRJvu9LGSDOPqyu4UKWHeVfX6NpHZ/Wv6NS3dq4brkvQDxKzHQCBAgQIECAAAECBAgQIECAAAECBAgQWEkCAsRLeDYnDRC3wdKMh5oxPYeljJuZAElJ9bi5dcBo1HijbWvlWQ0Q12M277zzzt2RRx5ZSFZ5rbuzHTdWasY8TqvkBPduv/32wRilZYVtIG9NBojr401Av7TKLfs26jUtn9NdchuwLF1Pj1qunV6P+ZwWk+O862XTdXPmT1puAeKynzmPCRLHKC2t24oCbWv8OkA5bOzsrLcNyI/rYvqggw7q9t1337I7c14TgM2YzCWVFuH5u/6+t/tY5l/qAHHZzrSGZbm8Trts7V9/J+trNOsd1YV5Prv88su7b3/723nbd1uf7uuTBIh7Bv8RIECAAAECBAgQIECAAAECBAgQIECAwAoXECBewhM8aYA4u1B38zoquJv5fvKTn3Sf+tSn8rZPGXs3Y2gm1V3v7rjjjn1L5P6D6r+2a9dZDRBnrNG0Akwa111xxuR9//vfPxA48MADu3T1PV9KV9633nprP9ZxmXe33XbrDj/88PJnH9jKONMlTRt0zXKTBk0z/m/GAU6aLyDez9T813ZVXAfWmlm7Bx54oB8jOtM322yzPsCcVtYZt7Wkd77znd16661X/pzoddJjra/jtkvwbGi+zyfamTEzpZJAxlEugeK0ME2AtxxvxsUuYyyPup7q7o6zqXEB4l122aU74ogjhu5R3ZVxZki3yek+OWk5BYj7Har+m8+wmnWVt/MtOypA3F6jo7qHzgbTNXZpOV7fKwWIVzkdJhAgQIAAAQIECBAgQIAAAQIECBAgQIDAChQQIF7CkzpNgLjuHjW7dPzxx3dbbrnlnL1LS+MENhIkTkrgKmPJpoVoUj2uZv5+y1ve0m2yySZ5O0h1cC0TZzVA3LbQPPTQQ7sE1tv0jW98o7vmmmsGk1//+td3W221Vf93AlHppjqBwHRJm+6E21QH4dIatrQ0zHxtC+J63e16Rv09adA0weovfOELg9WccMIJ3RZbbDH4u7y57777+kByrp38Ky2I83ndTXWWzTVWgp5l+ZhkvOOS0k1vbNpredS4uekSOWM6J4hZtr/RRhv1q5v0WOtrdL4A8bAuw8u+j3rN+c5x5jXHn3GS23TjjTf2Adgy/c1vfnO36aab9n/WrXJTOSOtemvHtNJPq99f/OIXZfGxAeLMNKxyQSxzzhKwT2rH1a2vzTXdgnghhgtZNg6jAsRt7wr5PqeFd5vuuOOO7jOf+cxgct1NvwDxgMUbAgQIECBAgAABAgQIECBAgAABAgQIEFjBAgLES3hy26DaqDGIswsJVCYYVFKCmBk/tgR406I1AeC0TCypHt8102666abukksuKR932223XR8gSQvb7EuWLa1uy0yzGiBOy+Czzjpr0JIzx1OCmeXYfvzjH3ef+9znyp99S+u0uC4pLWLT6rCkunVmpj3yyCPd+eefPwj0td1Tt+PDZhzkjIc8TZo0aJqgY1orJwiWtPXWW3fpXvzJT37yYHMZyzqByRJQTAWCk08+uVt//fX7edICOS2RS0rwNePrls+z7rROL4HNNiB50UUXdbfccku/eNadVq877LBDWV3f6jjjPZd58sFxxx3X72veT3qs8wWI69a56b46wfLSjXW2M1/6/ve/37dCLvPV3bRnWipipAVxgsRJbcWAuvV6Ps91kXO/wQYb9EHnBG7TXXWdxrUgznwJ2Of7nu9qUq69yy67bLAPmdZ+39dmgHghhgtZNg6jAsT5LPe/3AdLSsWRXOelEk0CwPlOl+9RruME58t9VoC4yHklQIAAAQIECBAgQIAAAQIECBAgQIAAgZUsIEC8hGd3mgBxdqPtIjXTtt12227jjTfux0ZNQLKkdDOcwFYJfGR6gkoJmpbgR5k3QZCybP0+n89qgDj7nkDmeeedNzi2TEswLy1e08q6dAOc6Ql2JjhcAkGZ1rYkjM3222/fBzQz9mtaKdfpmGOO6T+vp9Vd1WZ6ApU5X6kMUFqc1vO37ycNmma5VCJI695yLjMtLWgTJM5nCYjX6eCDD+722WefelLXBjezv+liN9dqPOrUBrxzfeV4M1ZzSQkQJ1j94IMPrjJuc9sV9qTHOl+AuO1mPfuSChUZmzn7PF9KIP3DH/7wnNlSmSL/ElyPY/0dev7zn9/lX0k/+9nP+uuu/F1e2+9WmZ7X+QLEZd6ci1QGKL0ElOk5TwlkltbYmb42A8QLMVzIsjnucQHifDdyjeb7W1LOS1wT/K2v3Xx+7LHH9vfYMq8AcZHwSoAAAQIECBAgQIAAAQIECBAgQIAAAQIrWUCAeAnP7rQB4uzKt7/97e7yyy8fu1fbbLNN39owLRbb1LYibj9PK8W0BC1BxlkOEOfY2i6R2+PN3wkQpSVr3dq2zNd2QV2mt6/phjitg+uuhDPPzTffPGec4rLckUce2Y8VXP4e9Tpp0LQsP8nxZt699tqre9GLXrTK/qYles5/G/wu6y+vGac5wdb2eHNNpwVmaaVc5m9fE6TPtZZgeUmTHut8AeK0Hk+gvA4CZhsJEqeb70lS27p81DIZdzqtUHMN1akNtNefJZibro0/+9nPDiaPCxBnHOMrr7xyMG/7Jts+6qijunzv67Q2A8TZj4UYLmTZcQHi7Nek1+iw76gAcQQlAgQIECBAgAABAgQIECBAgAABAgQIEFjpAgLES3iGVydAnN354Q9/2HcnXbr6LbuYQFECfwlU1oG38nl5TevDSy+9tG9VWqalZW0CUWnVWQdYEnhK67qS6s/arnfLPJO8zreedOP73ve+d7CqtiVfPmj9Mv5vjqNNCZpmnOHbb7+9/ahLgC9d87bjOdczJsh77bXXrhJwzDxpwZ3gcF5HpTvvvLNvmZuxVUvKMvvvv3/5c+RrHTRtuzIetVC6L05348OCvAnM5vpIy+JRKS1Ur7vuuu76668fVBQo82ZM3Yxn++xnP7tMWuU1LbOz/ba78syY4GiOO+toKzBMeqx1gDjXe8aIbVOOIRUp0uq+VHbIPG9/+9sHXWa3y7R/J8Cc857z36a0is4xZPujUrpKvuqqq+a0Nk4L9LTczrGnNX9Jp5xyypwgc/39SMv0tDZPl+dtC9ecxxe84AVDx5uuA8Rt9+dlu/V4yVlPvgttOvvsswfdirdjedf7Oex+sBDD1V12vn3K8WV88Fyj6Va9TQm05xpNi/M2tQHiYeO4Z5nco7/0pS/1i7ddsfcT/UeAAAECBAgQIECAAAECBAgQIECAAAECBJaxgADxMj45CcTlX4KpCbxtttlmEwe/clgJoiVQkmXzb6WndF2b403AMF3xxqvukne+40+3wvHOehL0yfJtC9px68h2s/0E7yfpXnrcuib5LPuZ/U3Xz6k8kPFrpznPaU2c/U0gPgHNjINbxiOeZPu5vrL9uMUp289xT2M2yXbGzZPvRo4hx5Ltt0HpccuWz3LechzpJjt+cai7bi/zjXrN8edftt+2NB61zKjpWc99993XryfX4LiKIKPWsTamL8RwIcvOd6y5RtPaPd+VXBs5R3U38/Mt73MCBAgQIECAAAECBAgQIECAAAECBAgQILASBQSIV+JZdUwECBAgQIAAAQIECBAgQIAAAQIECBAgQIAAAQIECBAYIiBAPATFJAIECBAgQIAAAQIECBAgQIAAAQIECBAgQIAAAQIECKxEAQHilXhWHRMBAgQIECBAgAABAgQIECBAgAABAgQIECBAgAABAgSGCAgQD0ExiQABAgQIECBAgAABAgQIECBAgAABAgQIECBAgAABAitRQIB4JZ5Vx0SAAAECBAgQIECAAAECBAgQIECAAAECBAgQIECAAIEhAgLEQ1BMIkCAAAECBAgQIECAAAECBAgQIECAAAECBAgQIECAwEoUECBeiWfVMREgQIAAAQIECBAgQIAAAQIECBAgQIAAAQIECBAgQGCIgADxEBSTCBAgQIAAAQIECBAgQIAAAQIECBAgQIAAAQIECBAgsBIFBIhX4ll1TAQIECBAgAABAgQIECBAgAABAgQIECBAgAABAgQIEBgiIEA8BMUkAgQIECBAgAABAgQIECBAgAABAgQIECBAgAABAgQIrEQBAeKVeFYdEwECBAgQIECAAAECBAgQIECAAAECBAgQIECAAAECBIYICBAPQTGJAAECBAgQIECAAAECBAgQIECAAAECBAgQIECAAAECK1FAgHglnlXHRIAAAQIECBAgQIAAAQIECBAgQIAAAQIECBAgQIAAgSECAsRDUEwiQIAAAQIECBAgQIAAAQIECBAgQIAAAQIECBAgQIDAShQQIF6JZ9UxESBAgAABAgQIECBAgAABAgQIECBAgAABAgQIECBAYIiAAPEQFJMIECBAgAABAgQIECBAgAABAgQIECBAgAABAgQIECCwEgUEiFfiWXVMBAgQIECAAAECBAgQIECAAAECBAgQIECAAAECBAgQGCIgQDwExSQCBAgQIECAAAECBAgQIECAAAECBAgQIECAAAECBAisRAEB4pV4Vh0TAQIECBAgQIAAAQIECBAgQIAAAQIECBAgQIAAAQIEhggIEA9BMYkAAQIECBAgQIAAAQIECBAgQIAAAQIECBAgQIAAAQIrUUCAeCWeVcdEgAABAgQIECBAgAABAgQIECBAgAABAgQIECBAgACBIQICxENQTCJAgAABAgQIECBAgAABAgQIECBAgAABAgQIECBAgMBKFBAgXoln1TERIECAAAECBAgQIECAAAECBAgQIECAAAECBAgQIEBgiIAA8RAUkwgQIECAAAECBAgQIECAAAECBAgQIECAAAECBAgQILASBQSIV+JZdUwECBAgQIAAAQIECBAgQIAAAQIECBAgQIAAAQIECBAYIiBAPATFJAIECBAgQIAAAQIECBAgQIAAAQIECBAgQIAAAQIECKxEAQHilXhWHRMBAgQIECBAgAABAgQIECBAgAABAgQIECBAgAABAgSGCAgQD0ExiQABAgQIECBAgAABAgQIECBAgAABAgQIECBAgAABAitRQIB4JZ5Vx0SAAAECBAgQIECAAAECBAgQIECAAAECBAgQIECAAIEhAgLEQ1BMIkCAAAECBAgQIECAAAECBAgQIECAAAECBAgQIECAwEoUECBeiWfVMREgQIAAAQIECBAgQIAAAQIECBAgQIAAAQIECBAgQGCIgADxEBSTCBAgQIAAAQIECBAgQIAAAQIECBAgQIAAAQIECBAgsBIFBIhX4ll1TAQIECBAgAABAgQIECBAgAABAgQIECBAgAABAgQIEBgiIEA8BMUkAgQIECBAgAABAgQIECBAgAABAgQIECBAgAABAgQIrEQBAeKVeFYdEwECBAgQIECAAAECBAgQIECAAAECBAgQIECAAAECBIYIrNUA8YYbbthtuskTh+yWSQQIECBAgAABAgQIECBAgAABAgQIECBAgAABAgQIECCw2AIPPvRw9+ijj3a77rLzgla93u8fT9Os4fY77hQcngbMvAQIECBAgAABAgQIECBAgAABAgQIECBAgAABAgQIEFgEgQSJd9xh+wWtaeoA8c233NpvcKGR6QXttYUJECBAgAABAgQIECBAgAABAgQIECBAgAABAgQIECCwDgksVpxWgHgdumgcKgECBAgQIECAAAECBAgQIECAAAECBAgQIECAAAECsykgQDyb581eEyBAgAABAgQIECBAgAABAgQIECBAgAABAgQIECBAYGoBAeKpySxAgAABAgQIECBAgAABAgQIECBAgAABAgQIECBAgACB2RQQIJ7N82avCRAgQIAAAQIECBAgQIAAAQIECBAgQIAAAQIECBAgMLWAAPHUZBYgQIAAAQIECBAgQIAAAQIECBAgQIAAAQIECBAgQIDAbAoIEM/mebPXBAgQIECAAAECBAgQIECAAAECBAgQIECAAAECBAgQmFpAgHhqMgsQIECAAAECBAgQIECAAAECBAgQIECAAAECBAgQIEBgNgUEiGfzvNlrAgQIECBAgAABAgQIECBAgAABAgQIECBAgAABAgQITC0gQDw1mQUIECBAgAABAgQIECBAgAABAgQIECBAgAABAgQIECAwmwICxLN53uw1AQIECBAgQIAAAQIECBAgQIAAAQIECBAgQIAAAQIEphYQIJ6azAIECBAgQIAAAQIECBAgQIAAAQIECBAgQIAAAQIECBCYTQEB4tk8b/aaAAECBAgQIECAAAECBAgQIECAAAECBAgQIECAAAECUwsIEE9NZgECBAgQIECAAAECBAgQIECAAAECBAgQIECAAAECBAjMpoAA8WyeN3tNgAABAgQIECBAgAABAgQIECBAgAABAgQIECBAgACBqQUEiKcmswABAgQIECBAgAABAgQIECBAgAABAgQIECBAgAABAgRmU0CAeDbPm70mQIAAAQIECBAgQIAAAQIECBAgQIAAAQIECBAgQIDA1AICxFOTWYAAAQIECBAgQIAAAQIECBAgQIAAAQIECBAgQIAAAQKzKSBAPJvnzV4TIECAAAECBAgQIECAAAECBAgQIECAAAECBAgQIEBgagEB4qnJLECAAAECBAgQIECAAAECBAgQIECAAAECBAgQIECAAIHZFBAgns3zZq8JECBAgAABAgQIECBAgAABAgQIECBAgAABAgQIECAwtYAA8dRkFiBAgAABAgQIECBAgAABAgQIECBAgAABAgQIECBAgMBsCggQz+Z5s9cECBAgQIAAAQIECBAgQIAAAQIECBAgQIAAAQIECBCYWkCAeGoyCxAgQIAAAQIECBAgQIAAAQIECBAgQIAAAQIECBAgQGA2BQSIZ/O82WsCBAgQIECAAAECBAgQIECAAAECBAgQIECAAAECBAhMLSBAPDWZBQgQIECAAAECBAgQIECAAAECBAgQIECAAAECBAgQIDCbAgLEs3ne7DUBAgQIECBAgAABAgQIECBAgAABAgQIECBAgAABAgSmFhAgnprMAgQIECBAgAABAgQIECBAgAABAgQIECBAgAABAgQIEJhNAQHi2Txv9poAAQIECBAgQIAAAQIECBAgQIAAAQIECBAgQIAAAQJTCwgQT01mAQIECBAgQIAAAQIECBAgQIAAAQIECBAgQIAAAQIECMymgADxbJ43e02AAAECBAgQIECAAAECBAgQIECAAAECBAgQIECAAIGpBQSIpyazAAECBAgQIECAAAECBAgQIECAAAECBAgQIECAAAECBGZTQIB4Ns+bvSZAgAABAgQIECBAgAABAgQIECBAgAABAgQIECBAgMDUAgLEU5NZgAABAgQIECBAgAABAgQIECBAgAABAgQIECBAgAABArMpIEA8m+fNXhMgQIAAAQIECBAgQIAAAQIECBAgQIAAAQIECBAgQGBqAQHiqcksQIAAAQIECBAgQIAAAQIECBAgQIAAAQIECBAgQIAAgdkUECCezfNmrwkQIECAAAECBAgQIECAAAECBAgQIECAAAECBAgQIDC1gADx1GQWIECAAAECBAgQIECAAAECBAgQIECAAAECBAgQIECAwGwKCBDP5nmz1wQIECBAgAABAgQIECBAgAABAgQIECBAgAABAgQIEJhaQIB4ajILECBAgAABAgQIECBAgAABAgQIECBAgAABAgQIECBAYDYFBIhn87zZawIECBAgQIAAAQIECBAgQIAAAQIECBAgQIAAAQIECEwtIEA8NZkFCBAgQIAAAQIECBAgQIAAAQIECBAgQIAAAQIECBAgMJsCAsSzed7sNQECBAgQIECAAAECBAgQIECAAAECBAgQIECAAAECBKYWECCemswCBAgQIECAAAECBAgQIECAAAECBAgQIECAAAECBAgQmE0BAeLZPG/2mgABAgQIECBAgAABAgQIECBAgAABAgQIECBAgAABAlMLCBBPTWYBAgQIECBAgAABAgQIECBAgAABAgQIECBAgAABAgQIzKaAAPFsnjd7TYAAAQIECBAgQIAAAQIECBAgQIAAAQIECBAgQIAAgakFBIinJrMAAQIECBAgQIAAAQIECBAgQIAAAQIECBAgQIAAAQIEZlNAgHg2z5u9JkCAAAECBAgQIECAAAECBAgQIECAAAECBAgQIECAwNQCAsRTk1mAAAECBAgQIECAAAECBAgQIECAAAECBAgQIECAAAECsykgQDyb581eEyBAgAABAgQIECBAgAABAgQIECBAgAABAgQIECBAYGoBAeKpySxAgAABAgQIECBAgAABAgQIECBAgAABAgQIECBAgACB2RQQIJ7N82avCRAgQIAAAQIECBAgQIAAAQIECBAgQIAAAQIECBAgMLWAAPHUZBYgQIAAAQIECBAgQIAAAQIECBAgQIAAAQIECBAgQIDAbAoIEM/mebPXBAgQIECAAAECBAgQIECAAAECBAgQIECAAAECBAgQmFpAgHhqMgsQIECAAAECBAgQIECAAAECBAgQIECAAAECBAgQIEBgNgUEiGfzvNlrAgQIECBAgACBtSTwi1/8orvjjju6HXbYodtiiy3W0l7YLAECBAisJIGHH364u/nmm/vnynbbbbdWD+23v/1td+utt/b7sPPOO3frr7/+Wt0fGydAYOUIrCv5aPfRlXPNOhICBAisZAEB4kU6u1/5yle6Rx55pF/bs571rC4/ouZLN910U5d/SZtvvnl30EEHzbeIzwkQIECAAAECSybws5/9rPvpT3/a5fXuu+/uHnzwwW7bbbftnv70p3dbb711t+OOO3YbbLDBkmw/27r00ksH6z700EO7jTfeePD3cnlzzz33dOecc85gd0444YRuq622Gvw9y2+++c1vdj//+c/7Q9hzzz378z3Lx2PfCRBYtwV+97vfdfmd/thjj/UQu+yyS7f77ruPRLnhhhu6u+66q/98vfXW6172speNDIz++te/7i677LLBuhZ6z8w+fvjDH+4effTRfp0vfvGLu+c85zmD9a/pN5///Oe7W265pd/sbrvt1h1xxBFrehdsj8AaFajL9Cbd8Ite9KJu0003nXR28z0usJLz0e0Jdh9tRfxNgMAsCiTedfvtt/f379zDU0602Wabddtss0331Kc+tUulxi233HIWD80+/7WAAPEiXQrvf//7Bz/mNtxww+6kk07qnvSkJ41dewrhrr766n6eFCymgFEiQIAAAQIECKxpgRSif+Mb3+iuueaasZt+2tOe1r3iFa+YN48zdiUjPkxrgrPOOmvw6Vve8pYl2c5gA6v55tprr+2uuOKKwdIHHnhgt//++w/+zpsE2X//+9/30xJYHxVUzzH/5je/6ed78pOf3G2yySb9+7X138c+9rHu/vvv7ze/toMTa8vAdgkQWFkCH//4x7v77ruvP6jtt9++O/bYY0ce4Ec+8pEugd+SXvOa1/SVpMrf9euNN97YffGLXxxMOu6447o8I1c35blx7rnnDhZPhaxjjjlm8HfeLNYzY75nVPIEp5122pxtv+td7+qe8IQnzJnmDwIrSaAu05v0uN7whjd0T3nKUyadfcXPl4ou9957b3+cuV8MuydOko+eBSj30Vk4S/aRAIGFCqTyeCq7/PKXvxy7qkMOOaTbe++9x87jw+UrIEC8SOemzUzmB93RRx/dpebxqCRAPErGdAIECBAgQGBNCSRAefHFF/e1QifZZirCvepVr+pbFU8y/6TzzEqAOD+OzjzzzMFhvfGNb+wS3C3pV7/6VffRj360/Nm1nw8+ePxNHYxIS7VnP/vZ9cdr/L0A8Ront0ECBJZY4Morr+y+9a1vDbbyjne8Y2ilnQceeKA744wzBvPlzR/8wR90z3/+8+dMK3+kteH3vve9/s88F0899dSxv/3LcqNeU6kolaRKJZ2Xv/zl3TOf+cw5sy/GM2PSZ9TXvva17jvf+U6//bRkTqUhicBKFmjL9CY5VgHiuUo//OEPu0suuaSfmEqPb33rW+fO8Phf8+WjV1lgGU5wH12GJ8UuESCw6ALp9faiiy6aeL177LFHl17gVCicmGzZzChAvEinYlhmcr7aEwLEi4RvNQQIECBAgMBqC6Q1bGrzl5QupVMgnt5N0hLgzjvv7IPHZViMzJeAaHpLWczM/6wEiHP86WYp3XCnZcRGG22USYM0aaFRFliMwv7BhhfhjQDxIiBaBQECy0og48VfeOGFg3169atf3XeFN5jw129+8IMfdF/60pfmTM7zMK2Ih6X6/p0hpg477LBhs001LS13S7d9GYKqTfU2V7dS0TTPqHQjmJTuAyUCK12gLtNLpYh0rT5fyhAso3qJmW/Zlfj5JAHiHPe4fPQsuLiPzsJZso8ECCxEIMN/nX766XNWkYqTeTY+8YlP7HuLSB47PerUve8kP5x8sTRbAgLEi3S+6sxkvcoUnm6xxRb1pMF7AeIBhTcECBAgQIDAWhBIi6X3vOc9gy2nB5SjjjpqaOD3+uuvnzPe4qhC9sHKpnwzSwHicYc2TaHRYhT2j9uXaT8TIJ5WzPwECCx3gVR0et/73jfYzVGtgtNddAq52pSWwW1FoLa18ZoqDFuMZ8Y0z6jWwt8EVrJAXaaXsYX32WeflXy4S3JskwaIl2Tja3Cl7qNrENumCBBYKwJt2U+GaMlQLW16+OGH+yFSShfU8w3n0i7v7+UhIEC8SOehzkzWq0zLkte+9rVDC1onDRCndt3NN9/c1yZORiQ1i8tg4Ol2qv3Bmu2nj/jvf//7/a6klU/6gc+XNYOK59/666/f7bTTTt0OO+wwGN8v600t4bQUynga6R474+bttdde846J9+ijj3bJDKY1TW4OWX8GKU+NyrRAWswWRrWv9wQIECBAgMDqC6S2ZwqcS8r4wrvsskv5c85r8gkf/OAHuzzzk+oC8UzLGMZl3N20QN54443nLJ8/kr/40Y9+1E9/0pOe1O23336DeYYFiLOOtFzOcvk8tVXTkindF40arzetoVPjNSn5n0033bT7yU9+0qWGa/IpaRGW/M8222wzyJ9k/rvuuqvPAyWvlbxT5hlmMepYk4cqNWjr1tapZZtjTSp5quQBk/LDq6TsVxmrLdt+xjOeUT4avC40v/Xb3/62909eL8eZblGz3eQnk7cUIB5Qe0OAwAoS+OxnP9vddttt/RGNKrga9Xs+w0bld3Od2vGHTz755P5ZU8+T501+w+c3eJ4xeX7l2ZJnQn4jD0v182v33XfvnwkZBmJ1nxn1NiZ9RpXK7bfcckv/XMw6sr91d9f1Z6VMIceb52yepTnOVDiLdSmryPMrz+J8njFK8wzPevM8T9nBuJTnVcyTD0jZSJ6peYbnX7YlEVgMgfoeMG2AOPnf9MhT8sEpRxs2bEiu5Trvl7xe8nx1Sn4796t8nzJ/vh/J++Z6Tz5xkhbL9XcmFVryPcn3LesZdv8Zlbet9yvvR+Xjk7fPZ/mO515Q0r777lvedgcddFCf7550W1mwvY/mu597VO5H5V412MBfv2nXf/DBB/c9IpX7T/Yzed5yjob9XmnXWf52Hy0SXgkQWOkC9VAjW265ZXfiiSeOPORvf/vb3aWXXtp/nvv0W97ylqHz5v5cYkfJH+f+m+da/uUZN9/zLcuX502ec0l5vqU8Y9dddx2Zn6zz16U85sc//nH/rE3eMnnRdvzkel/XhTiXAPHQS3b6iXVmMpmuZBxKGlVLeZIAccb9yZdyXDriiCNW6f6m7iIrP8xSUPupT31q6GrSyvkpT3lKP/5gXaBZZk7h4Stf+cqhNUUyTwoZP/e5zw0KjMty5TU3koyhlECxRIAAAQIECCwfgTZAfOCBB3b777//1DuYDH49Lu+b3/zmvvClXdF1113XXX755f3k5Jde//rXD2ZpA8THHXdcnweqC5oGMz/+ZlT3mh/+8Ie7hx56qJ81NV0z9mQqx7UpPw4yRk4Kis4999z24/7vBIiTz6oruo061vxYyVjO41LGbk6BVh2UHzb/C17wgi7/6rTQ/Fbypp/5zGcGNvW6k9dLEOTLX/7yYPzLjDeZLhYlAgQIzLrADTfc0H39618fHEY7DnEqV5999tmDzxPcLM+NPBPzbKxT7pWlMnZbaJbnap4FCUaMSvl9nt/XuffWqX5+HX744V2CxO1zup6/vB/2zCiflddJn1ElWJXutlOmkFSel2Vd9WcHHHBAHxS7+uqry8eD1/z+f93rXtcHZ/KczfOzTfE75phjBhWp2s9TqJfA26iU5/RLXvKSPgA/ah7TCUwiUJfpTRsgzvpTOJ5C8pLe+MY3rlKBoe6pIN//zFNXeExlkgsuuGCQFyvrKq9ZJvnfFISPSvN9Z9L1Z/K/dUH8qLxtu41R+fg6kNAuU/4u991JtpUgeca9TGWUUSnB5xe+8IWrfNyu/21ve1t33nnnDTWNffL5adwySXIfnUTJPAQIrASB9r5e7uGre2zzlWUkz5ie7FKBZ1jK8qPiWpk/9/OU/SRf2aaCnUPIAAA+dElEQVQ6f51tXHnllX3DyjJfGi2kMlFJ8+3rSoxzCRCXs7/A1zYzmcLMuouq/DBqa+rNFyCeL2NX73Lb1L8OEOdLkq61UvthWEpwOD8EE4welbKON73pTXMykZk3P6aT2Rq17np9wzLI9efeEyBAgAABAmteoM7D5HmfVsSpwTlNagtjFiNAnPzJ/fffP3Y36lbMZcb6B0B+aCSvMiqlAl1acozLx7SB0lHHOkmhUcayzLiS8wWIU+D+vOc9b7DbC81vtcH3wYqrNyVQUSza465m9ZYAAQIzJdDeA9vfznWl7LRCSEA0gZykPEdOOOGEOcdbP2fqAHJa+5511llDK+LMWcHjfwwb0qFe7zQB4vaZ0W4rf0/6jMrxJ9VB4HEB4hSS3Xffff0yw/5LS7+0YExlrFEpraoTpGlT21K7/bz8nQpneb7WAa/ymVcCkwrU+eHVCRCndXt6YimVFNvruq2QmIoNe+6552D3svz5558/Nt9aZh7WSCSfTfOdyX2wtPAflbct2yuvCwkQv/Od7+xbd02yrfr+U7Y97HVYY5x2/bmnjauwk98+b3jDGwYWw7ZTprmPFgmvBAisdIE6b5xjTcXxBFFXJ681aVlGyiMyjFnydXWadPncz9MAofTeVtZR568zT3lOl8/rAPGk28qyKynOJUBcroYFvraZydTKq38cppDz+OOPn/NFGhcgbsc1ysWdmsEJ5KYVy6233trXpC2FeKk5mwLdkuoAcZmWCz61kPMD7rvf/e4qmaR8EQ855JD+i3j33Xf389QtocuP1LK+1GY+55xzBl+sNOvPPqb2Xbqnzj7WrZ/TZUBaA0kECBAgQIDA8hG46qqrumuuuWbODiW/kELdtHIqgcM5MzR/tIUxixEgziay7RTSJWCdfEfyFnXrjHzetr6ofwBkHcmfpIVBfgykp5QUbrUphXjJJ6UL5nQJWm+j7SZp1LGmMl4K99LdUd0iOUONJCiclO6u0/1g+VHyiU98YvA++1i68ExXpKXV8mLkt1LgWBeO7bzzzn2eMD++EoRP66y2gF+AuL1K/E2AwCwL1M+GNqjw+c9/ftBSLa2F0zXs6aefPjjct771rYNWfu0zoA42t60tEljNfT2/g1OBPC2Z84wpKYVYdSFYvY/lt/e0z4yy7vZ10mdUWa4O0IwLEJf588xIhfi0ukjFqzy76pRAewoW83xL97mxKM/CzNfmG9K97oUXXjhYRQLq6f4v+YF09ZfyjLqr3jpQP1jIGwJTCLRleqszBnEbQEzFhQQo8z1O3rD0ipNpKQRPuVlSWsymK/zSc0Gm5fuS6z55xwSXv/rVr875XrVd22fZT3/601m0TyX/m0ocKddLt551i9y0Is53O6m9r7Xfx36mx/8bFSBO/jf3mNzfSm8NyXenDDQpedp895Pm21b7uyR51pSv5l6ZvOz3vve9OXnaNtDerj/bzP0nFWlSLpvP23zvpD0ouY9GUyJAYF0QSI8WqfRU4k455jxXUrEpMahR3fy3Nikb+eQnPzknz5fnT2JH2UbKZ+oGi23lqsTH8vwsecY8W5IfzBANeXbmuZYe40rKMy/P3nr4gDp/XeZLvjHP4gzjkOdThh1YjHKXsv5ZexUgXqQzNiwz2TZ/TwYzhZwljQsQp8ZCfjRlHSm4S63lZGrqlC4aSyFnCkjf/va3Dz5uA8RpIZMfwiUlA/eBD3yg/Nm/JoNad62SedLCpdwM2q6rvvKVr/SZsyycwtMUgLZdAbQG7Y/gOTvgDwIECBAgQGCNCyRjnQKlPLOHpWSc8yMg//KjYFhqC2OmLVjKOtsWXpk2LP/T9rCSwGo9xln9AyD5o7QKSOFaSRkrOf9KShA8Bfx1ardRd6k037HmR9BHP/rRwerG1SxNPqsUoqfLwGHj1S00v5VCwVToKymFjelOuhRKZnryfOkRpg4SCxAXMa8ECKwEgTp4m+daCo+S8gw87bTTBodYfq+my+n8Jk868sgjB126ti30Squ4zJff5gnS5F/u57mv1ymFW3lGldQGNurnVwkQl3nzOskzo55/2PtJn1HTBIgzfELpmjrbbMsA8ixOb2QlQJR52taUdaA9n9fHmudWuuRuxyquy1OyjXQl286TdUkEJhGoy/Qyf1v+1q4jZWwpyG5T8tQl0JugZhpJJHB8ySWXDGZt87ftfSXdrue6r1MqRpxxxhmD8rk2/1t/ZxIITS+GdQF51lVXGKwbcMyXty37MSpAXD5PELocZwrxU7mmTeO21X6WPHruL3WeNUHaVLCsexkal0+PRbzre0Nb1tkGJNp9bv92H21F/E2AwEoUSIW+VF4alnKPTwWeDHmQe3V9j63nr4dlyfT2+ZdpdX4uf59yyimD51edH81nbewq09pnaNuzTp2/zvzDevnN9IWWu2Qds5oEiBfpzNWZybo7mssuu2xOzdY6o1d/AZL5zJdkWMqP1tKKpP48rWgy9m9JdQ3CNkB86qmnrtJlSv0la1vHlHXWtanrH7lpYfOhD31okDkd1sVjWUfGu8vg30ltoLrM45UAAQIECBBYewJp2ZBWsxlDsFQMG7Y3aQmVWvalRWyZpy3QWYwAcdtiqWwr+5pgZumuMi2Wkskvqf4BMKxFUbuvw/Iw9957b1/4VNZZB3nb5dtjnbTQKOuuC/OGBYgXI79V5zezzTq/mL9Lalu9CBAXGa8ECKwEgbQwyG/bkkpAoQ5UJsiY380JRtSt2NKtXu6JSfVv6BSMJXDZpvx+zzrqoEaZpw48pwVEevAqqX5+zUqAOAGwBNXrlOd0KkqVClBpbZJgeJv+8i//cjCpfgamlWVam5SU4HKb78hnCRTFrORb2kB1Wd4rgUkE6jK9SeYf1eo0gcu0uiop945UTCytn4aViaUAPgXxSaO+L/msDtDWFV3q+1jmS++CqdjZplR6KY1M8lnuP7nvzZe3Leuptz/su7/QAHFbQbPNY5f9aO8RdZfb7bG8/OUvH/TQU5bPa8agLK3O0uLsxBNPrD8e+37SvH79vGh/19SfDbN0Hx17CnxIgMAaEkgl/lSyHNWYILuRYHF6vUgvdHXety3LGDV2fPJzl156aV9pM+tLA8vcFzP9fe97Xyb1qW14WabnNfGxxMmSUjEojQRKqvPXdZ6+fJ7Xdl+HlRGV+VdinEuAuJzdBb7Wmck6QNzWbsuX5qSTTuprQtQFduMCxGXX0vQ+mZ1kRvIFTeYrf5dU/3CqA8Sjau6lO8n88E2qM5dlfXmta1qnW5d8QZLSwuTjH/94/z7/ZXrdOmfwweNv0hI6P8iT6iBzP8F/BAgQIECAwLIRSMY4BVQJFqZyVyl0bXewtLAq09vCmFEFOuMKltoWxOMKettWwO9+97vLrvSFxaUQri5wLjOkwOU973lP+bNvPZxar3VKoXaCtyUl71a6UZrvWCctNMq65wsQL0Z+66KLLuq7bsr26tYi+btOOffvfe97B5MEiAcU3hAgsAIEMj7wBz/4wcGRlBardUCi/q161113dRdccEE/f3rPSEWhpLqQab77ZMoCyu/3PBtSuJau9EpqA0H1umclQFyblePK66c+9alBYWLbpXeZ78wzzxyUZ9StqdN9dLrTLSn5gVEpQZYSiB72zB+1nOkEWoG6TK/9bNjfowLEmbcu66uXTcOMFFq3YzjW207hdVpkDUu5L2XdSXU5X/ud+Rt/42/MKaQftq562nx52zLvuHx85llogLjOs7YVQMs+lNfarA66t8eSFtzJ/7bp+9//fpeWbUm1ZTvfsL8nzevXQeBxAWL30WHKphEgsJwEUvkpZUSJ79TDkdb7WMeNMr0ty2jLkOplh71vlx9XPpThB9ICuKRSETR/1/nrOr9Z5s1ru611Lc4lQFxfDQt4X2dO6gBxVtl27ZfWN6nFVmcahwWIU4CZsXdykY8rpC27PSpAPKp1cB0gHta9YtY7KkDcdhtV9mG+13STk1bUEgECBAgQILC8BdICKnmY/AhIIUoJumavU5CSnk/ymtQWxixGgDgFaKn9OSy1rV1H/QAYVsDeBoiHdVO0XALEi5HfqrsTbIMRrW3942m+wEe7rL8JECCw3AXq+2EZPqnuDrZuadZWmslv7Tw/EtQsqa48VKalUncqa6e7uxQ2jUvtPbm+Bw97fs1XqWjctspnix3YaIMeZTsLCRC3lcDKOud7HRewm29ZnxOoy/Ryf8i1PS6l5W3+DUupHJLeApI/rlPdo2CZ3t5ryvRJXt/1rnf1vQ3W35lhZYvzrWsx8vHZxkIDxPU9elQrr3Is9T2mDrBOeiyT7GvZVvvqPtqK+JsAgXVJIOVCGUohZTKl94ty/HVeLDGtCy+8sHzUDwVSDzcy+GDEm3b5UWVMWTxj1OcZUlLdA9x8+esssxjlLmXbs/gqQLxIZ63OTLYB4mwiXZekC5OS8uMztS/SlWNSm4nLj88EZ1MTcFRKTeY6w7kmA8Rt99aj9rGdPqqlcjufvwkQIECAAIHlI5CCriuuuKLvFaTsVd3tzqSFMeNaHrQtiN/ylrd0qeQ2LKXiXLr2Kakep2a+HwCzFCBejPxWuulMV3xJ++23X9/9U3FrX9MlYhnTTYC41fE3AQKzLlBXkM7v0gRr6q7rMl5mqfiUY62HW0rr1KS0CEsaVgk7wxOkcGpU7xslmFQ+FyAe3oL48ssvn9MNbg8+wX91K8IJZjcLgTkC85XpzZl5gj/q+0eZfdgwH23vBmXeSV5LBcn6O7M6ZW6LkY/P/k4SdB23rboL/mHDxNQmdWvjegzhceuvl59kX+v56/ezECCur4l63+d77z46n5DPCRCoBRKYvfjiiwe9udT547Ysozyz6uXHvW+Xf/vb3z6yYlaGUMgzpKR6rOP5yoeyTLutsp75XlfnmTvfOtfG5wLEi6Q+X2YyrXDyY7GMl5cfh+k2JrWLk9oAcds0PvOn5fFOO+3Ut6ZJi5q0bqlrMK/JAHE7xkl+XLfd5AyjTTfUCWxLBAgQIECAwGwJJLB6+umnD1oS1zX7Jy2Mqcf7asfbagPEGVc43csNSxkvOePUlFR3pTffD4BZChAvRn6rHtcu+cijjz66sK3yWo8HKUC8Co8JBAjMuEB7T834wRmzLGlYF/z1b/J0m5dx1crv9/oZmOXbZ2Sm5RmWwEVe8xs4v4XrLkcFiIcHiOtuvxOwP/LII8M5b8pQENO0TJl3hWZYpwTmK9ObBqNt9VSWLb0Jlr/z2uZL03p5hx12qGcZ+j7lb8lLJ7XfmVR2mSYtRj4+25sk6DpuW/W4jhlDOWMpj0oZ8q700lCPSzlu/fW6JtnXev76/SwEiNtrwn20PoPeEyCwmAL1MKdZb6no3+a761a9k2y/XX5cF9Xp9S4Vs0qqK2TNVz6UZdptrWtxLgHicuUs8HWSzGSbUak32QaIL7nkkj5zlXlK7eY2AHv33Xd355133mA1azJA3GaIxn1JBzvoDQECBAgQILCsBDJOS7oGStp6662717zmNWP3r+6Ksy64eeCBB7ozzjhjsOyo4G7dddx8AeJDDjmk23vvvQfrrN9kv1Nwn5TC47ogbL4fAG1B3HLuYnox8lv1cCGtVW3a1roVIK51vCdAYCUIpNJ2xiEuLXjzGzz3vqRh4+TWv99TYTu/x8twCwku77zzzgOWtpLTUUcd1T3jGc8YfF7e1M9RAeLhAeI6cBO3uhJYcfRKYLEFJinTm2SbbffSuXeUe06WT0W9VNirU919/Lj8b71M/b4demVUN5y5ByZvmfSEJzyh22yzzfr3i5GPz4rq7+6oPGd9X80y9b7Weda6FVrmq1PbLffBBx/c95KTecatv17HJPtaz1+/b/Pno4IedYWgtjv+cZ+VbdXdaA97RmW+UWO518eX+dxHoyARIDCJQPK06YWspFQwyZCho1IbnyoxonbYrnool3ZdeQ6lnCYpz6Y8o9rlhw2/UtZTD+OaaWUIhryfr3wo87T39XIM+WxdSALEi3SWJ81M1rWQ6023AeK6NtyoDGJ78a/JAHH2vd7HesyP+rjyPt1rJyOaY0zt6dSclggQIECAAIG1L/Cd73ynH9Ki7EndFU+ZVl7bApd99923e+ELX9h/nOf8aaedVmbthnUL1y4/X4A4ra0yvmN+HNSpDWS2BS7z/QBY0wHicaZ1geCogOxC81s33XRTl274Shq1na9+9atzhjYZNV9Zj1cCBAjMokC6wSsVo+r9f+1rX9tts8029aT+fV34Xn946qmndhtttNFgUtty4d3vfvfgs/ImgaO6S+uFBIhX9x7dFoCNekaNC16M+6wc60ICGxnHOT2WlJTuvVPe0KYE3a666qpu880378sa0gq8Pift/P4mME5g0jK9cevIZ/V4wPk7edn0oJN7RFICn294wxvm9MB32WWXdddff33/efK/+V62DUTy4c0339wPG5KytVTs3HLLLftlHn744e5DH/pQ/z7/1S1qBxMff1MPfZfAdYZoST57MfLx2U4dlMz60x1om9rfA3WAuO3i86UvfWm3xx57tKvoh+pLeWhJ9X1s3PrL/Hmt93VUMLuev37vPlpreE+AwEoTSHnJBz7wgUHlprob/2HHmp7d0sNbSW9729sGPbrUQwfkmZX7dXrkqVMbYD7uuOP6nn0yT738qOdj8o0ZKqtUxmr3d77yobIvCy13KeuZxVcB4kU6a9NkJuuu/srm2wBx/aOrbqFT5m/H3sv0NR0gvuGGG7qvf/3rZZe6jL2clj71F73tAnJ1f8gONuINAQIECBAgsGgCbbA1hTmp2ZmWDfXz/Pbbb+8DySl0KelVr3rVnC7w2kL0FOimS878wMjYNOnGs2Tas475AsSZJ13xZT3rr79+/uxrdqb7udKlXKa1+zHfD4ClDhDnGJMvLOnAAw/sA+bl7/q1blGdlmbpSq8NiC80v/XII4/0P/Dq7aaleHqoKandRqbLsxUdrwQIrCSBthu8HFsdKGmPtQ7clM+GjTfWBiXalgcJDn/hC1/o8ju+pGkDxJM8M8q6R71O+oyqyyPailjjPivbXUiAOOuIVYJhSTk/eT7W3e7mWZ7KT2WezHf88cf3QbO8lwhMKzBNmd6odbc9CZTxXNsWum1Fynvuuac755xzBqtN/jkNReoKD233l205Yd0LYVbUNjRpt9F2k7/QfHy2eeedd3b57pfU5jczvb1X1gHitAzOfqTVWEl1oCDT2rLQNEJJz0UljVt/mSevCwkQu4/Wkt4TILASBepx3nN8ybNmCIRUciopveqkO/vrrruuTOrLGOpe6dqGkqnwd+ihhw7Kd1LB6YILLhiU7yQInF4ZSvrud7/bpSJ7SdmPxJ9KJarf/OY33Re/+MXutttuK7NMXT5UFmzLRNalOJcAcbkKFvg6TWayrdmQTbcB4jqzks8z5nAygPkC/OxnP5tz4efzpDUdIM4229YmOY7tt9++LwxOYfL999+f2fqUH3bpArJ8ict0rwQIECBAgMDaE7jiiiv6jH29B6lJX1olJBhbutQs86RbzXSvWaf8MLj88svrSWPfTxIgzgqyL2klkcx/8kB1SlA13XjWaW0HiLMvdcF4/s4xpJAv3VnXPam0vcFk3uSl0o1c8n0lLTS/1f7YyXrz4y7nIAVpdcC9bFOAuEh4JUBgJQm0Lb9ybG1Lg/p422BEPhtV8afuFSLz5T6eVq0JduS3ce63dZo2QDzpM6PexrD3kzyjxgWBx31WtldvY9quUbOOVG7KOhLUKindGyY/kPKUeNZ5k1iPG6+0rMMrgVECdZneqHna6ccee2xf/lWm19d921L4mmuu6Vu8l3nbSiQ33nhjX8hdPk/eMfncjKud1lWpbFmndvkELVPIXn9nkqdMADXB5dKdfllH22vCQvPxWW/bS0KmpSwzFrFKmi+AW7o2zfGUlHXkXnrXXXfNCR4nkJBARJ23nm/9ZZ11mWus6+FqyjzjXutznfmG5fXH3SvHfVa2W2/DfbSoeCVAYE0IpGJTWu/W9+JsN+UHuecmL1Y/b8o+DasYVA8fkPlyv0yeLvm45OfqNCyP3S6f+fN8TO8X7fL1kANlvfOVD5X58rrQcpd6XbP0XoB4kc5WnZlMDYN06TIupaZrasWW1AaI84MoLY3bTGCZP6+pdZEa0CWtjQBxvozppquuuVv2p35NcDgZ0BynRIAAAQIECCwfgTzL0+ogXRFPkp773Od2BxxwwCotXVPrP2PVtAVQZZ2pQLbrrrsOeh+ZL0CcAGV+DIxKCWCn9XBdKJR55/sBsNQtiLMPbT4v05KGjVkZs/aH13777dflx01JC81vZfmM21znG8u6y2taq+SHYMl7ChAXGa8ECKw0gXRDV1dkTk8Vw7owznEPC3i0LdqKT9ulf5leXlMglmdfaUU8bYB4WOAk626fGWV7o14neUaNC16M+6xsc6GBjawnBYfnnXfeKoH1so3ymsDRMccc02288cZlklcCUwvUZXqTLlwHiNveCVJhIRUXSko+Od1XlooiuW5TRlb3HJNuptNrwXzpsMMO63vpaedLgX3ylXUL3Hae/H3EEUf0FWPqzxaajy/rGtbrQj4rXY5OEsBtuxst665fU8aYXgMSJK7TJOvP/AsNELuP1ureEyCwEgVSLpDe29qyimHHmopARx999NC4T8oiEgPLMALjUsqZEiCue7LL/JOWhYzKD89XPlTv06TbWmlxLgHi+ipYwPv6YpskQJxN1T+skjnMD806JYOWzFXGB2xTuqrJhf+Bx/uEL+nkk08eFJLWmdPUtssYJ22qazCm0LbU6KvnqzN3KThMRrRN2c90KZDWKXUt3jJf9jMB8wwyLhEgQIAAAQLLUyC18jNuWrqHa1MKtTM24+67775KgVI9bwrSMx5guhKqf0ikEPyggw7qfxQk/5PU5n3aAp13vOMd3R133NEHNtv8RfIWyQvVXe/1K338vzpPduSRR/ZB6fJZXicJEGd7WU9JGT9uiy226P9s97POf5X58xrH1ECtgxAJrD/vec+rZ+u7zY5J7T4sX7bQ/FaOO100Jf/XFhzGMl1GpeWJAPGc0+MPAgRWoEDbc0bdxemww/30pz89aKGQAqGMP9wWXpXlcg/98pe/POfen88SGE4gOkGJjAOalOGZ0g1sSfM9vzJfWkBP8swo6xz1Ot8zKtsolYra8UzHfVa2N0mAuB7r7SUveUnffWFZvrzmeOM1rEwkeZN01ZsusPVSVsS8rq5A/f2bdB2lpVTyaBkDuOR90zIqlRbalJZOuZ+UNCzQm5bECRQPa5mV3g6SB06r4FEplf2S10tevE65dyUvn5aoo5ZfSD6+3laGmss+1Pn3YjVpPjpB4vSaUCrU1OvPEDTJu5bejurPJl1/HSBuuzSt1zfuvfvoOB2fESCwEgTSgDH39MR9yjOuPq6U6eTZkntyerwYlfJ8SU8Vw9aTZ1KGPRhVWTPrLMsPiz0lOJ38YNYxLH9eP9+HlQ+1+7zQcpd2fbPwtwDxDJylFOilcDGFecnUpYByWIHo2j6U1LLIPqbWYr6QuTHkS1rGDVzb+2f7BAgQIECAwPwCyRDneZ5C2aT0/jEusz9qjVk+eYPFyAuksCcFXikMTiHOLBUE54dULNKyqW3tXNvFKseZfFPM6hYl7XwLyW9lO9mfrCOeqUg47IdUvU3vCRAgQGA6gQyLkBa/eabm3l8qGU23ltFzT/rMGL2Gv/pk0mfUfOtZ6s9TMJhnV1zzzMpzMq6eX0stb/1rSyDlasmr5R6SPGQaXKQ8cNJUvjMZ3zH5+Gnze4uRj88x5Dub7+rqtvDP8vkNkONJOWgcllt5qPvopFel+QgQmGWBPE/ybEjln9yL81wZVWYx6jhLWUTWkXKPVPSZJm5UL59tJD+Yf0uRH8y2FlLuMspgOU4XIF6OZ8U+ESBAgAABAgQIECBAgAABAgQIECBAgAABAgQIECBAYAkEBIiXANUqCRAgQIAAAQIECBAgQIAAAQIECBAgQIAAAQIECBAgsBwFBIiX41mxTwQIECBAgAABAgQIECBAgAABAgQIECBAgAABAgQIEFgCAQHiJUC1SgIECBAgQIAAAQIECBAgQIAAAQIECBAgQIAAAQIECCxHAQHi5XhW7BMBAgQIECBAgAABAgQIECBAgAABAgQIECBAgAABAgSWQECAeAlQrZIAAQIECBAgQIAAAQIECBAgQIAAAQIECBAgQIAAAQLLUUCAeDmeFftEgAABAgQIECBAgAABAgQIECBAgAABAgQIECBAgACBJRAQIF4CVKskQIAAAQIECBAgQIAAAQIECBAgQIAAAQIECBAgQIDAchQQIF6OZ8U+ESBAgAABAgQIECBAgAABAgQIECBAgAABAgQIECBAYAkEBIiXANUqCRAgQIAAAQIECBAgQIAAAQIECBAgQIAAAQIECBAgsBwFBIiX41mxTwQIECBAgAABAgQIECBAgAABAgQIECBAgAABAgQIEFgCAQHiJUC1SgIECBAgQIAAAQIECBAgQIAAAQIECBAgQIAAAQIECCxHAQHi5XhW7BMBAgQIECBAgAABAgQIECBAgAABAgQIECBAgAABAgSWQECAeAlQrZIAAQIECBAgQIAAAQIECBAgQIAAAQIECBAgQIAAAQLLUUCAeDmeFftEgAABAgQIECBAgAABAgQIECBAgAABAgQIECBAgACBJRAQIF4CVKskQGBlC/zwhz/sfv/733dbb711t9VWW63WwT766KPdLbfc0i+76667dhtssMFqrcdCBAgQIECAAAECBAgQIECAAAECBAgQIECAAIFpBASIp9EyLwEC67zAVVdd1f3xH/9x7/Af/sN/6Pbbb7/VMrn77ru7d73rXf2y7373u7tXv/rVq7UeCxEgQIAAAQIECBAgQIAAAQIECBAgQIAAAQIEphEQIJ5Gy7wEZkTgV7/6Vd86da+99urWX3/9tb7Xd911V/fQQw91u+2221rfl4XsQFr9/p2/83e6n/zkJ92+++7b/emf/ulCVtf97//9v7vPfvaz3SabbNK95z3v6Z7ylKcsaH0WJkCAwHIWeOyxx7prr722u/HGG7t7772322KLLboXvvCFM/9sWM7m9o0AAQIECBAgQIAAAQIECBAgQIDAMAEB4mEqU05LV7MJ9Pz617/ug0bHHHPMlGtYGbOfffbZ3Y9+9KO+293SMnIpjizd+95www39tr773e/2gcc999yze9azntU9+9nP7vbff/9uvfXWW4pNd9ne+eef36/7bW97W7fddtstyXYWstI77rij+1t/62/1q4jJf/tv/20hq1vwsl/84hcH+3DCCSd0p5xyyoLXubZWcMEFF3R/+Zd/2W/+P/2n/9TtvffeI3cl1+hnPvOZ7re//W0fBPmbf/NvrjLvT3/60+6d73xnPz0tiNOSWCJAgMBKFLj//vu7//gf/2P//K6PL/mF1772tfUk7wkMFXj/+9/f5bm57bbbznReYujBmUiAwBoVmCSfvkZ3yMZGClx88cXd1Vdf3X/+D//hP+ye+MQnjpzXBwQWS+Dhhx/uUr6VspWkV73qVd0+++yzWKu3nkUUePDBB7v/9b/+V7/GAw88sDvssMMWce1WRYAAgdkSOP300wfPrt133707/vjjpz6AxLm+8IUvdNdcc02/bHrOPProo4eu5/bbb+8+8pGPDP2snZjYzbiynzR2u+KKK7of/OAH3Xe+850uPW+mcVbK3vOaGMckaXXX8+EPf7i78847J9nEYJ40eHjJS14y+HtW3wgQL8KZ+93vfje4wF/+8pd3f/iHf7gIa529Vfzrf/2vu+uuu65vBZkb0mKn3KA+9rGPzXvjyRfz7//9v78kPx4//elPd3/xF3/RH9p//+//vcvNdrmleh+zbylQfepTn7rWdvPP/uzPuq997Wv99lOom5ays5hy/SWAm9bDaZn9n//zfx56GPkxmev/vPPOG3yeFsJnnXXW4O/6zZ//+Z/3D95My/W96aab1h97T4AAgRUh8Cd/8id9Zr89mPe+973d05/+9HayvwmsIpAePH784x93z3zmM7v/8T/+xyqfm0CAAIH5BKbNp8+3Pp8vvcBpp502+F11xhlndJttttnSb9QW1mmBb3/7293//J//s//dXyD+3t/7e90rX/nK8qfXZSSQSqgnn3xyv0cJhJx66qnLaO/sCgECBNacwJVXXtn9+3//7wcbTKWZP/qjPxr8PcmbVMhOpZtvfetbg9lf+tKXdv/0n/7Twd/1m69//etdGlBNkl784hd3//yf//Ohs956661dyoxS5j4qpTFcKmyNSwtZzz/+x/+47+1u3Prbz0488cQuDQhnPQkQL8IZFCD+K8SlDBD/5je/6f7Lf/kvcwqXE6R7xjOe0T3hCU/oUmPl+uuvH5zNnXbaqb+xbLXVVoNpi/GmDr4u1wDxz3/+8+6f/JN/0t1zzz3duJvvYnhMso7UOPo3/+bf9LOmFe2xxx47yWLLbp78UPyX//Jf9vv1jne8ozvuuONW2cdhPyYz07gA8eWXX95lLOOkf/AP/kF35JFH9u/9R4AAgZUi8MgjjwxqruZ++O/+3b/rK9rk2a4l0Eo5y0t/HALES29sCwRWssDq5NNXssesHJsA8aycqdnfz1Qg+dCHPtSl17A2CRC3IsvnbwHi5XMu7AkBAmtPIL0ppFFT7oklTRMgTqOoz33uc30PuWX58jouQHzuued2qfSftMMOO4wt33ne8543tCewOm6Q9WT4xbQYftrTntYl4PvNb34zk/s0rge6ha7n//2//9f3HFu2Neo1veeWJEBcJP7qdb3HL6Tfz500/q/FikyP38qa+VSA+K+clzJAnG6dS8vT3HD+2T/7Z30LkvoMp/ufBJHLF3UpWnPPQoA4JunWOF0qLJcxbfNjK9+TWW4dm9ZK6eIsKTWK2/GU68KLzJOHWbpDz9jL4wLEOU9vetObssjYlsn9DP4jQIDADArcdNNNXbqFTEolmFSGkQhMKyBAPK2Y+QkQKAKrm08vy3tdewL1udOCeO2dh5W+5Ztvvrn74z/+476SfTnWF7zgBd03vvGN/k8B4qKy/F4FiJffObFHBAiseYE6v1S2PmmAOOXSGQ4svcKW9KIXvai79NJL+z/HBYgzDGOpWJXeNKeNQzz66KN9YDuN3JLSGOutb31rt+GGG/Z/57+6wVb+/uQnP9ltsMEGeTtIi7WewQrHvEl+4aqrrurn+NM//dO+/H/M7DPx0WLFaQWI/3r8vKUISs7ElfT4Ti5lgDhdRt9yyy09RQLF6ap4WMpNLa07E5RLSk2W9ddff9isqzVtVgLEq3VwFhorkG6L8uMjwd50Bd2Oc33SSScNrru//bf/dj8+Q15TcWFcgDgbTVcd3//+9/vtf/zjHx9b42rsTvqQAAECy1Dgxhtv7NJdT1Lui8ccc8wy3Eu7tNwFBIiX+xmyfwSWr8BC8unL96jWjT2rCzwFiNeNc742jrIu58lYiyl/SsOD0m1m/n7FK16xNnbNNucRECCeB8jHBAiseIGM2ZueRJP233//vnw5cZFJA8SJt+Q5l5QhKv/RP/pH3Y477jho7TsuQJwurdO1dVIa97Vl5f0HY/5LWXjpvjr7XneRXS+WYRszRnBShnxMr7J1Wqz11Osc9r7eThqGJUC8EpIA8SKcxUlaEKcbxQR+0pIy6eCDD+722WefOVvPejIY93e/+91+UOwEO7feeutujz326Ae83mKLLebM3/6R5VODIbUc77rrrr4VaZbNgNnPfvaz+/Wmb/ik1MbYeOON21X0rTxXdx2TBIizj1dffXU/0Hn2MWnnnXfux/JN7ZRhwdw0Tn/Na17TzzvJuHOf+MQn+sHMs0AKpJ/0pCf1y2Y9H/3oR/sgXtZz2GGH9dPb/zK+XbpVSMog7GmxXFL9wyFdTO+6667dZZdd1g+gnh8Q2Va6tz788MPnLFeWz2vOb30eck1ce+21ff/+6R46P0hyU6xbqOZmfcMNN/S1ZnKTz3Yz1nJe2zTJcT722GP9OUirrhTc5/rcZptt+hts1lvX1GnX/8tf/rLf3yybFrKZNwH7Aw44oN/v9mFw3333dTknSYceemh/PbfrzN9x+PKXv9w/yDIQfa7PrDc1d5///OePfMhccsklXfYl3Ym//vWv72KY2kX5l67Hcz5y/b/sZS8ben0N25d2Wmoyvf3tb+8n57opgY56vhQ8PetZz+pbxsUyKeMjTBIgPvPMMwdja+dH6N57712veqr3cfzSl77UX5OxSHA694GMl531tuenXnn29Tvf+U5/XvM9SM2vnINcz3GsU67Jiy66qJ+UbkJynkal+ppPBiXXuESAwPITKPePtKLI2C95Zicfku93vrvD8g3jjiL3iNwr7r333sFY9Lkf7bnnnv1iT37yk7vcO9uU+dNjw2233da35MgYxckrJD+z/fbbt7P3NVtz70pKFz/Daq3muZt7UVKec3kutCmZ/a9+9av95ORJnvOc57SzjP17mntou6LVyR+168gz+Wtf+1qfh0y33rlv57mU/OZ8Q25k+8k/pvum5M9SA3e77bbrz1We3aPO/WI+g8v1973vfa/L2EcbbbRRXxs3P0jzQ3WSAPFCzkHr2f6d6yN55PjkGs31m+sy11P7jGyXzd/JS+S6Lt+JfLeS38vxxbfkUXO+8jthWFrdvNKwdZlGYF0SWEg+fT6nhfyuyrrre3d+/+d+kntL7g3ld+y4faifmQ888EDfHV/u/XnWZj3zpfyGzbMj98/8zivP3PzmGfXsqH/fHXHEEf0+p3Cy/F7N/Tu/UzPc0Xz3xzx/cm/N8+fOO+8clGHkOZzjmCRAvNBzMJ+Rz1e+QCnnSV7jqKOO6n8z1+MqLjRAvJD8Sckf5TuWcpLcF3bZZZf+N3VbpjjsTNV5zCyfIdpSNpAysRRuzzfcy+rmPRYzjzgqD5UynuzfJGMQL+QcDHM1jQABAstBIHmgBHTzGzMpLXrTe9vqBIhf/epX9+Pp5rmQ8uRTTjmlX+e4AHEp907s5P/+3//bzz/Nf4lJpEw8KQ0JRpUtZ1jRf/Wv/lU/X8rnU/5fp8VaT73OYe//7b/9t4Mur9PqepLn8LD1LLdpAsSLcEaS4XrtmBbEKaTLGKOlz/QUsv6Lf/Ev5gThcqH/xV/8RZegzKiUL0IKR4elfPEzPmrpXrmdJ2O/pj/6UttiWO3bha5jvgBxfrBmMPJRx5gM6t/9u3+3/yHY7n9d6zs3jkl+LLfrmO88lfkTXPuv//W/9n/mvNXBrPLDIR/ms3POOWfQ7VBZvry+7nWv64OKyYDXqa718n/+z//pz1s9RkCZNzf4BOayjfe///1l8pzXjC+QG3id5jvOFCL82Z/92aCgvF4271MI++d//ufd5ptv3n7UL5PjHra/mTnXZ67DOgiZQvsyCP0f/uEfdmll36YUuv7RH/3RoAVu+3mujWx32Hkv113mSbelpRvTYevIdyiFHtOmVAIotYLe+c53djm3bUrByiGHHDLn2MuDcr4WxKkY8id/8if9KkeNb9xub9jf/5+9u+fVZuriAH43Oo1K5ytoJD6BKOhIvCWi0WmpRKiJBoUIQaIQGomEUEhoFBJ8B51Go3/8hnWe/73sud5mnvs53Hsl5zpzzbVn75m196z3tfYxPDLSUG5Hpb6//PLL4V4TNU7f54GC5fmAyC0RXGtgvcEPcHyu02Wt33l+YmBiYD8M4G/vv//+Kh3mdPWejxy0a3eR7/6ozUiJSD47uubJJ59c9jNmfC7IbSgE8IwCwPCfkpEefvjhG+SiDnjf119/vZy2rQC+ciqcS0Oz3y3ykX7wfff7zTffZLdXx3gQPrymbHEIkEvX5DPXm3vGyA578WBysGhhsmgH47/yyis33njjjeUezYvn7bBlDnpf+Z2zmrLLgbEGSmHh32tgbl5//fXhz/BKBiJfgEceeeTGM888sxznxzEef0hWyn7m8cTA7YiBLXL6IXxt0asE9Qo4XqPd+C5dTxDKGhzjmYLCBU6lblZ9HeMd2q3pbqnfoV/wu/Yca7qT/jl90PcyajqXwFlH5/jss8+W0yMbxpY5yLHm8e2NAYZl71zaCvZyEG+RT47xfvr9s88+uxrMcUzGFMDx4osvrsr3x8Y/JHvsJSPm/pZ9lRofnarMtzUZassc9DHn94mBiYGJgeuEgfQZ0CHRwfKhnJpBLPCPvJXOzlMcxJnQx9bw8ssv/89QsxdP3tKPhIMXXnhhecZ/U/awB5oO4h2W7iGHnAwMEQVlVJJlyYGWGZqydDi20igma0+Wjc24U2EapdHbb5bzqlL6PRLhlrBk8Va/vpdxtCtXe/RRAqCx1Z1P4CR/6aWXlqjiOs8gJiua0Fn36Lf33ntviXyudv4jMrX/C8OuaJE0DmfbteND85TXnOog5kil1AJGbpun//TTT9nVkoFMsU1IB7HrEGHGT4SYcdZ6KOD8rVr+VT6hMqCqjcACpR8KDj0nPIsASnzLXnHvjLM1NkWjnLrVr3mqsg/OuWcMwFr+/vvvr/rs5UPTgDAyMsjEqegm/cKrterdqaAK592nSJ2+z0CtO22sPc5r74+IeQyNsldwKcNilBC9DpTtEKl6CpzqIE7cipiCw3NBNDDFqObW/Fgz1kOuS2uOYT0jhbvSZQ5kBXMacF4X9L2XszT2u+++e5NCXdf8/vvvNx5//PHlq3693yMjVbWf/ycGJgZuPQYyCKZGJ4PgDbI5i9d5h9EBmZOngOoReJaMKFlFgCGqnMyOKyrVb2Ql+7kUoGMCSjjo0nkpKE/QSoGMo3L4jqo8UHiefvrpar7wmR54RblhSMdD8BIBdafSqktpqBvaKh/p44MPPrjx6aefOlwAXskFMrDJGAV4rUyvBBVEGPdLtiic47XmvgLC4ATvsAYS9uDBKSdU32REQWG1btwXwOPICN1BvGUOaszRf7LI888/fyU/a+NeyBPWdfLXtQCv0fOp6IE/loyfMvrIuLlVVho92zw3MXC7Y+BUOX0NT1v0Kn122o2+yrpVxaP4rnbo7KiqQOeZ6LSsYfJ70XTXr22BRSa3h1sBunTXXXct9ofkufgyvSAh6Rq9q3RIfQhEVcmpdBLXvfbaa3+rIuU+6cnFZ7TzDOih+6/rS1/2e7dhbJ0DfU6YGFjDwBYjcvW5RT7p+r0+GaRli+U77p2R4NCr8ZExOX+zLfnee8b+UO8euUYVs6xgZ6ytssceMmI6PtwT6DJU0oiRDLVlDv4ccX5ODEwMTAxcTwyg04IJARuAgHd6/LkO4tHTneIgxkeqggNbtmQq+xiXHMmedN99961WWB2NOzqH70n4Kn7GFoD3nQtb+2E3Kf3/35Q9DI/TQXzuahq0X3PIWXgErXKwMCZZ0OnYZJDkcConlgxMBiaKVkFGBo+cRxwzhB6gDNNzzz23KJcMm/r3GwUwoStXe/RRAiCBMx3E7iGjoxlvPWOVzCa4fvjhh1eRwSMnHiJQURqegxCI4ImGufPOO/PRVo/X5qlfcKqD2HWeldJcwrTyNpT1zKbsWcjpINaHqO6nnnpqEeg56pUY1Kagj4FIm0/lmIGyClX+2PdDz2mDeUQMZOkI361XRLb6ZRDNiPXceF6Glt9KCRGZqn0ZorVVmhKkAaE7iBkGrP8yKngOhv/s1z1V8AMDBwN3Gu1r3S2D/fFhDJnX1YaBwhyVkeGSDNaPPvroquSFTN977723hjv4/1TDk+cX+QvgFS7PAUZqztrCv3dDll3h0Zpx30VnupMg71OwiZJTBcreyWYH3ru33nrrql+l2N98883ltzXDeGZNERwee+yxpf38mBiYGLgeGJB5IyilaKT3lKxRVSTwaO95ZQYJHhJEdA6gPVWaX6UQpfs62CoAbSqQTcoIVnSMIYtMVUbzbmxOOkbGqev09+2339549dVXq+vl/9tvv33lqHaCQV6wHljLMF5+HHzk2OfQ0D3ko8yIIDsyBFZJUf0r71fOVPIEh0ThhrwAL1Xhwbyan5KryAUcz3ggoHRqn9U8tvJg6wvei3898MADS1BRZfBwYLv/ukf3QRmsZ/IdXDoHf169/pkOHPi1/sl8VR0m17bf33nnnZs668ZV96lEV+FY8IMgyFKiXdyNm3vISjfd1PwyMTAxsGAg6UbqXqeiZ4te9dVXXy1VEYyFtrIRZMCvLRoEZAG0WxWDohvOCfqm8xQIQFeSuYD8rs/i7a4nxxd8/vnnN/BB4Lwg3NLdnOvOZwbH3Noo9TvtVdyiL1QQEZ1YpaySHfxOJ07Iqh3oOl5gjLJhcAypbJLQbRhb5iD7nccTAyMM7OEgTjpzjowoiIydpOQjtgJ7IFeQN/2eU5ghHnRdnAzo97LtsLGxFxQdIX8JgP/iiy+W63uA5R6yx1YZ0bPDX4FgUIH69Qwc6GhX4Ui7LkM5d+kcuHbCxMDEwMTAdcUAOk+PrMSqtI/cKgdxl0fXcEXHZ2coO8Rau37eM0qcJA9W0qDESwmI58Ae/aTsO5Jrz7mf69h2Ooh3mJWRQ45RjZNQVg6whyoBKZ3Dzlukog8Iboy0DHujfd5kBsoy6EaxjOjQH8NUOpedA+ng8j2Vqz360GcJgJTYdBATWv0G7r///iWDekQUCMyFryRsy4V/fCj7SJHsIEtSRApnsYyTNRjN06jtOQ5izrJ77rnnb92Ixi6nfC/pkA5iijyFPsF9KsVVRvBRxiplH8EHcGrdFBx6TgZV+98Bc2SuEjgaZSSLPtdvGWi14TQQHcSIMNpXgJFUtrMIc9dWGeMkot1BnOtylLVsXM5nzouKcO1Z9LXutOVor2xV3wvSCCJS3d7S5wADij6AEpeH1ln2m8rIIcMTI4pAASBTmmPkHPA+CywA+slMueqH8bmy2ZOOZMSZoIGKPqvr/PfucZ6YW+9aOd/NDUc0gBO46UBgKUaegQO93fw+MTAx8P/BAAccAyvex7HIwNQh3/WR4aW379/TibbmIFbiuLJF1/ZiTycyuUpZygIZv0VnuwxRvA/PK17SeUFmKIyypWqc/n8LDd0qH9k6JINu4KCC7/I+lTYuIz1lilIFyJ+iYAHZkYxVmbrLyT8+yKl4EmcBkPH96KOPLsc+tvJgFUjKaYCPMGZ2WZlcY31UxHDyMPewZQ5cfwjI3mT0H374YZHXKvs9r8ksvJSvtUn5YY3H5vvlmv6O7SEr6XfCxMDEwM0YOFVOv/mq/34r3uLMOXpV6nFor+DV0V6/qb9UycAaXeB00USyNudPh3QyJ13J6j6u6c7f6if12c5zU7/DNziaenUR+o1qH/iuNsWj9f/bb78tVTtqrDUdIXm7tp3GXjoHNe78PzFwCANbHcRb5BPbqlWAXnf+1j3nO+acd7aqraWMyV4mSaDb4OgAkksqWD/p2B6yx1YZMfcfHyXKeGb0pbLXfE9a5/uWOXD9hImBiYGJgeuKgfRddD3zVjmIc7vEY3jiJObbKnvyofZ0f7JiBgBpL9BasFAlMxzqw2979aOv5Glr9irt/qkwHcQ7zFx3yFnwjJOV7cDhs+b4PXV4xsoyzqXglxl8o/1oq/8uOKVytUcfxqmXpTuI0zjWyyHX/fmfhl8RxIhHB8SB4Fq47b+LwGa85JTtRKfPU0ZdZz9JZHv2b2Zzy/YWmT0CY8mEYlgEH3/88ZXDNB3EI+ev9uksl70yMhqUUcMzi9AuOPSc8O8ZAGXgwQcfrMuO/he1WsqD8Yx7CqQBoTuIq09GA1nsa0Q+o9iVrKh9+oxf687xGq5SMTi2T6B+OmSE+9oY/Rrfa466UWTUFkMHFLjMQB+17ecSjwzVFVXb28kmYIgWeWwckAEiov69r9043/vJ77nHaH+/k+4oBYWJTpgYmBj452FAdYvae/2SaMljDuKkQ4T+3M6gY6v4Y5c1stJIVivAEwUOMchzbP74449L5lUPrsLPbbUAlMY+lQ7mvZ9LQ7fKR999990Vv1gLkPI8gr/MAZCdVU5kvLwyR7q8szT+6yNLdPdgoK08OJ3XjlXCGUHKAd1BvGUORmOdey63oUhlkXOdA9/aIweQX9fWVWYqd+Nm8vhLZaVzn2m2nxi4HTBwjpw+wselehU9lvwM2A1kBY5AwLlATDQks/sEEVf1qEP7n6FBP//88xLoo8RfZShnVQ39P/HEE6Phl6pUqn/UFlXpPEr97lDVjXTgCmYtXS+d14f2KE7+4ybThuH7pXPg2gkTA8cwsNVBvEU+KfpE3j207UkGkmSlgHw3yM5oxQjYd9hK2M5seVYO5j1kjy0yIvpVW7+QoeBglEjjmWwbI9ATdBlqyxwsHc6PiYGJgYmBa4gBVR4E4ZER8QmBdpWk5XZvlYNYwDkfBz5y9913LxVObRGm4pjMX9nNubUXe0xuMbaG2kpQy9/ZIQRM8bF1f0+2y+O9+lGZtJL7LrGH5T1d1+PpIN5hZtIhR3nzvUq5WDiyNdaEmdHwDLFKzv3666/Ln7KKZcDT/pNPPrkqLZNRdT1jpvedxs9Urvbow1glAHajLadgKZYyDNdeZGVuqgRlF+z6s3A8yTphMKwS3tlGNioDc0ZJ5jyt7cWkj1MdxN3ZmeM7TsNr7t2aDuI1R6sSjpR3kAEBy4m/PuCKwbdn9B56zjRI6EYWkWxaygDB+xCkIVs718EjQ20pEqPr04CQOMvo9UPGDX1m2+5orHWnXe3X7DjB2rKmgMCDKiOabQ4dyxRXxhPAwyiDaHR9KXbHHMQMQBzX4Bgu+jiJm7Us7H5N/1736bz3l7NaX55z7X2tPtJo3x0UWfo0576unf8nBiYGricG0EwGI3KI8m2yJ73rgAOPI+8cOOYgVmVABhSgzOT2BsvJ+CADlYyVsgzZiZGbkmR/NTIRyLJHnKB4UmVkMCbdcccdN/GYS+jopTR0q3yUTkVlwKu0dKDr4GGOX7hYuyDbplyylQdXhRzjZr/9PuwFbEsN0B3Ezl06B649FxgbvRecNIIbVdkgl4LMPqe444tgtH3K8sNfH6l0pgycPP6YfJBtu6yUY83jiYGJgT8xUHTjmJy+hq9L9aqk3ewEWbGpj2WLGPw46V7K3r0aRr9+9D3HP7Z/WrZNJ1Pqd/D40EMPjYZaHLpV5SgrnWXlhV4dqneUFUaS72t36Rz0Meb3iYERBrY6iPVZdMbxqXp28nOGcE6ANZApzDEAskpMyW2X0Lccf4vssUVGzOoqxyqsCfCsxI2UoQpnl8xBXTv/TwxMDEwMXEcMZACehETB7wm3ykGcY64dqxRLhizIgMM61//zUwlyV2n3l19+uaqwqp2EAjb9tcDr7GuvflIWvWTbyryn63q8l4P4PwAAAP//nTmVIgAAQABJREFU7J0HvBXF2YdHQHqVLr0J0gVFQcGOvcaS2HuL0diTaHril8QSjYndGI0ajSV2xY6gKCoWBEFAAelN6V2++e+5s8zZu3vOufecezkXnvf3u/fs2Z2dnX1mz+zu/Od9Z7tN1kwZ7OvpM4LUnTp2KMNexZn0+++/N0cddVRs4U488URzyimnxG7zVy5ZssSMGjUq+Js8ebK/qdTy448/bmrXrh2sv+GGG8zbb78dLD/66KOmXr16pdK7FX/729/Mq6++Gnz9z3/+Y+rXrx8sFyIPZXTttdeazz77zDRq1Mg89NBDQd76p/NfunRp+D2Xhd1228386le/yiWpWbdunfn444/N66+/bsaMGRPuc8QRR5jzzjsv/O7X0/77729++tOfhtv8hbfeesvcdNNNwao//vGPpm/fvuHmF1980dxxxx2x28JEJQsvvPCCufPOO4Nvv/vd78wuu+wSLP/3v/81//73v4Plu+++27Ru3bpkj80ffp3873//MzVq1Ni8sWTp8ssvN1OmTDFt2rQJj6NNmc5TP9M//elP5t133y2VX/fu3c2QIUPMsGHDTLNmzUptX7ZsmbniiivMvHnzSm1Tfe25557B/nXq1EnbPnHiRHPNNdcE68Rc7GWzZ882F1xwQbAcratgZeTfmWeeaRYtWmRatWpl7rnnnnBr0nUXJrALGzduNEcffXSw6sADDzSXXHKJvznr8gMPPGCeeOKJIN2f//xn07Nnz6z7KIHOT+cpJqr3JNPv//TTTw82Dx482PziF79ISlpqvc/xhBNOMKeeemqpNNlWfPHFF+bqq68ulUy/5V133TWo24EDB5pq1aqVSrNhwwZz0kknmdWrV5e6Fn/2s5+ZCRMmBPtka59KZcwKCECgUglMnz7djBw5MriPql1Jsm7dupmbb745aXPset2rdM+S/fjHPzYHH3xwWrrXXnvN3HrrrWnrcvmicqg8zvznnIcfftg0bNgwaLvVhsueeuop89VXX5krr7wy+P5///d/pnfv3ub99983f/jDH4J1Kue+++4bLOf6r7xtaL7PRzr/N998Myim/2yYa7nd8aPPEXH7+2z/9a9/maZNmwbJ8r0H676l+0fHjh3NbbfdFnfocJ0rb5cuXcwtt9wSrtdCeesgLZOEL2vXrg2uET0ffv7550F5E5Ia/3lv5syZwfWutMcdd1x4n4/bd/78+eacc84JNv3gBz8wZ5xxRrDs3+PzeVaKOybrILCtE8j1OT2JU3nfq/y2OynvuPXPPvus2W677YL3ebXJMr/Nidsnbp1/fL2TNm7cOC5ZsE73GKWX6V1h6NChwXLS+12w0fv32GOPhf0Cen/Te5zsxhtvDJ45tPzII4+YBg0aaDHW1N7rPV/m92Hoe3nrQPtiEMhG4J133gn6TpTuJz/5iRk+fHi2XUptL8/zyZw5c8z5559fKq9sK84+++ywz8M9M5Xnub1Qzx75PCPOmjXLXHjhhcEpqx9H55Zkc+fODfv9/Gcol748deD25RMCEIBAsRGQ7qL2VaY+/J///OeliujesQcNGmR++ctfltqeywq/n3rvvfcO+1By2TeaRjqK9BRZefpbpPncfvvtoR5x8sknmx/+8IfRw2T9Xp58fN79+/c3v//977MepyomKJROu519OEcgTrgCfvOb3xiJK0mmB5Zf//rXsR1OEpa6du1qpk6dGm73OwHVuenEviQh0R1XP6aXXnop+Oq/XBUiD2Wa9ACoDq2y2s4772z+8pe/lHU388EHHxiJq+pslEnUq1WrVrCcSTgNEpT8y1Ugdh3L/r7+sv9CLTZ77LFHsHlLCsQqgH6qGijw3HPPGQkCcXbdddeZ3XffvdQmcVUHu66jONFfnczat23btuG+SR0I6qS/9NJLg3S5NO4Sl6dNm1ZqAELSdRcWwC7kKxA/+eSTRh3iMt18dRPOxXLtePJZHHTQQebiiy/OJfsgjb/vaaedZo4//vic9/UTSvjXtekGkfjbtKwHC93I4wah/POf/zRqf2QSeTp37hyI+RL1ZRJbnDgUrOAfBCBQVAT8AU3RgmmgSI8ePQKBTNs0mEgdu2WxbAKx7kcaMFVWiw7i8oVeDUzaa6+9jBuo4gbf6H7wox/9KHhO0EuF7j/+85EGuOmcy2rlaUPzfT6SqK1zlj399NOmevXqZSq2O36fPn3M9ddfn3Fff6CUBr/pfi/L9x7sytCrV6+wEzapIOeee27wUhgnEGuf8tRB0rHcer0Y67nmm2++cavSPlWWNWvWBIPBtMEXa/SMpQ5lmTpqNWg0yTQAzt0z/c5N/x6fz7NS0nFZD4FtmUCuz+mZGJXnvcpvuzPlHd2m95GaNWsG73Dunqn3Zb03l8X842frP/joo4+M+jJkGmCrgbaypPe7YKP3L0kg1j3HDezWu+X222/v7ZW+6Hcq+n0YLlV56sDtyycEMhEohECs/Mv6fOLf+zOVL7pNg7b1jCtzz1fl6cz2j5/Ps0c+z4hlKYMvYvjPUD6fstaBvy/LEIAABIqFgAYuq79YbZpM/dRu4LZfxmITiEePHm3kbCXL5b7in4tb9gcDaZ17Lnbbc/0saz4aICndTlae5+5cy7Wl0yEQF6AGfOFR2ckTUCKKOhxlEnklmsR5iurHLa8CZ/KgkGeNRGGll/eL7K677jLPP/98sOwLxP76e++917Rs2TJIE/dPIvS4ceOCTf7LVSHyUKZJD4CuQ08jhtVxlovpJTHOizWXffXCrM5mmS/i+vWUyYPY7yiPdj77HsTqdJbXbJJpRLbzGvUbkS0tEPvlVcMoj3W95EsYd8K60mQa2KAO9hkzZphJkyaZ8ePHGzX2vvmj0ZM6EPzO0GyjkfTif+SRRwaHiHoZJV13fnnyFYjfeOMN89e//jXIUiNZDz30UD/7xOVcO578zhcnWCRmGtngczzkkEPMRRddFElRtq/yyP/yyy+Duh07dmx4I1QuSSOQ/Rc45yUlLwfn6e13mJetNKSGAAQqmoC8/HU/c6bBQbq3aaCHnilcxBLXnlWEQKxIKBrcJVMb6yJuuDIlfe6www7hIDCl0T1ML0MydWLL28CNLPU9P5znksQ9te2KvKBBT+UdnBYcsORfWdrQfJ+PfGH7/vvvL/Nzkzt+tigXOjWNlNU9QeY/Q+Z7D861DP5zQJJAHBTO/itLHbh9kj7d+Wm7OKnjUQMmNBCuSZMmQWQN/4XXv9/5HZbZopf43i1+56Z/j8/nWSnp/FgPgW2ZgLuv5dIG5sIp1/cqv+2Wd66L6pXtGHqXlgexf8+86qqrguhP2fb1t/vHl/jqD+z102n5mWeeMepjkCm6l6JGyZLe74KN3r8kgdgvwz/+8Q/Tvn17b6/0xaT7T3qq1Ldc6yBuX9ZBIEqgUAKxyzfX5xP/3q9+q0wDzFze+lRb4rzx3fNVNPqanz5p2T9+Ps8e7hkqGmHQP25SP41fBg34dBHp/H3dsj8Q1X+Gctv9z1zrwN+HZQhAAALFQkC6kDQcmZ5fk5wRXR+9n0bOSBo0lKv577LZ7gXZ8vT7jLNFhciUlx8FR8+S7dq1y5Q8cVuu+XzyySehB3Z5BlwlFqAINyAQF6BSfOHRf3jxwyHpotUF6Dpa3WEVqs6FA9C+CnsY5wHij/T1BWKN+pX3nswf1evyd5/qNJVw7QRAv3OvEHnoOEkPgAqXKxFRVh4PF/0g9SeTB5A6pzOZL+L63p5+56IaUTcaOpqX31BkEog1OlOjNJPMf5n1Q0kXk0Dsl13Xhq4L5wmarTPT33fhwoVGoc5cPfkhI5I6EBSa+Jhjjgmy0e9DjXuS+aEXJV7Im8dZ0nXntusz6cXDT5Np2fcCUjh5FwYy0z7almvHk3/NJnlvJx1r/fr15thjjw02Z+s0T8oj03oNINC17DzG77vvPtOiRYtSu0iYloeVXgA1QOCyyy4LPb7leRbXrpXKhBUQgEClE1D4d4Vjlimc3eGHH16qDGpDnddtRQjE/rOQQuuqc6e8JoFO0UT0MqR7ke7jMr/t8iN8qH1zYZf80HzlPX50v0xtaL7PR/7zhN9xHy1D0nd3/9T2bJ7TbpoHpXVhTrXs8ihP55/29xk8+OCDgeiq9VHzR/qW9V6XqQ6ix/G/+4M41cGq50PX8eqn8z3gfYHYf/bQoEcNmoqbMkR5KeKNC4Xud24W6lnJLy/LEIBAikCuz+nl4ZXpvcoXTTVgKdu7bfT4/ruVG5gZTZPpu3/vUBus9+sk86cXUN+G2l+ZXwZ/CqFoPv65+iGm/WcP/309ur/6WXRvllgk8/swommj3zPVQTQt3yEQR6DQAnH0GEnPJ/77/YABA8xvf/vb6K5Zv7vnMyXMFsY9mlmhnj1cGcrzjCgh170PZJsKRSHo3dQj/jNU9LzivifVQVxa1kEAAhDY0gT856eylqWsESdzEYj1PKhpETSAcb/99gs+48rlt9NnnXVWqAUorXQE95yn6JOZ+o79qGa+I14h8/HLL41O9wlZ9Hh+uq1hGYG4ALXoC8S+Z6oeauSKrrC4Ms3tqotLPxxnvjDkwiG6be7Tf0DTOl8g9ucHUeeTRpIo9FTUFLpJ3iXO/JerQuShfJMeAH0BWqKRGo04W7x4sZEnpUId+t7WvmdGJmHX5el7SkcFXjeSUh3H6gyNshJrN5+q8ovu79dXUh7aT961Lkyw6sVn77+U+8Kx9nNWUXMQq4NVDbjK1K9fP3e48FNhEl2IYn+0qTo5JZLKw0V14NeP21mDANTJIJOHrZszJlMHgi+iZ/JY9r3CxVUjn5wlXXduuz79TtqyCN8uD3//bC8obh995trx5A8A0Q1PXnFlMZ9j9Jp1+egc1An17bffBh3wbhSuOsB1w1M7JWEoLsSb/xDizz/m8tan72GgwSpubrTydFz5+bIMAQhULAGF+nEjTPVbjwsj74/MT4okkKmU/v5xcxDreUkheNWZq3uPvImi92eXv8oqDwl5+7opJNw2fb7yyivhXLaKOKF7V7Td9l92tE3PQbJsnlRBosi/fNrQfJ+PfK6ZvJ8lmCsEk0z3eDfS2G+3tV4vjXGmqUwUkUUWHT2c7z1Yz7QShmWZImhI4NcgQ1lUIM6nDoIME/7p2nEhojN1OLpBCcrGF4j13R90mDSQU9e9P4gzeiz/Hl/eZyWVBYMABNIJ5Pqcnr7X5m/lfa/Sc7f6BGR+38HmnFNLei/V1C+KLKZ2r1q1asGG6PtqkvijAbyKkqG+il133TWMWha9d6h9j+uMU/hCvTvLJPCorXZlyPR+F+xQ8i9JIPajJmiKAb2/xJXBnzpCWfp9GPpe3jrQvhgEshHIVyDO5/lE93v1jckyPZ+qPdFvvW/fvmH0Qe3jP+P5oae1zTf1Tbkog3rPd/0QhXj2yPcZUQM4nQNC9PnKnYOcQPR8pWc2WfQZKp86CDLkHwQgAIEiIiCh1UVMzVQsp0MpjRvcd9hhh4VThWTa123z+0yifQAujS/Y6r1XfUVRUzut5zw3NVb0fdZ/l1bfVM+ePaNZBN+VjyLnOMFWzpLNmzcP0xYqH5eh5ivWIHxZeQdrubyqwicCcQFqKUkgVtYLFiwIhEJ1/sii3in+y1F0FIXSK++///3vafOC+gKx0vidu+ogVKhI92CnH5BCEEhg8y36clWIPJIeAMVA5y2TqKpGIxrKSp3DKrdeWGXyRlS4XJk8F9Vx7Ewis0aV+EK7tkkA00uozk2mY6mx0qczv8GQ96o8Ylw+qqM//elP4QOy9omKbb5ArO3yJtW5uTy0TudyxRVXhA+p0Q7PLSUQ+427mGgUt172ffM7Q/15Y/3OYQn44uKfs/Lw2Whu4QMOOCDIOlMHgv/Sr7JIFIiWyQ+/HFfupOvOPy9f4C2PQKy8/IEHuYbyzKXjyR8AEh1M4J+DOvgV6lrCvs7B70TxOcobWy900XkofO8khbGXSCPzxfe4l0e1IRop5QQkDULZcccd/aIFy/715W+87bbbjEQaDAIQKE4Cfttw0003mZ122imtoMuXLw88bN1LRkUIxDqg3xbp3qr7s9/OKY1/L9L9QPf7aBo/JJ32kcUNVHHz2qdSmECYdmHx3bpcPv1yl7UNzff5SO2z3yl23nnnhXPOubKr/jRgKy4KRJSVPy2H21+D97S/e47V/cUPTZXvPdgfpKhjxr0U+s8RShMViPOpA+WXZHqeU0ejTGFV3Quin94fDa310Q5MX4jRdtWXno/cM5SuAc3F6X5fShPt3PTv8eV9VlK+GAQgkE4gl+f09D02f/Ofe+PeT5Qy6b1Kbbeew93c5kmDxBXaWSKPzI9Spu/+oBl12qlt8QdW6RjqgHPCjx+KOnrv0DQLbnoG5S3Tu5M8e9VXIYu+z/rtcnk8iNXHoUFJ7t6kQTK6V/smxhp87AZxaZvfh5FPHfjHYRkCSQTyFYjzeT7xn3nVx6dnkGg4eg2QUL+Le0bz37ujz3hxnk9+X6QGaKq87vmkEM8e+T4jvvbaa8FUfaofPf8o4pybgs/VmS+Ea130GSqfOnDH4BMCEIBAVSOQbQ5iPaMqKpj6jTWdY1yULP85K0kg9t911e8rTSXqcKABhtKxZGrLpdP4fTgaBK7nWpkG76s/IKoL6NlVzgwaFCnTseSU5O5ZWleofJSXjiddx2lUcfdQpduaDIG4ALWZSSBW9p9++mlaSFxfdPTFIaVVp6gEII2CUIx2iTIShnyLCsQaFSfxSvMIOpNIpAdI/ejdA6PvJeO/XGmfQuSR6QFQ56BOM2fqRNVo4bp16wajP0aNGhWWXy/ZEuD8RkXevhJ/nalzUuGwdE4qu87zvffeC3+8SueLzG4/8VRj40xlUKefvCr1AqAHaR3fMfPrSvv4IqjLQ+WQV7TmolNday5f98KvRk0PpTpPZ1tKINbx/ZGg6uSX0KgXDo06VdnleeXOXfW5xx57BMX2vbu0Qp0UOu8OHTqYr7/+OhjZqU5SZ7nMQezSKrSpGnqZXkx0bShfdUxoxI7ychbXeZ3punP7FUIg9kOS+iG03THiPnPpePJfzJLClkdf8DSadtCgQWmH9Dnqujv55JODOUTVua95I/368Ud2TZ06NQgH7TLTS5UGAWiQiTp/9LtyI3ezhQL3B2Aov2gnvjsGnxCAQPEQ8B/q1XYcccQRgReCvIS0Tfc9d09TqStKINZ9Rp3ZbkoKHUfh8zUgRe2YwlArGoqzuA5tty0q/ipKQzRqhl4u3IAy7RcnIrv8Mn3m24bm+3yk+7cGzrlOdg3uGjp0aNCB9tlnnxndu1z9xYmc0UFYEgHkhaKXLT1b6flL9yBZXAd+Ie7BvgiiZzC9gMrbTc+Bukc6D2NXD9F7S7514PKN+/Sfm4YMGRI8+3Tq1CnwWtNzkwZh+hYViLVN92Dl40znqJfaFStWhHXjP6NHOze1n3+PL8+zkjs2nxCAwGYCuTynb05deslvH8ryXqWcNDhE7xPRtlt9AHq30juQ2m9n0cEz6kOQYOTumQpTrQ4+3TM14ETikhOH1eZEI2dFj6/oT/vss0/wHqz7iqJOuL4F3TvU1vudefkKxDovvWPoXduZphHac889g/dB3bd0j3b3H5cm2oeRTx24PPmEQBKBfAXifJ9Pop3qcprQM4hCUOs3qAgD8vSX6dnN/z1pnf+Mp+/qZ+ndu3fghKJtL7/8ctj3E3VkUfp8nz3yfUZUH4466N0gOg2mV7+bnunFYMyYMWbEiBEqamjRZ6h86yDMmAUIQAACVYhAJoFY4qcGgLsBeHKek8Ni1HIRiJWXP+hR/Ulqh9u3bx+85+pe4/qTlb8EZOkwvimSqcrjnvn03CpvZz3bKmKc7nNq6929QPtGtRqtK1Q+ysu/f24L3sM6ZwRiUcjTsgnEyt4P8ayLXZ6SzhXeD4eYVBS9dLqRC1GBWPuok0mjfNWZF2f6wc6aNSschRx9udI++eaR7QHQHwEYV0a3Lk4EVKPjezG6tEmf8kbWC2bUlI9epv0Gyk8jzsOHDw/qR+ujjY4vEKsBU7ifJFM966U1Oq/UlhSINcpUI8hdZ0RS2SUQ6Abhz5UX7cRO2jcaRjxbB4Lq5NZbb00TMOPy9ke++9uzXXdKWwiB2A+/nTR6yi+XlnPpeNJv0Y2C8ufm8vPyRWSt1xzIGkzimzgqhPTbb7/try61rHCZusZ9kwiv6zKT6UavgSj6jSRZdACGzl83dgwCECheAnqG0ehLfxBJtLQSr/SCoAFEuqeprSmL+SK0nkcUxSDOVq5cGdyjnKAZl0brNEhJHetxIfG13b/P6rs6un3PKq2LtqvRznelydXybUPzeT5SGX2+SWVWvel+qcFsUVMHo5sWILrNffenjnDr9FmIe7Dur3r2c2KGn79blvCtgQISvaMCsdLkWwfuONHPL7/8Mhjk6QbPRbfru15ynZASJxArTaY61n1V92Z5AMqinZtal++zkvLAIACBdAK5PKen75H+LZ/3KuUkIdj97tNzTv8W99yvFHp3V6hq18GXvlfqm57fNbA0+j6qrRqMLu/DTKb2Vp15tWvXTkuW7f3OJU4KMe22RweBu/XuU88fGpSsaCeyaB9GvnXgjsMnBOII5CsQK898nk9yvfcnRRDT8f3+K32PM0XuUxQav+9H6XI9fkX202huSz1rOuEgrvyagkxRF2Vxz1D51EHc8VgHAQhAoNgJZBKI5WTnR22R85GeFaOWi0CsfRSxTNqJex+O5uO+x2k9bps0CvUxJWk1Lp2ea+VUoOlX4qwQ+ejeJ13DCdIqV9xzdNzxq/I6BOIC1F4uArEuMF/gjM4Vp9EJeqiJPvio00gvjupYciGm4gRinYZEMDc6Y/78+cEIYO2vEXbyVPA9NKIvVw5DPnnk0kkoAUkveO6H5o6rT83BpDnw9CKYZM6j1Inlfjp5VCg05tFHH51RxNKIa5VBor3f4SfRTyMn5RGiMJuyTAKxeKq+brnllnDkpiuPOq81wjPuXPyOa3kXx83nqzxdZ73mKIw+rOs46hwXB9Wtwgk5y3Y9asS4riGNGI2a8lIdaL7sOFOHul70dZ1FTV6n6sDo3Llz2qZcOhBUJ+rA159fJ8pIZZJnrTx34iyX664QArGOrfDKzlsolzDT6vDVoA0NFogTYHVj1jWnm1imUUlqPzTYQCK9XgAVjrJx48alcMgDT9d19NpWQrU5CuWmUcNxJi8FXRdRYUZl1wODXhqjIZ2i+eh85NXn6lCdPrqBYxCAQHETUBuj9lftlPv9uhJLmFM7pUFoah/KIxCrHXRzuWYSiHVMvYjoPqMOrajpPq+XGUW/cPMgRtPou9/pLo+k6667rlQy3Rd0b9H5qp3Tc5HvHVVqhywr8m1D830+0v1Zg42iL1XyttCAObX/UZHcPyUNLlI0j+g9QG24nqs0sjiOT6HuwXoO0L1Lz2fRa1AvuIqKoRdXCcRJ12C+deDz8JclQOi50M135LaJja5nXYvyUpclCcTapmdGRZmZOXNm8MyuupH4omgtOmc3nUpc56b2z+dZSftjEIBAOoFsz+npqeO/5fNepRz1Lqe2V5EGoiaPQL2X+WH9o2nk7av7lwb6+Kb7mvbT87vamiTTIBjdO+Le7Q4//PAgtHTcs3wu73c6ZjaBWGkUSUyeilGhW8Kw+kH0PCCBRxbXD5JvHQQZ8w8CMQT8CCBqL6KDrGN2iV2Vz/OJ7v3qD1JfYHSQv37nGjSuv2j4ab8gOr5+i9HfmPoV9DvXIMAky+fZo1DPiHo3UDsX7b9S2ySnDbUVbvD8iSeeGD5P+eeUTx34+bAMAQhAoCoQcAKx2kdN1xE1PU8pSoXuI3rHVn9+1CT8KvKELJuTlKI6qC9JfdZRvWfgwIFBv0s2kVX9M7rX6d4bFZulC6gvW+/JmZ5rVdZ881HkOvV9yVR2CdLbgiEQF1kt66FPnXPqrNUDW5wIVN4iyztGHZCyuJerXPItRB46jrxA1FGmRkSiU4sWLUqNTM5UHnWk6WVQf2rQ1FhkeihOykvlkKimuPuZOk6T9nfrVW8zZswIzkGCb1z8fpe2WD7lsaNOBTFQHeh6S/LGipZZNwrtq/NWh33Lli0zdtZH90/6rhcQ1alGxKtRl5d9tsY/Ka+KWC9WZ5xxRpC1XqbOP//8vA7jz5njh31OylRcFHLTn2chLq3PUYMLFN4jbpBBdF+1OzpH/Uns1Vzhbj7zaFq+QwACWx8BtQEK4aM/tTW6L+geuyVMbZDuB8uWLQvuL7of6F6drf3bEmV1xyxEG6r2N5/nI92XxU2DxfRsFecx7Mob/VT5dWx1xMn0bCDuudw/onmV97ueC3X9rVq1KrgGFS4102CA6HEKUQfRPN13PTdp8IGeG/XsI76Fuh71DCkPGJle6DXYKsn8e3wxPisllZv1ENiaCeTzXiUuesZX261IGpqaSO8/ccJsEkO9G2uAuO6darvVRpWlffLvHfIW1rtd1Gs46diFWK+2W+XXtE96H9W7S1nfzfOtg0KcB3lAIIlAvs8nut+rjdBvRL9t9ROW5RnNf8bTgD85MpTlGb8Ynj3UPqqd0LOi3gnK2k+Ubx0k1S3rIQABCFRFAnpu0v0gVx0g13NUvor+oHd4tdPl0WrUl6E+AWkPmoKyvM+khcon13OvyukQiKty7ZWUXQ86Gk0nz82kERl6oDv33HODjj89CEa9GQuRx1aAklOAQFYC8m564IEHgnT33Xdf0EGcdaeYBLppyqNLHTryhsslxFxMNqyCAAQgAAEIQKCICejlVp7DEn6TxG4/zPdFF11kFO4RgwAEIAABCEAAAhCAAAQgAAEIQAACFUkAgbgi6VZC3vJiUBhkzdsm4TcuNIBGGyocsguNGw23WIg8KuFUOQQEioKAfi8KxaqRSArbKe/18pjmBB85cmSwqzqC8dQtD0X2gQAEIAABCBQvAYXZUthpmaZS0Zyn0RHQCjmteUQ1YEx26623lpquI9jAPwhAAAIQgAAEIAABCEAAAhCAAAQgUEACCMQFhLmlstKcPL5HsARgTdgtV36FCtRctvJecKZ51DRXr2+FyMPPj2UIQAACEIAABCAAAQhsywQ0f/FVV10VzhuoZ3PNOazwqRpopnmNNS+es+ggTreeTwhAAAIQgAAEIAABCEAAAhCAAAQgUGgCCMSFJrqF8nv00UfNww8/nPHomovoZz/7menSpUtsukLkEZsxKyEAAQhAAAIQgAAEILANEtCcgddcc00waDPT6R933HHm5JNPrtQ5nzOVh20QgAAEIAABCEAAAhCAAAQgAAEIbN0EEIi3ovodP368GTFiROCN4DyG27RpYzp16hSIwgpjW69evYxnXIg8Mh6AjRCAAAQgAAEIQAACENiGCCxfvtxonuHRo0cbTTGhcNKaGqZz587BnzyH+/Xrtw0R4VQhAAEIQAACEIAABCAAAQhAAAIQ2NIEEIi3dA1U0PE17/B2221nqlWrVu4jFCKPch+cHSEAAQhAAAIQgAAEILAVEtiwYYOpXr168Ky+FZ4epwQBCEAAAhCAAAQgAAEIQAACEIBAFSCAQFwFKokiQgACEIAABCAAAQhAAAIQgAAEIAABCEAAAhCAAAQgAAEIQAACECgEAQTiQlAkDwhAAAIQgAAEIAABCEAAAhCAAAQgAAEIQAACEIAABCAAAQhAAAJVgAACcRWoJIoIAQhAAAIQgAAEIAABCEAAAhCAAAQgAAEIQAACEIAABCAAAQhAoBAEEIgLQZE8IAABCEAAAhCAAAQgAAEIQAACEIAABCAAAQhAAAIQgAAEIAABCFQBAgjEVaCSKCIEIAABCEAAAhCAAAQgAAEIQAACEIAABCAAAQhAAAIQgAAEIACBQhBAIC4ERfKAAAQgAAEIQAACEIAABCAAAQhAAAIQgAAEIAABCEAAAhCAAAQgUAUIIBBXgUqiiBCAAAQgAAEIQAACEIAABCAAAQhAAAIQgAAEIAABCEAAAhCAAAQKQQCBuBAUyQMCEIAABCAAAQhAAAIQgAAEIAABCEAAAhCAAAQgAAEIQAACEIBAFSCAQFwFKokiQgACEIAABCAAAQhAAAIQgAAEIAABCEAAAhCAAAQgAAEIQAACECgEAQTiQlAkDwhAAAIQgAAEIAABCEAAAhCAAAQgAAEIQAACEIAABCAAAQhAAAJVgAACcRWoJIoIAQhAAAIQgAAEIAABCEAAAhCAAAQgAAEIQAACEIAABCAAAQhAoBAEEIgLQZE8IAABCEAAAhCAAAQgAAEIQAACEIAABCAAAQhAAAIQgAAEIAABCFQBAgjEVaCSKCIEIAABCEAAAhCAAAQgAAEIQAACEIAABCAAAQhAAAIQgAAEIACBQhBAIC4ERfKAAAQgAAEIQAACEIAABCAAAQhAAAIQgAAEIAABCEAAAhCAAAQgUAUIIBBXgUqiiBCAAAQgAAEIQAACEIAABCAAAQhAAAIQgAAEIAABCEAAAhCAAAQKQQCBuBAUyQMCEIAABCAAAQhAAAIQgAAEIAABCEAAAhCAAAQgAAEIQAACEIBAFSCAQFwFKokiQgACEIAABCAAAQhAAAIQgAAEIAABCEAAAhCAAAQgAAEIQAACECgEAQTiQlAkDwhAAAIQgAAEIAABCEAAAhCAAAQgAAEIQAACEIAABCAAAQhAAAJVgAACcRWoJIoIAQhAAAIQgAAEIAABCEAAAhCAAAQgAAEIQAACEIAABCAAAQhAoBAEEIgLQZE8IAABCEAAAhCAAAQgAAEIQAACEIAABCAAAQhAAAIQgAAEIAABCFQBAgjEVaCSKCIEIAABCEAAAhCAAAQgAAEIQAACEIAABCAAAQhAAAIQgAAEIACBQhBAIC4ERfKAAAQgAAEIQAACEIAABCAAAQhAAAIQgAAEIAABCEAAAhCAAAQgUAUIIBBXgUqiiBCAAAQgAAEIQAACEIAABCAAAQhAAAIQgAAEIAABCEAAAhCAAAQKQQCBOE+Kv3jskDxzYHcIQAACEIAABCAAAQhAAAIQgAAEIAABCEAAAhCAAAQgAAEIQKCqELj+xJeqSlFjy4lAHIsl95UIxLmzIiUEIAABCEAAAhCAAAQgAAEIQAACEIAABCAAAQhAAAIQgAAEqjoBBOJUDW63yVpZKrNQynRZjlkRaRGIK4IqeUIAAhCAAAQgAAEIQAACEIAABCAAAQhAAAIQgAAEIAABCECgOAkgEKfqBYG4OK9PSgUBCEAAAhCAAAQgAAEIQAACEIAABCAAAQhAAAIQgAAEIAABCBSQAAJxCiYCcQEvKrKCAAQgAAEIQAACEIAABCAAAQhAAAIQgAAEIAABCEAAAhCAAASKkwACcapeEIiL8/qkVBCAAAQgAAEIQAACEIAABCAAAQhAAAIQgAAEIAABCEAAAhCAQAEJIBCnYCIQF/CiIisIQAACEIAABCAAAQhAAAIQgAAEIAABCEAAAhCAAAQgAAEIQKA4CSAQp+oFgbg4r09KBQEIQAACEIAABCAAAQhAAAIQgAAEIAABCEAAAhCAAAQgAAEIFJAAAnEKJgJxAS8qsoIABCAAAQhAAAIQgAAEIAABCEAAAhCAAAQgAAEIQAACEIAABIqTAAJxql4QiIvz+qRUEIAABCAAAQhAAAIQgAAEIAABCEAAAhCAAAQgAAEIQAACEIBAAQkgEKdgIhAX8KIiKwhAAAIQgAAEIAABCEAAAhCAAAQgAAEIQAACEIAABCAAAQhAoDgJIBCn6gWBuDivT0oFAQhAAAIQgAAEIAABCEAAAhCAAAQgAAEIQAACEIAABCAAAQgUkAACcQomAnEBLyqyggAEIAABCEAAAhCAAAQgAAEIQAACEIAABCAAAQhAAAIQgAAEipMAAnGqXhCIi/P6pFQQgAAEIAABCEAAAhCAAAQgAAEIQAACEIAABCAAAQhAAAIQgEABCSAQp2AiEBfwoiIrCEAAAhCAAAQgAAEIQAACEIAABCAAAQhAAAIQgAAEIAABCECgOAkgEKfqBYG4OK9PSgUBCEAAAhCAAAQgAAEIQAACEIAABCAAAQhAAAIQgAAEIAABCBSQAAJxCiYCcQEvKrKCAAQgAAEIQAACEIAABCAAAQhAAAIQgAAEIAABCEAAAhCAAASKkwACcapeEIiL8/qkVBCAAAQgAAEIQAACEIAABCAAAQhAAAIQgAAEIAABCEAAAhCAQAEJIBCnYCIQF/CiIisIQAACEIAABCAAAQhAAAIQgAAEIAABCEAAAhCAAAQgAAEIQKA4CSAQp+oFgbg4r09KBQEIQAACEIAABCAAAQhAAAIQgAAEIAABCEAAAhCAAAQgAAEIFJAAAnEKJgJxAS8qsoIABCAAAQhAAAIQgAAEIAABCEAAAhCAAAQgAAEIQAACEIAABIqTAAJxql4QiCvp+ty48XvzzaRvzZypS82KJWvNyqVrTfUa1UzdhjVNs3b1TdvuTUyzHetVUmmK+zBffbbIzJ++PChkiw4NTJd+zYq7wJQOAhCAAAQgAAEIQAACEIAABCAAAQhAAAIQgAAEIAABCECg6AkgEKeqCIG4Ei7VGROXmHGvzDQb1m3MeLQuuzQ3/fdrZ6pV3y5juq1949gXp5sZny8OTrNTv+Zm14PaF/yUF89daTZtSmXbpGUdU716tYIfgwwhAAEIQAACEIAABCAAAQhAAAIQgAAEIAABCEAAAhCAAASKhwACcaouEIgr+Jr8bORsM/n9eTkfpWmb+mbI0Z1N7Xrb57zP1pawogXiVcvWmRfuHB9iO+S83qZ+41rhdxYgAAEIQAACEIAABCAAAQhAAAIQgAAEIAABCEAAAhCAAAS2PgIIxKk6RSCuwGt72qeLzLgRM9KO0LprY9Ox1w6mTqOa1qP4e/Pd/FVWQJ5v1q5aH6ar06CmOeTcXkEI6nDlNrSAQLwNVTanCgEIQAACEIAABCAAAQhAAAIQgAAEIAABCEAAAhCAAAQqiQACcQo0AnEFXXAr7BzDL931eVruex3fzbTu1DBtnb5ofuKxL8wwsyYtCbf1Grqj6Tm4dfh9W1pAIN6WaptzhQAEIAABCEAAAhCAAAQgAAEIQAACEIAABCAAAQhAAAKVQwCBOMUZgbiCrrdP3phlpnw4P8w9SRx2Cb7fuMm88fBk8+28lcGqWnW3N0de3NdtTvvcsH6jmfnFt2bxnJVmtQ2XbLbbztSzHskt2tU3bXZqkjiH8Zyp35kF36wI8mplheqWHRuaJXYu3gUzlpuFM5eb+k1qGa1v3q6B2b5W9SCdjrVw1spg+9KFq02tejXMDq3rmc59msUeZ9LY+WbNypQ3dOe+TU3DpnXM3K+W2jxWmO/mrTLValSz62qbDj13MI2a10k7L/clV4FYZZsx8dvgHNav2RiUp1nb+qZZm3qmUbM6Zrtq6XM5f2u9tTUf9Orl69PE+LY9rEd3g1RI7y79m5kGTWq7ooSfq5avM9M/X2KWL1lj1q/daOrU397oWE13rEd46pASCxCAAAQgAAEIQAACEIAABCAAAQhAAAIQgAAEIAABCECgeAkgEKfqBoG4Aq7RTd9vMk//7VMbQnpjkHub7k3MkKM6Zz2SxMuxz38dpjvo7J6BwBqusAsLvlluRv7nS39V2rKE5X1+tFMgwqZtsF984bX3sDZm06ZNZsKoOdFkVrita/Y/tbvZsOF78/qDk8zK79aWSiPhd9iJXa1QWjNt27N//ywMl73XD7qa2VaU/tqG2o6zzrs0NwP2b1dKyPXL2alfc7PrQe1L7S4O7zw5LWQcTaDy7XFkpzQReuakb837z34VTZr2fdgPdzIt2zdIWyfRe/xbs9LW+V8kyu96cHtTs3YNfzXLEIAABCAAAQhAAAIQgAAEIAABCEAAAhCAAAQgAAEIQAACRUQAgThVGQjEFXBRLpq9wrxpvYGd7XVcV9O6cyP3NfFToaa/tV62zhq3qGtqbF/NfTXy4JWXsROeww2RBYnEB57Ro5R46wuvElCXLV4d2XPz13Y772BWLl1nlsxJeRxv3rJ5qa0VvgdHhG9fIG7csm4wx/LmPUovdejT1Aw6pGPaBr+ccQLx0kWWw0PZOSjTQ87rHXr45iIQ73NSd9PcegY7i4r2bn30U+e63yndTfXqm+srmobvEIAABCAAAQhAAAIQgAAEIAABCEAAAhCAAAQgAAEIQAACW44AAnGKPQJxBVyD33yxxLz33GZP4GMv38VUt6GV87GVNpS0vHnXrkqFb5YI3GVAc9OmayM7h/EmM3vKd2bye/PCQ0gA3tcKljVLQkVrgy+8uoQDhrcPwiTPt2Gmp3y4wIZftiGrPZM3cd9925jadWuYOdOWmqkfLQzLoGSHXdDH1G242YvYF4hdNj3sXMptd2ocfFW46Wge0fDbfjmjAvHqFevNq//6IixDvca1TM89dzQt2tdXpG0zZ+pSM+6Vme7QpkmreuaA03oE3yXAr7OhqBUu+g3L0tm+p/QIQnQrIHXteqlQ09o234bdfvvRzd7aCsndbWALs4MNYb1u9QYz7eNFaWHEu+/RyvS1ntkYBCAAAQhAAAIQgAAEIAABCEAAAhCAAAQgAAEIQAACEIBA8RFAIE7VCQJxBVybk+3cw5/ZOYhlmeYSLsuhx7403cwYvzjcZW/r6drC83TVhukTlpgPXtgsTPca2sb0HNwq3McXXrVy2Ik2nHKHzeGUo4JojZrVrQDcOy108mI7Z/Eb/94srkZDMkcF4gEHdTBd+jULy6CFaB6trHf1UOtl7cwvZ1Qg/uDlGWb6Z6mQ1XUa1DT7ndw9TaBWHtEw3AecvrNpYj18na2yYvsLd453X9O8jMOVduH5O8aHgnnLTo3Mnsd2LuUhPOHduWbi6FSYbvE66if9Yudm9vNlGQIQgAAEIAABCEAAAhCAAAQgAAEIQAACEIAABCAAAQhAoPIJIBCnmCMQV8C199nI2Wby+ylvXnngDj9z57yOIs/Xp276OMyjq/Vi3cXO3Rtno5+aZubaeX9l9ZvUNoec2ytM5guvCol8oBVOfdtkv7zgiaId+zYzux3cwU8SLD/+l4/Cdbse2tF06t00/O4LxPLuPeScXqXmGFbi8Xbu40lj5ob7HX1pf7N9ibezX05fIP7eeko/c9vmuZ0HHd7JdOi5Q5iHvzDqialmnvVWlu28Z2vT23oZO8tFIF48zwrhnpfxodZTup7nKe3yUt08e9tnYdjvqOju0vEJAQhAAAIQgAAEIAABCEAAAhCAAAQgAAEIQAACEIAABCCwZQkgEKf4IxBXwHX4hQ31/Pnbs4Oc5eV6+IV98jqK5goecd/EMI9MIuRX1rv2I+tl6+wYG966Rkl4a1947WBF3UFW3I3ayMemmAUzlgWre+61o+k1pHU0iXnx7s/Nyu/WBusHHtLBdO6z2UPYF4h3tvv2tnnE2YJZK8zIRzbP03zgGTsbzbks88vpC8TLFq+xHCaE2e12WCc7z/LmkNDhBrswddwCM8eG3ZZFzzUXgXjap4vMuBGbOYp5kn3w4vTQ0zgqmCftw3oIQAACEIAABCAAAQhAAAIQgAAEIAABCEAAAhCAAAQgAIHKJYBAnOKNQFwB193Xny82H1rR0NnxVw90i+X6jIZ+PswKznWt8BxnC63w+pYnvB5yfm9Tv1GtIGmS8Orn4wvEvYbuaENUl18gHmi9jztbL+Q4W7NyvXnuH5+Fm/x5iJPKGeUQ7pxlQXMHDzuhW5gqF4HYDx0d7pjDQm87B/HOdi5iDAIQgAAEIAABCEAAAhCAAAQgAAEIQAACEIAABCAAAQhAoLgIIBCn6gOBuAKuy7lfLzOjH58S5hydAzfckOPC3GlLzegnp4apj7nMegVvXy387i8sXbTavPLPzd7Gw8/qaRo1qxMkSRJe/f0LKRBn8qbduMGGzb55c9jsPY/tYnbs2jhjOaMc/HJnWm7apn4wV7FLk4tA/Ombs8yXH8x3u+T8GQ1nnfOOJIQABCAAAQhAAAIQgAAEIAABCEAAAhCAAAQgAAEIQAACEKhQAgjEKbwIxBVwma1bu9E8c+snYc49rBduH+uNm80WzVlp3nvmqyBZterbmd2P7GSatqpnFs+18+H+e1K4ux+OOVxZsjDHzj/8jp2H2NkRF/c1teumwjBXtkDcZ5+2pseglq4oaZ/fLVxtXr1/s5C978ndTTMr5MqSyhnlMNR6BScJ5f7Batsw1M6LWutzEYgnjZ1vxr81K8imluU35JjOfpaJyw2a1ja1atdI3M4GCEAAAhCAAAQgAAEIQAACEIAABCAAAQhAAAIQgAAEIACBLUMAgTjFHYG4gq6/d5/+ysz+8tsw90Mv6G3qNUyFeg5XRhZ8YVSbjrXzB1e38wevXrHOPH/7+DD1oMM7mQ49dwi/+wsTx8w1E0bNCVcdd+UAs1217YLvfv7+3L5hYrtQSA/iHbs1Nnse08XPPlz+5osl5r3nvg6/H3KeDYXdOHMo7FXL15kX7tjMIZNQHmYcs5CLQBwt33E2THiKYkyGrIIABCAAAQhAAAIQgAAEIAABCEAAAhCAAAQgAAEIQAACECh6AgjEqSpCIK6gS3Xe9GVm1H83h5luYj2Bhx7f1dSqE+9d+vV4O2/xS9PD0rTv1dTsfljH8Psr939hli5cFXyvZ4VUhY6uYcVj3zSv70v3TDAb1m0MVrft3sQMPmqz52tlC8QqhC/8urJusOGlFQZ75Xdrg1V17HzKh9t5lZ1lKueI+yaaZYtXB0k79G5qBh3a0e2W9vnFe/PMpk2bTOPmdUyT1vVMnXopL2oligrEw8+0YbhtOt/WrLJzJP998xzJSeGyN6zfaMa/PcfUs/M8K48dWtU129eq7mfFMgQgAAEIQAACEIAABCAAAQhAAAIQgAAEIAABCEAAAhCAQBEQQCBOVQICcQVejGOt4DvDCr/OJIT2sqGm2/VoEoi7m+yG5YvXmMl2rtvpny1yyYLPqMfxtE8XmXEjZoRpOvVrZvrv3y4UiRXWeuzzXxvN0+ts2Ik7mZYdGriviaGbwwR2oZAexMq3YdM6ZugJXU1de+6y9bacn9j5ff3zjYbgziQQT/14ofn41ZlBXvrXzzLoNrC59e7d7N87ZdwC88lr34Rpdhne3nTt3zz8vmH99+Z/f908/3HvvduYnXdvFW53C+/acN+zJ6e8wGvUrG7DTHdJ46n6G+Ol0X4HWrFZojQGAQhAAAIQgAAEIAABCEAAAhCAAAQgAAEIQAACEIAABCBQXAQQiFP1gUBcgdelRNu3Hvky9Pz1D6V5bddaL9WoBULksVaIbL9Z2HVpxllhdJoVSH1r3aWR+f57Y+Z/vVkY1va++7Y13XdLn/83k/Dq8iy0QOzybdW5kdnOari+gK1t4nDwub1MTc/rNls5Pxwx03z96WYOjZrXNc3b17cew+KwzKz4do07rBHPI+08zArV7dtbj35pFs5cHq5SOeT5u89JO4XexhKzle67+SnPbSVu2bGhadyyrg37vT44ll+HmUJqhwdiAQIQgAAEIAABCEAAAhCAAAQgAAEIQAACEIAABCAAAQhAYIsQQCBOYUcgruDLT96qY1+YnjYfcdIh6zepHYShdnPxRtNt+n6TGWPn7XVerdHt7ns3Kwz3twJx1LIJr0pfSIG4+x6tzGQb6jnJJN7uZcNuN29TPy1JtnLmykH573dy91Lho3Ww2V9+Z959elracfVlyLFdTZuujcL1CjX9xkOTw3DY4YbIgkKIDzuxqxW640OIR5LzFQIQgAAEIAABCEAAAhCAAAQgAAEIQAACEIAABCAAAQhAoJIJIBCngCMQV9KFN996q079aIGZM+W7UkdU6OmOfZoGHr/Z5q/duPF7M+n9+WbauIWlPJCVT3cbKrnrAIVcLm2+8Np1YAuziw3PHLVcBGJ/HuCBh3Qwnfs0C7N51s7b67xq9ziik2ls5+R9/7np5tt5K8M0Wmhj50fubcNtN9yhdtp6fcmlnOIweex8y7Q0B+UhkXynXVuEoa21LmoLvlluPnp5ZprHce9hNty0FbZ9W7V8ndGcxl9FvLeVRp7HPWz6zv2bheG+/X1ZhgAEIAABCEAAAhCAAAQgAAEIQAACEIAABCAAAQhAAAIQKA4CCMSpekAgruTr8XvrBazwxPqrUWM7U6ve9mFI47IURV60K61wuWblhmC3uvVtPg23T5uLtyz5FSptVCBut/MOQdYK17xq2TobDnuTqde4ZsE8bcVhVQlPhbCuVbeGqVu/pqlWPU4ijz/LDetTZdu+do2MdbFxw/dGYvHa1RuDcNmaV7l2/RpbnHn8WbEWAhCAAAQgAAEIQAACEIAABCAAAQhAAAIQgAAEIAABCEDAJ4BAnKKBQOxfFSznTSBJIM47YzKAAAQgAAEIQAACEIAABCAAAQhAAAIQgAAEIAABCEAAAhCAQB4EEIhT8BCI87iI2LU0AQTi0kxYAwEIQAACEIAABCAAAQhAAAIQgAAEIAABCEAAAhCAAAQgsOUJIBCn6gCBeMtfi1tVCRCIt6rq5GQgAAEIQAACEIAABCAAAQhAAAIQgAAEIAABCEAAAhCAwFZDAIE4VZUIxFvNJV0cJ4JAXBz1QCkgAAEIQAACEIAABCAAAQhAAAIQgAAEIAABCEAAAhCAAATSCSAQp3ggEKdfF3zLk8D7L0w369duDHLpsUcr02zHennmyO4QgAAEIAABCEAAAhCAAAQgAAEIQAACEIAABCAAAQhAAAIQyJ8AAnGKIQJx/tcSOUAAAhCAAAQgAAEIQAACEIAABCAAAQhAAAIQgAAEIAABCEAAAkVOAIE4VUEIxEV+oVI8CEAAAhCAAAQgAAEIQAACEIAABCAAAQhAAAIQgAAEIAABCEAgfwIIxCmGCMT5X0vkAAEIQAACEIAABCAAAQhAAAIQgAAEIAABCEAAAhCAAAQgAAEIFDkBBOJUBSEQF/mFSvEgAAEIQAACEIAABCAAAQhAAAIQgAAEIAABCEAAAhCAAAQgAIH8CSAQpxgiEOd/LZEDBCAAAQhAAAIQgAAEIAABCEAAAhCAAAQgAAEIQAACEIAABCBQ5AQQiFMVhEBc5BcqxYMABCAAAQhAAAIQgAAEIAABCEAAAhCAAAQgAAEIQAACEIAABPIngECcYohAnP+1RA4QgAAEIAABCEAAAhCAAAQgAAEIQAACEIAABCAAAQhAAAIQgECRE0AgTlUQAnGRX6gUDwIQgAAEIAABCEAAAhCAAAQgAAEIQAACEIAABCAAAQhAAAIQyJ8AAnGKIQJx/tcSOUAAAhCAAAQgAAEIQAACEIAABCAAAQhAAAIQgAAEIAABCEAAAkVOAIE4VUEIxEV+oVI8CEAAAhCAAAQgAAEIQAACEIAABCAAAQhAAAIQgAAEIAABCEAgfwIIxCmGCMT5X0vkAAEIQAACEIAABCAAAQhAAAIQgAAEIAABCEAAAhCAAAQgAAEIFDkBBOJUBSEQF/mFSvEgAAEIQAACEIAABCAAAQhAAAIQgAAEIAABCEAAAhCAAAQgAIH8CSAQpxgiEOd/LZEDBCAAAQhAAAIQgAAEIAABCEAAAhCAAAQgAAEIQAACEIAABCBQ5AQQiFMVhEBc5BcqxYMABCAAAQhAAAIQgAAEIAABCEAAAhCAAAQgAAEIQAACEIAABPIngECcYohAnP+1RA4QgAAEIAABCEAAAhCAAAQgAAEIQAACEIAABCAAAQhAAAIQgECRE0AgTlUQAnGRX6gUDwIQgAAEIAABCEAAAhCAAAQgAAEIQAACEIAABCAAAQhAAAIQyJ8AAnGK4TYrEOd/CZEDBCAAAQhAAAIQgAAEIAABCEAAAhCAAAQgAAEIQAACEIAABCAAgcoh8PX0GcGBOnXskNcBEYjzwsfOEIAABCAAAQhAAAIQgAAEIAABCJ5wzgIAADrrSURBVEAAAhCAAAQgAAEIQAACEIAABCqeAAJxxTPmCBCAAAQgAAEIQAACEIAABCAAAQhAAAIQgAAEIAABCEAAAhCAAASKggACcVFUA4WAAAQgAAEIQAACEIAABCAAAQhAAAIQgAAEIAABCEAAAhCAAAQgUPEEEIgrnjFHgAAEIAABCEAAAhCAAAQgAAEIQAACEIAABCAAAQhAAAIQgAAEIFAUBBCIi6IaKAQEIAABCEAAAhCAAAQgAAEIQAACEIAABCAAAQhAAAIQgAAEIACBiieAQFzxjDkCBCAAAQhAAAIQgAAEIAABCEAAAhCAAAQgAAEIQAACEIAABCAAgaIggEBcFNVAISAAAQhAAAIQgAAEIAABCEAAAhCAAAQgAAEIQAACEIAABCAAAQhUPAEE4opnzBEgAAEIQAACEIAABCAAAQhAAAIQgAAEIAABCEAAAhCAAAQgAAEIFAUBBOKiqAYKAQEIQAACEIAABCAAAQhAAAIQgAAEIAABCEAAAhCAAAQgAAEIQKDiCSAQVzxjjgABCEAAAhCAAAQgAAEIQAACEIAABCAAAQhAAAIQgAAEIAABCECgKAggEBdFNVAICEAAAhCAAAQgAAEIQAACEIAABCAAAQhAAAIQgAAEIAABCEAAAhVPAIG44hlzBAhAAAIQgAAEIAABCEAAAhCAAAQgAAEIQAACEIAABCAAAQhAAAJFQQCBuCiqgUJAAAIQgAAEIAABCEAAAhCAAAQgAAEIQAACEIAABCAAAQhAAAIQqHgCCMQVz5gjQAACEIAABCAAAQhAAAIQgAAEIAABCEAAAhCAAAQgAAEIQAACECgKAgjERVENFAICEIAABCAAAQhAAAIQgAAEIAABCEAAAhCAAAQgAAEIQAACEIBAxRNAIK54xhwBAhCAAAQgAAEIQAACEIAABCAAAQhAAAIQgAAEIAABCEAAAhCAQFEQQCAuimqgEBCAAAQgAAEIQAACEIAABCAAAQhAAAIQgAAEIAABCEAAAhCAAAQqngACccUz5ggQgAAEIAABCEAAAhCAAAQgAAEIQAACEIAABCAAAQhAAAIQgAAEioIAAnFRVAOFgAAEIAABCEAAAhCAAAQgAAEIQAACEIAABCAAAQhAAAIQgAAEIFDxBBCIK54xR4AABCAAAQhAAAIQgAAEIAABCEAAAhCAAAQgAAEIQAACEIAABCBQFAQQiIuiGigEBCAAAQhAAAIQgAAEIAABCEAAAhCAAAQgAAEIQAACEIAABCAAgYongEBc8Yw5AgQgAAEIQAACEIAABCAAAQhAAAIQgAAEIAABCEAAAhCAAAQgAIGiIIBAXBTVQCEgAAEIQAACEIAABCAAAQhAAAIQgAAEIAABCEAAAhCAAAQgAAEIVDwBBOKKZ8wRIACBLUTgu1XrzBfzlprdOjYzNaptV65STF+0wixfu8H0adO4XPuzEwQgAAEIQAACEIAABCAAAQhAAAIQgAAEIAABCEAAAhAoJgIIxJVUG799/jMzf/ka07ReTfP7I/tX0lE5DAS2XQLTFi43J93/TgCgdcPa5ukL9ikzjCfGzTQ3vDYx2O+ovm3NLw7uXeY82KEwBDbZbH721LhArB/Usak5Y3CXwmRcwFw0mOAvr6aulzNt+Xaz5axqtnzNenPN/z4Oir1f91bmuAHtt8gpLFm51vza3jc3fr/JHNu/nTlg59ZbpBzFdtCPv1li7hk9NSjW+UO7mX5tmxRbESkPBCAAAQhAAAIQgAAEIAABCEAAAhCAAAQgUAUIIBBXUiUNu/kVs3bD96ZuzermzZ8eWElHrVqHWbF2vfli7rKg0O13qGdaWlEPg0B5CTww5itz+6gvw92fPG+Yadu4bvg9l+vtwkfeN+NmfRvsU79WDfP6pQeE+7NQOALzlq4233y7Ksiw946NTR3bTkbt+02bzOAbRgSr9+zc3Nx83MBoki3+/f2vF5lLHv8wKMcV++1sTti1wxYvU1kLsHjFWnPo7W8Gux3Zp4259pA+Zc2iIOknWc//0x8cE+R1jhXbz7ViKGbMS5/PNr95cXyA4o9H9EM456KAAAQgAAEIQAACEIAABCAAAQhAAAIQgAAEykUAgbhc2Mq+EwJxdmafWM+o8/8zNkh48bCdzKl7dM6+EykgkEBgwbI15sR/jjKr1m00A6yX3R0n7Z6WMpfr7a0v55trnk55U16wZ1dzpv3DCk/grlFTzD/HTAsyfvD0IaZ7y4alDoJAXApJhaxAIK4QrAXLFIG4YCjJCAIQgAAEIAABCEAAAhCAAAQgAAEIQAAC2zQBBOJKqn4E4uygcxHssudCCghsJqDwtN/aeYib1a+1eWXJUq7X26p1G4Iwtw1qb18qD1YUhgACcWE4FiIXBOJCUKy4PBCIK44tOUMAAhCAAAQgAAEIQAACEIAABCAAAQhAYFsigEBcSbWNQJwddK6CXfacSAGB7AS43rIzqqwUCMSVRTr7cRCIszPakikQiLckfY4NAQhAAAIQgAAEIAABCEAAAhCAAAQgAIGthwACcSXVZSaB+ImPZpgJc5ea+rVrmCsO6BlbotU2TO5Nr00MPBn36trC7N+jVZjug+mLzYt2XkLZ1cN7mZXW43HUlAVm9FcLzCI7n+TuHZuZoXafPm0ah/tMtMcba+fLfH/6IrNq/cYgpOuRfdsazf8ZtYXL15jbR6bmcj3RzqnZo1Ujo9C7H8xYZD6fs9RU286YjjvUN4fZ+Sp37dA0unvW7yrrG5Pnmfn2OB/ZMNOyNo3qmH5tmgTLCjf7w906Bsv+P4Wcff2LeebtqfPNTDt/6YaN3wdzzA5ot4M5sl+72HlM/f3jlv/+1mQjgWQ7e06/sHNv1tDJJdhfXplgVC+y6w7tY6pH0s6186o+8fEM8+X85cG5Nalb03KqZ46yZevZulFsrpvs2htfnWBWrd0Y1MUPBrSPTTdlwTLzyNjpwbZTdu9kujRvEKZz11PzBrXNRXvvZMbP/s68NWWeGTV1oVlj6/pvx+9qOjarH6ZPWih0vedbX+tt/Y60151+K+PnfBeci66TAe13MMf0b29q1qiWdipJLMtyvfkMDre/j4H2WHG2cu0G8/Qn35iPZy0xqneVpV2TembfnVqave1fNV1QMRatq/k2LPaYrxYGv8uvF68wnW096XfwgwEdMl6LMVmXWlWMZXzgva/M9EUrzOdzvwt+wyq0woG3algnKP/wnq3NYDvfsCwuxPTUhcttO7bYjLVt0dLV6wLmu9o6Ul0lMQ8ys//E438fzzSfzP42qLN6do5ptTVD7PHcMV3aXD9znYNYcy7/d9wMM2VBqm3Y0V7H3Vo0MAf3bGN/y9l/m+NmLjGvTZprZi5ZaRbY9qpxne2D/Y+2bUu3FqXDc0fLr2v0v/a+M3n+MrNwxRrTvH5to3mdj92lvQ3JviGnOYhVH6/Z9ndUSfurY3Sz7VBfe585rE/bUu2htvu/yUEdm5rhPXc0705baEZOmW8+nLnY1N6+unn07KFKauLmIFba9+w9a7ytMxscwHSw7elBNo89u6SukWDHDP8+s/OJP2/vldPtb+u71evtdVY7qPPjd+lgWuQw5315uEfvz4tXrTVvTppn2+T5wX3hgr26BderX+xPbTmf/WxWUM5la9abrpbrMHsPP6R3G+Yg9kGxDAEIQAACEIAABCAAAQhAAAIQgAAEIAABCJSbAAJxudGVbcdMAvHJ/xxtplqRpJYVld6+fHhsxt9YAfS4e94Otp04sIO5fP+dw3R/e3OSefiD6cH3h84YYs5+6D2zdsP34Xa3cJXd5zi7r8TeB97/yq1O+zzfzrF6VmSeVV/0+N1hfc07VsAa8cXctP3cl95W+PzbCbsZiS252s1W+H5s3MzE5HHzxy5Zudaccv87ZrENHxxnEmvvPXmPRCE2bh+tu+S/H1hxbnGw+cZjBpih3VrEJpXAfua/xwTbuloR7+Gz9kpL98CYr8zto1KietqGki/7WdHw+qN3MVHZME4Ei9v/KSts/fnVicGmm38wME0gcddTSysQXzC0m/nti+PTsnjgtMGByJ+2MuZLIes93/qSoPYTWzcaCBBndWtWN0+dt7eRCO8siWVZrjefwRX77WxOsAMkoibR6GJbNoWzjjPVw7/P2NM0siJe1Py6+uOR/c05D78XTRJ8Vx5/P3E3094KYuWxYi3j8bZNS6pTneeF9vo9Y3CX4JSj9Snx/Q8vfx6Lo1PTepbXoNjQ4tohG4+BdpDJr21b1zIH0dAvQC7XS7a24UQ7KOSivbsHYqmft5YlCP/6+U/NxHnLopvC74dbEfGXdsBKkvne2tE0us7+ZNsl17YdaQf9XGsHykRtycp1tv0dndj+Kp/fHd7X9LccffPrUHlv2LjJvDhxTphE7fa7Vx4UfPcF4rPtNbB0zTo74OabMK2/oDb4Hz8cZBp7v39/u457+RMfmTF2UFSSJf2+lT4f7v79+a4fDTIXPZbeVlw0dCdz+uDOQbE0gOeqp8bZAQ+pe1C0rBLx9+1mr/sRqev+j0f0Mwfs3DqajO8QgAAEIAABCEAAAhCAAAQgAAEIQAACEIAABLISQCDOiqgwCSpLIJYnmTyj1NHe3XqkSXxZYT3lnB1kO5OduNu+Sd1gdVSgeciKWfJmc+aLHs3tXK4LrceaTKJcu8Z1A3HbF8eUr7zAoh61Lr/o5/9sp/8LE2YbeUrNsAKIrKnt6N/R5i3by3qHOZFI3+W1e9oD74TCko4jz7Xtq1czX1rPWieOS3B/xAq3bUvy0b7ZTJ7R1zz9cZBsH+ux9edjB8TucoP18nVixdXW69v39B0xYY751QufhfuJmTgtsqK2z/oEKwRFPcZ9AUViwM3HDQzz8RdyEYjFxa+X1lbsWmcHDtx9yh45MSlUvedbXyvWrjfDb3sj7VxU3/L++9h62rnrOzqQIIllWa43n0GcgCTv15P+9U5YNv0mujRrYDlvNJOtd6gzlfd+K8zrGvXNCcRap+tV1259O7iiU9P61vt/jZlrPYqd9bDerQ+cPsR9zfmzmMv4f1bgnWYZfvPtyqDd0klJ3K1fKyWmnz2kS+jN69enY6X0+n3JA3eOHUTg2iatT/r9qI35kR2U4/82dEx993+fEjmfOn/vMnluZ7teXrMDa6597lMVLzDXdslT3R/scqj1iv21FVh9029Xg4QUacGZ9u9noz4st238FOtN7ezMPTqbC4bt5L6Gn3GDg+SFK69hx87dQ7RTnEAsEfO0B94N22qlUx00rlPTfGU9c32uT543LK2tSapDnUcry7uG/X3895zSHsT6Xa0qidagutfvQ+frH0tleOLcYbHC+u/tIBl5DjvTOeseo2vB5/5nK47vYwce+JYvd18g9q9bHV/nq0E8h1pRX8NLzrBcJ1mvbt90H//mu1Xh+fv1k6tA/JEdxCLhWdFFymr1atYwN9j7YFL0hLLmR3oIQAACEIAABCAAAQhAAAIQgAAEIAABCECgOAggEFdSPVSWQKzTOcaGGb3qwJ6BQKsO9Buth+5TNvytM3VS/8N617mQ0wpr+4eXxodeS0fYzmqFTHbmix5unTyJD+q1Y/BVoX8VRvPK/40LO+wvsF7IZ0Y8kd2+SZ+5zAkrgeHH/xlrxllhUCZPv/87ur/1zkx5jqost9kw0Y/Z8KkydcL/x4rVcd6bQYLIvw2W1363vBoIdRIt3rj0gFKCgzrylcYJFkrjPKbVEX/Ro2PDXKNeyAoNfYEtvxM1L9u3R1r4bF9ASRK4lHkuArErhOriVOuBlylctkvrfxai3gtRXy+Mn21+Z69PmQY4/OygXnZwQspDXfUtz0DncfcLG2L9qP7tgrTZWOZyvfkMogKxvKKPv3dUWJen797ZnGfFHsdZXpZXPfWRDZ+8NCjPkM7NrOC/a5rXuC8QK5GOcbz1Unae5Qqp6/+uFB58907Ngvxy+VcVyqjz8L1aH7QiuEI9R82vT21TO/ano3YxQ7zwwiOsN+qvnt88OCM62GWpHTxzwr1vh2L0OUO6mpMHdQyvp3nLVpsr7PWkiA6yM22dXmDDtOdqma4XhXr3PcRvOGYX6/nfIhxIo7bjSnu9uHbldusxPtAL2X+9FdOfsWGHZRpEoMgBasNdKG3/etb212275Ns0K6ieZKMuOFO7cKwdpOLaToml51kPdg0wchYViNX2Xfb4h6En7mB7LV57cG+jcPYyicd/HjEh9AqODmqIq8Pf2nvJvt03T5kQZGT/+R7Ebt1VdjDOcSVh93Vvkyf41U+PC5lFo2tov/vfmWrutH8yiat3/mh308kLsf/qxLnmOuuV7ew+O4DGn2ohX+6+QKxjyAP45wf3Crm74yrc/A2vfxF81b1H4q+uDxc6/20bkvpnz3wS3mOVMFeBWPdnRWCIj3HgShD/qbboNhsVZDcbEhyDAAQgAAEIQAACEIAABCAAAQhAAAIQgAAEth4CCMSVVJeVJRD3t/N33nXS7mlnpU75/W99LexEv8aKx5pr0jd5ae5/6+vBqj7WI+1e20nuzBc9tO66g3qbI/q1dZvDzzftPMLqwJZJvBlpw2U7oStMlGHBFzgutt5vp1ovuKhp/lgJZjKJIM9csHfobejSqhP8rAffDcOwnmrn6L3YhmzN1XxB4PeH97PzZKaH8JQocWGJCCzv5pusUOPMD5l7kT2H02PO4SMbPlRhRp2NvOzAUIT2BZRCCMRnWWH4fCtalscKUe+FqC8JwAprLnvxon1NU+sp6Jvmnr3WXneae/pA63nZrsQzPhvLXK43n0FUIL7Rhvh+3Ib6lmmgwu02fGzUvrUh0I+6863Qq/0fVvTz5+n2BeIf2vDvl3mh411evsCVdE25tNHPqlBGlbk8AnF08IU7d80N/mTJgJhf24Eu8s50drMV4NzgkSTxV3MTH/KPN8I6G33F8FKe3y6/6Gem6+UEO5jARUi41Q4U2MMOGIiaLyLLc/RBG83BmQRTDfR51/4Wbj1+t9i5in1P2Vd+sl+aCPlbK5y7cM4HWEH2j0f1d1mHn5p//dDb3wy/RwXid+yAhcuf/CjYrvvEnfZe4wZEhDvZBQnNn1pBXOYL3f5vUtvusGGhNYd4nEUF4p/Y9vSUmPb0Q9ue/rikPZWwqvbUeeorKsWBf0vd13SMqPjrjnunnXbh/pJpFwrN3ReINQXDvacOjr0vHvr3N0Jv5qR7rB/hQmXPVSBWWs23rWkJyiIS6/6t54VjIs8Lyg+DAAQgAAEIQAACEIAABCAAAQhAAAIQgAAEqjYBBOJKqr/KEojjxF+dot9h/+wF+8TOrXnQba8H3mPyun3x4v1CMr7oIVH2lZ/sH3q9hYlKFn7qeZdJqJZgnavlItj93IZ/fsOGgZbdZMNe7mXDQMeZQrYefsdbwSaFHn3eCou5mj+/8CDrwXebFfV8+50NH/2CDSMt+6sVh50H4ywbBvQHd78drFcI08dsqNQkgfwPNuTpcyUhTzVX50FW2JT5AkohBOJXL9nfNKydCtcbHKAM/wpR74WoL4m/r9nBB7JLrNB/shX8c7FsLHO53nwGUYFYgy7kCS5R6gV7ffnzH/vl8z0UD7Ne97+yHpPOfIH4Ofu7bBEz561CRJ9oQyLLss0v6/J1n1WhjCprWQXiOA9Zd86+YCiv7os8D2DXxmkAy1tWSHTet25f9+mL8o+cuacVYzeH3Hdp4j6Trhd5Jh9158hgl7g2xc/LtdUqY9Kc9H56f/nuUVPMfWOmBat8EVqi4N43vxJGRnj9kgNMHRu2Oc78tikqEP/y2U/MK5NSv8Wod7afly90+1ES/N+kQng/e+E+/m5py75AnBTNwe3wKxu2202d4A8ceNoK6v9nBwzINLfz5dYDOc5UrqNt/bjw3XEDUeL2c+uSuGu7LxBfb+cZ379HaW/paQttqHo7p7OsZ6uGNhx9fCh51eNR9r7mylkWgVh5l0Uk1r0LcVjUMAhAAAIQgAAEIAABCEAAAhCAAAQgAAEIbJ0EEIgrqV4rSyB+6Iwhdv7g0uFZL7Yerx9Yz1dZkkfc0dbTUXOeKgznCCsCO/NFj7i5MV06fT7w3lfm9re/DFb54UD9NEnLuQh2R3qd46Osh7ILvxmXp5826Zzj9tO6w60XnZuT0w8hrbCm+5aEoNa8mArj6kQmf37Rk3btaC7dr0dS9uZ1K7L8wootMj8sqi+g5CsQl0dg8gtciHr366C89fWcDav7Bxte15kElJN36xR4YLq5at02/zMby1yuN5+BLxArVPFwO6BCpvlrNed2kvlejBo44OZYVXpfIH7/6oNjs1DY3r3/+mqwLeqxHrtDycqqUEZX/rIKxP1saOW7T94c5cDlo8+5di7io+9KibEKt6+Q5DK/HjQn9HWH9A7Wx/1TaO+7SsISl0WES7pe/N/7sTYE+lF9S0dgcOX4h/VmdSHTo17ALo37lPA8y84zP8cOTplgQ5m/ZENsuznY/fl05cl+sPVQlencH7Kid5Lp3C8r8RKOCsT+7/kBO6d2kq2x8yWf/8j7wWY/D/83qfDUt9iQ6UnmC8SZ2kLt/4wVgq8vEYLPt6GzzyqZ3sCPBnGLnc99sJ3XPcn8tP7An7j0uXLXvr5A/MiZe8V6fr9iw1z/siTM9amDbMSLfZIjXvhe8GW5Nt155CISIw47WnxCAAIQgAAEIAABCEAAAhCAAAQgAAEIQGDrJYBAXEl1W1kC8WNn7WU6evMrutMrlECsOTvP3aury7bUpy8uJIVwLbVTyYpcBDvHMSpix+V5pRU5RlmxQ/bM+XubVo3qxCWLXfdPKw45gcgP9+mf3wnWI+0KzyPt0Q+mm7++OSnILxraNnoQhZpVyFnZ/t1bmuvtXKoyX0DJJIrkMgdxIQXi8tZ7IepLXnMXWLHpk5J5pwNQJf/a2Do9oEdrc6QNed62cV1/U1aWuVxvSYKfP5+r5kX+nZ0vNJNpUIHmlo16vjqBOFNdaV7sPW8cEWRfFoG4KpTRMSurQJzpt7HADnI5wg52kfkCse+lGWzM8V9ZwrQnXS+P2bbh5pK2IcfDBsnusmHL+9vw5c5W22voZRu94Nnx35jJC5anzUfr0rhPXyCeYtOe8q/U/MNRL3aX3n36Huu+uKvt7vfs0uby6XvE5tq+KV9fIM7k/au0ftQHCfDX2LnIZX5Ei+ett7KbKznYGPn3xLiZ5obXJgZrr7WDCo60gwuclZe79vcF4qT78yNjvza3vjU5OJwfUcId3//874czzE1vpOYqLo9ArLwyicSIwz5tliEAAQhAAAIQgAAEIAABCEAAAhCAAAQgsPUSQCCupLp1HevyOn3zpwemHTUXkegb6yV23D2p8MW+x6kyyqUDulAC8YV7dTNnDOmSVn7/ix9aNGlOVT+9v5yLYLf7X14OdsnmtalEvkdYWcLEal9fZPLnZPZDJkfz9EXlbB5ovjej70mXq4BS2QJxeeu9UPUlLhLgH/lweujZrXryLSqsZGOZy/WWJPiV9Tp3npdRITiX3355BeKqUEZXf5UhEPs83HFz+cwmTvp5JF0vftvgp8+27IfRV5t0hp1bfbH1Bo4zhWxeu2FjME2AtvsCsX/u0ftHNC8/HHZUIHa/5+g+mb63t3OCP37usCBJtt+kn48vEGe7l0xfvNKceF9qwI0f5eKch94z4+ek5kLOFkXC9/L2w2Lnw13nk8v92Q9pnu3e8dynNqLCiFREhfIKxCpXnEiMOCwyGAQgAAEIQAACEIAABCAAAQhAAAIQgAAEtg0CCMSVVM/5CsSf207us21ntyzawZ9LB3ShBOKo12wUnx/q86JhO5nT9+gcTZL4PRfBzp9T9d0rD0rMSxvO/vcY87kNuyobYedUbmznVi6LnWnFmInzlgW7aP+6NWuYfawnqMJMy3P1KeuV7Jt/7pfaEKEn2VChSfap9YY9ryQE6xG925jrDu0TJM1VQPnnu9PMXaOnBPvcbOdB3rPL5tCpuYiOSeXy1/tiV3nrvSLqa/riFWacDZf+wYzFZuTUBWlelH86qr/Zt3tqjs9sLHO53nwGfohpP4xxtjll/XJE58POpa7KKxBXhTK6660yBGJ/jnB5IF+SIYyvK5c+G9l2I2l+aT+dlpOuF38u3IuG7mT27hY/d3o0v5YN64RzBbtrRWk0J++JAzqYAda7uFuLBsHc1Qp174dj9wVi/9wH2n1ut57JSSZP/bjw0Ervfs/yhL8vIcR3NN9a21c3rUuiN/i/hUxe4MrDF4iH23l7f2/n702yt+y89NfY+ellpwzqaH6yTyq8vz+gJ9OcydrvHjt/870l8zf/4fB+5sCerbU6LQx8Wblr/1zuz/71cbG9b56a4b7pz3ecj0CssvkiMeKwiGAQgAAEIAABCEAAAhCAAAQgAAEIQAACENh2CCAQF6CuF69YG+RSo3o108jO3xs1v1O8qRUbXrRio2+nP/CumTQ/JURK9FQndNT88MVbUiDu3bqRue/UwdHihd9vfHWiefzjmcH3qEdnmChhIRfBzhdJXrhoX9Osfq2E3EwwV7DC+sres/O7lqaauGuwwRdbJA42tcdy8wbHCcC+OHSIFRd+Y0WGJPPDmfrhmxVOeY8SL+keLRuaB04fEpuFHzq1MgTi8tZ7RdfXirXrzV9fn2Se/3x2wGmoFcpvtIK5zP/dxYlRuVxvfp36AvH6jd+bvW56JThO3G862FDyzw8n7nuja7PjE/Us9vcvr0BcFcrozrMyBOJ1dl7coTen6qy7FVUfPCN5Hl5XrrJ+Jl0vY75aaH76xEdBdqft3sn8eO/kOWbjjqkQxxqcIpM4+4T1yI0TrX1PZV8g9uexzhae/zHrpX/zG6lQ+VEP4h9aL92vrbeu7B17r6oRc68KNib8y/ab9HfzBWLfC9lP45Z90dT/nfribLaw//6UBPectLvp27aJyZe7yueXISnEtD91QbaQ9Zc98aF596tFwannKxArEw1sus8K42cP7mKOsuG5MQhAAAIQgAAEIAABCEAAAhCAAAQgAAEIQGDbIIBAXIB6HmLnB5VXaVLHuzweT7xvdHCkOO+ta5/5xLw2eV6w/V7rldWnTeNSpZJHl5uDdUsKxCpYUif3dzb06ZF27s+1VoiRvWyF8DgRI9gY888X7JLmL/aFAH9+0Wh2L1rB8Lcvjg9WZ/PwjO7rvksc2P9vrwV12615g0CMHvN1qmM+ziNZApTzMJbI/9R5w0wr6wEYNQl3P7j7bTN/+Zpg00NnDLFegA3DZM5LT3m8cekBprb1wPNN++/915Qns9ZXhkCs45Sn3gtRX5oTdez0xYEX4tAYz8tV6zbYwQCvqYhpc/xmE6Nyud6SBD8dy/dQ9z2Xtc23Xz33qRnxxdxg1SVWGDzZCoTOKlIg1jGqQhlVTl8gvuOHg8yA9pvn3dV2Wbb6TKVKDw8fbSP8wTiZPEo/st7pc75bbfbs2tzsUC95EIo7pvtMul4k0O53a6otkcCrwS3R37XLQwNTNNBotw7NQu9hf47dqGjr9tOnH/XAF4i17ZT73zFTFi7XYlr46WBFyT8NUDni9jfDMO7RY9058ktz//tfBamv2n9nc9zADv7u4fK8pavNG/aeNsR6andsVj9cn2sdagdfINZ3J9pq2Tf9/o+5a2QYWlvieTsb1lrme0NLZH707KGxA7D8ENUarPHWZQcaeWQXgnsuArEvRKvd/995e5uWDWv7pxks+1MfaEUhBOJSB2EFBCAAAQhAAAIQgAAEIAABCEAAAhCAAAQgsE0QQCAuQDVfbj3D3rEeYrLrbRjM/W04TN+uePIjM3paantU3FU6XxzpsEM9c7/10K1nRQSZOuxveGWCedJ6+TiL5pFLB3ShQkyrDPJsvfNHu4fihSvXRf8Zaz76ZknwNZvHqdvH//SF9AHWe+sO68UVNT9srrbdctxAM9iKEL5JnDjWztcs0V524zEDTJyw6O+TtOyHKHVp4kR+t+23z39mXpw4J/gqUflBK/5KaPDt/17+3DxtRSBZnGecL/IcbsNPX3tI7zAPecyK8+QFKaFHeVSWQFyees+3vnxBRMLJsxfsU8pr3BdxyjKfcy7XW5LgJ+4jJswxv3rhMy0aiUpPWVEn6tH+xqR55ufPfhKkUfmfs+WXJ7qzihaIq0IZxeKJj2aYG17/IsBy4VA7z7n1ZoxaruKif81EBeIXxs82v3spNXBEv717T9nDirHpoec1IOGkf70Tth8PnDbY9GjVKFqc2O+Zrhd/oIAiDPzy0L6lxEp/YIuul1GXDw/S+B7APVs1NPefVjqygO/5q8JFBeLH7BzeN7+Z8gzW9fq0DZEfFb/9AR3KIyoQf/PtKnOcbVtlKt8DthwKce2byipP47l2zmSZP9VArnWo/aICcaq+BpeK0uG30dH2NCp4n7RbR3Ppvqnw0zqGTB76P7LlnWnPTXb8Lu3NlQf2DJYLwT2X+7MO5keFkIf7v2z0CP/eoQFISuPusdoHgVgUMAhAAAIQgAAEIAABCEAAAhCAAAQgAAEIQKA8BBCIy0Mtso8/96w2qXN3n51amSZWeHhhwmwz3s4fLFOH+jO2U755g3TPoJlLVprj7x0VpNE/eZgd1mtHs3zNBvPxrCVBR7v2dYLnlhaIVcbW1rvp9N27mE7N6wfzwb5sRVGF0nWWyTvPpYn7dN6z2rZP1xamQ9P6pp8Vi/05dt+0nmk/s17XMnE5ZbdOwXbJsJPsnMF3jP7SuNDSp9p5gC/Oca7RIMPIP1/wcZviBgG4berEl8A71YpMMonEZ1mxq5Wdg3PZ6vXmiY9nmFElgwXq1qxuvXKHBvOHuv316Ye21ncNGtCcpQutx7Hm3NW5+ddDZQnEKkt56j3f+vK9YHX8Y/q3t96VTa2H5yrzjmU5YtLc8LfxGzuX8yFWVJflIkZlu978+vdD1wYHsP9ueHWCrdPU4A39bjW/7E52AMXGTZvMyCnzzSNWlHP2Vxv6eog3V7TWV7RArGNUhTL6c+SqzJrzWh62h/VqE3qg5lKf2jeTQKztfxoxwfzv01SdSSg9d0hX02vHxjbywUYz1noOP2sHb6xYu0FJTVfr/frwWXsFy7n8y3S9SGw8w7YNLkSzruWzB3cNzk+DWt6fvsg8VxIqXcc62YqZl3hipv876G/bRIUi7mlD/n9t25p37QClV+xgBN+iArGE0GOtp62LXKD25+CeOxqFX1fUh1dsG/6WbV98iwrE2vaa9Ya/1nrFOzvR1tXunZoH962P7dzgGiDj7gVqp1768X6hqJtrHSrvqECsdQrnrva0q/2NfW7nSn7ZlsV5RWv7XXZu5f52jmXfJGqffP/oMLLF/t1bmqP6tjMNam8ftCF3vzM1LK/E93tOGZwWOjtf7rkKxNHfgK6PQ+31v4s9H10fD3/4dXjtuPNDIHYk+IQABCAAAQhAAAIQgAAEIAABCEAAAhCAAATKSgCBuKzEYtKr01uiwzMlXqExSYJVmUJy3vbWJPPQ2Omxu6qTXaLkNU9/HGzfkgLxUX3bBvO9OrE6rsA/H97LHF3OuQzvGT3V3Pvu1LRs4zzm/DmZ0xJ7XyQEXH/ULt6asi+qbiUiOsFZdTHShh/d3s43nWRLrRAsj7TFNuR2kikfeSb6oaVdWnm9neqFg3Xr3aeEg+OsSHrb218GqypDIM633vOpL3n6nmbn6Xahyx2H6KcEs19agdjVTS5iVLbrLZPgp+Orri735gSNlsl9/4X9TcTN71kZAnFVKKM4nfPQe+FgGsdNYuD51qNYlkt9Kl02gVg8rvCiPmifOJMY+U8bzUGDO3K1bNdLLm2DjqUoBbccv6upaQVsZx/b6Aw/fuyDcDCEW+9/ajCJE2ejArHSTVu4wpzz8JiwPfP3dcsKg/63kZODr3ECsTb43shuv7jPaISHXOtQefkCscTyJ+zc9pnagIuH7WRO3aNzXDHM+Nnf2fN+L3abW9nSDtz6jx0M4KJ3uPX5cs9VINbxXp0411z3/Gbx3ZXB/9Sc9e4eiUDsk2EZAhCAAAQgAAEIQAACEIAABCAAAQhAAAIQKAsBBOKy0MqS9r8fzjCPWC8fF1rTJZeg95vD+pbybHLb3ac8R29+44u0znuFzLz24N42LK0VBUtCe5ZHIPbDYI++Yngoorlj6/NoO3+wyt7chsB93s6R6SwqeuzWsam5zIpi0fOUOHGFnZdy907N3K7l+nzKCgG3WYHCF2XfvfKgUnk9bcNu3z16SikhVl6BJ9i5MS+03pwSYvO1m1+baB4bNzPIJkkwiR5j3rLV5pbXJ5k3rRdp1BR++6f77Rw717RLq3mGb3trciCK+GK85lP+lRVBR1lPvz+/OjFIXhkCsbxn8633fOpLXoD/sDzieOp6lWgSHZSQqxiV6XqLXvsn7NrBVVH4qbq63c7N+ti4GaXEO5VNIXYPLfFqDncqWagMgViHqgpllIfrX2w4/eetF6275v35w3Otz2wCseNx56gvzeP2dx0VHdVmHNuvnTlnz66msRWJy2K5XC/zbRsr0dDNO+/nLy/0s/boYn40qGNaeGGXRoMl1JbPth6lvqnN+5kdhFDdhrN3Yc/jBGLtIz4323De0d+S8rj6gJ7m0D5tzOAbRgTZ/8AO9Lna5htnz306y9xjB/M4j2Q/jbySL9p7J9PVRlDwLdc61D6+QHyVLZeiSFxqQyw7Adzlq/vr5fa+M6xbS7cq9lNC7y1vTDKT5i8rtX24nRbiUtvGRUPEu4T5cC+LQKzjad5k3XP8aQS0Xm3JjccOMBpkcInlIEuq42Aj/yAAAQhAAAIQgAAEIAABCEAAAhCAAAQgAAEIZCCAQJwBTnk3KZTol7YTupoVGro0a1Bqrt5s+X5nPU8XrlhjWjasYxraMJhb2pJEDwkNE+ctNXVsKNgOTeuZVra8hTSFVF66Zr3Nt7YNXxrPQd6As22oYYkuxnr7ak7NtlZUd16khSjP718cH4hWykvzQyusa6620oaq/ebblUafNazXcbsm9WwZyyY6KbzoantNtbaejAq7W1lWEfWeb32tWrfBzLZi8Txb3xLvuttQs76XZT5scrneMuUvEXbmklVm2Zp1ZsPGTaZ14zqmbeO6mXap9G1VoYy6RmYsVrj6TaaN5VfI33IUuETpWfb3GbQfdqO8SNsUuP2IHtN9X21Dxc/6bqVZvGKdbRu2C861pW3r/HlnXdrop9oTzb2te0172/a2s2XOZT8/n2W2bRXndfa63dG2LWpfymNqn+bYP4XoDtpfW2dRL9zy5Ju0z+IVa4Nz13XRdoe6Zf6NaX+1yRqEoHK2twOb6taskXS4tPWF4J6WYYYvao8khteqUd2WsW6pubIz7MomCEAAAhCAAAQgAAEIQAACEIAABCAAAQhAAAJZCSAQZ0VEgiShcFsgs8iKCYfd/mZwqlHP6q39/Lflet/a65bzgwAEIAABCEAAAhCAAAQgAAEIQAACEIAABCAAAQhAYNslgECcZ93v/peX88yheHd//+qDg8IlCYVb27m783U1Ig+/nz/zsRnz9aJg1aX7dDcnDeoULG9t5+7OWZ+Ow7ZS7/65swwBCECgqhHo1aqhmTCvdOhsdx6ZQoW7NHxCAAIQgAAEIAABCEAAAv/f3h2sxlWGYQD+4zCZaJqEtlBNrG1EuugFCCK48h7ElXgBXojgJejGnbdQXPYaFMGNxpp005S0HWwyhDhnYISW2nC++cH/8zzdtEnO9+ed5+vu5ZxDgAABAgQIECAwLAEF8Yr7VhSuCNjQ+LIY/fb+r+WH+ftku8c6L9+F+tb6qNz76tN/Hmds7w0tThQCBAgMWEBBPODl++gECBAgQIAAAQIECBAgQIAAAQIEggIK4iDckMb+7U7S/6vBZ9/dX7z7cfn5RvN3SX//xcflzo2t5bcG8ffQ9j6IpfqQBAgQIECAAAECBAgQIECAAAECBAgQIECAwOAFFMSD/y9wOcAvD0/KNz/+vLjwy48+KJ/cuXH5UOIrvr73Uzk4npbJ+I1y9+2d8vmH+2V7Y5z4E8WiD23vMSVTBAgQIECAAAECBAgQIECAAAECBAgQIECAAIFcAgriXPuSlgABAgQIECBAgAABAgQIECBAgAABAgQIECBAgAABAmEBBXGYziABAgQIECBAgAABAgQIECBAgAABAgQIECBAgAABAgRyCSiIc+1LWgIECBAgQIAAAQIECBAgQIAAAQIECBAgQIAAAQIECIQFFMRhOoMECBAgQIAAAQIECBAgQIAAAQIECBAgQIAAAQIECBDIJaAgzrUvaQkQIECAAAECBAgQIECAAAECBAgQIECAAAECBAgQIBAWUBCH6QwSIECAAAECBAgQIECAAAECBAgQIECAAAECBAgQIEAgl4CCONe+pCVAgAABAgQIECBAgAABAgQIECBAgAABAgQIECBAgEBYQEEcpjNIgAABAgQIECBAgAABAgQIECBAgAABAgQIECBAgACBXAIK4lz7kpYAAQIECBAgQIAAAQIECBAgQIAAAQIECBAgQIAAAQJhAQVxmM4gAQIECBAgQIAAAQIECBAgQIAAAQIECBAgQIAAAQIEcgkoiHPtS1oCBAgQIECAAAECBAgQIECAAAECBAgQIECAAAECBAiEBRTEYTqDBAgQIECAAAECBAgQIECAAAECBAgQIECAAAECBAgQyCWgIM61L2kJECBAgAABAgQIECBAgAABAgQIECBAgAABAgQIECAQFlAQh+kMEiBAgAABAgQIECBAgAABAgQIECBAgAABAgQIECBAIJeAgjjXvqQlQIAAAQIECBAgQIAAAQIECBAgQIAAAQIECBAgQIBAWEBBHKYzSIAAAQIECBAgQIAAAQIECBAgQIAAAQIECBAgQIAAgVwCCuJc+5KWAAECBAgQIECAAAECBAgQIECAAAECBAgQIECAAAECYQEFcZjOIAECBAgQIECAAAECBAgQIECAAAECBAgQIECAAAECBHIJKIhz7UtaAgQIECBAgAABAgQIECBAgAABAgQIECBAgAABAgQIhAUUxGE6gwQIECBAgAABAgQIECBAgAABAgQIECBAgAABAgQIEMgloCDOtS9pCRAgQIAAAQIECBAgQIAAAQIECBAgQIAAAQIECBAgEBZQEIfpDBIgQIAAAQIECBAgQIAAAQIECBAgQIAAAQIECBAgQCCXgII4176kJUCAAAECBAgQIECAAAECBAgQIECAAAECBAgQIECAQFhAQRymM0iAAAECBAgQIECAAAECBAgQIECAAAECBAgQIECAAIFcAgriXPuSlgABAgQIECBAgAABAgQIECBAgAABAgQIECBAgAABAmEBBXGYziABAgQIECBAgAABAgQIECBAgAABAgQIECBAgAABAgRyCSiIc+1LWgIECBAgQIAAAQIECBAgQIAAAQIECBAgQIAAAQIECIQFFMRhOoMECBAgQIAAAQIECBAgQIAAAQIECBAgQIAAAQIECBDIJaAgzrUvaQkQIECAAAECBAgQIECAAAECBAgQIECAAAECBAgQIBAWUBCH6QwSIECAAAECBAgQIECAAAECBAgQIECAAAECBAgQIEAgl4CCONe+pCVAgAABAgQIECBAgAABAgQIECBAgAABAgQIECBAgEBYQEEcpjNIgAABAgQIECBAgAABAgQIECBAgAABAgQIECBAgACBXAIK4lz7kpYAAQIECBAgQIAAAQIECBAgQIAAAQIECBAgQIAAAQJhAQVxmM4gAQIECBAgQIAAAQIECBAgQIAAAQIECBAgQIAAAQIEcgkoiHPtS1oCBAgQIECAAAECBAgQIECAAAECBAgQIECAAAECBAiEBRTEYTqDBAgQIECAAAECBAgQIECAAAECBAgQIECAAAECBAgQyCWgIM61L2kJECBAgAABAgQIECBAgAABAgQIECBAgAABAgQIECAQFlAQh+kMEiBAgAABAgQIECBAgAABAgQIECBAgAABAgQIECBAIJeAgjjXvqQlQIAAAQIECBAgQIAAAQIECBAgQIAAAQIECBAgQIBAWEBBHKYzSIAAAQIECBAgQIAAAQIECBAgQIAAAQIECBAgQIAAgVwCCuJc+5KWAAECBAgQIECAAAECBAgQIECAAAECBAgQIECAAAECYQEFcZjOIAECBAgQIECAAAECBAgQIECAAAECBAgQIECAAAECBHIJKIhz7UtaAgQIECBAgAABAgQIECBAgAABAgQIECBAgAABAgQIhAUUxGE6gwQIECBAgAABAgQIECBAgAABAgQIECBAgAABAgQIEMgloCDOtS9pCRAgQIAAAQIECBAgQIAAAQIECBAgQIAAAQIECBAgEBZQEIfpDBIgQIAAAQIECBAgQIAAAQIECBAgQIAAAQIECBAgQCCXwH9eEO/fvlXW1tZyqUlLgAABAgQIECBAgAABAgQIECBAgAABAgQIECBAgACBZAIXFxflt98PFqnf37+9Uvq1+WEXfU548Odhmc1mZW9vt0zW1/uMupYAAQIECBAgQIAAAQIECBAgQIAAAQIECBAgQIAAAQIEegqcnp2Vw8OjMh6Py81393pOv3h574L40aPj8uTp07Kzs12uXb364mm+IkCAAAECBAgQIECAAAECBAgQIECAAAECBAgQIECAAIGqAsePH5eTkydle2urXL9+baWzexfEp6en5fDo4eKXuot4JXvDBAgQIECAAAECBAgQIECAAAECBAgQIECAAAECBAgQeK3A8u7h7qK93XfKZDJ57fWX/bB3QdwduLyLuHsH8W4XwqOmL3P2cwIECBAgQIAAAQIECBAgQIAAAQIECBAgQIAAAQIECPQS6Mrho/nNu91bg2vcPdz98lBB3A0e/PGgnJ+fd/9cPG56c3OzrM+fed2Vxv4QIECAAAECBAgQIECAAAECBAgQIECAAAECBAgQIECAQH+Brgw+m83KdDpdPFa6O2E0GpVb793sf9grJsIFcXfW8k7iV5zrWwQIECBAgAABAgQIECBAgAABAgQIECBAgAABAgQIECCwokCtO4eXMVYqiLtDuncSP3s2LX89f15m8ybbHwIECBAgQIAAAQIECBAgQIAAAQIECBAgQIAAAQIECBCIC4znT25+c2OjXLmyufI7h19OsXJB/PKBviZAgAABAgQIECBAgAABAgQIECBAgAABAgQIECBAgACBNgUUxG3uRSoCBAgQIECAAAECBAgQIECAAAECBAgQIECAAAECBAhUF1AQVyd1IAECBAgQIECAAAECBAgQIECAAAECBAgQIECAAAECBNoUUBC3uRepCBAgQIAAAQIECBAgQIAAAQIECBAgQIAAAQIECBAgUF1AQVyd1IEECBAgQIAAAQIECBAgQIAAAQIECBAgQIAAAQIECBBoU0BB3OZepCJAgAABAgQIECBAgAABAgQIECBAgAABAgQIECBAgEB1AQVxdVIHEiBAgAABAgQIECBAgAABAgQIECBAgAABAgQIECBAoE0BBXGbe5GKAAECBAgQIECAAAECBAgQIECAAAECBAgQIECAAAEC1QUUxNVJHUiAAAECBAgQIECAAAECBAgQIECAAAECBAgQIECAAIE2BRTEbe5FKgIECBAgQIAAAQIECBAgQIAAAQIECBAgQIAAAQIECFQXUBBXJ3UgAQIECBAgQIAAAQIECBAgQIAAAQIECBAgQIAAAQIE2hRQELe5F6kIECBAgAABAgQIECBAgAABAgQIECBAgAABAgQIECBQXUBBXJ3UgQQIECBAgAABAgQIECBAgAABAgQIECBAgAABAgQIEGhTQEHc5l6kIkCAAAECBAgQIECAAAECBAgQIECAAAECBAgQIECAQHUBBXF1UgcSIECAAAECBAgQIECAAAECBAgQIECAAAECBAgQIECgTQEFcZt7kYoAAQIECBAgQIAAAQIECBAgQIAAAQIECBAgQIAAAQLVBRTE1UkdSIAAAQIECBAgQIAAAQIECBAgQIAAAQIECBAgQIAAgTYFFMRt7kUqAgQIECBAgAABAgQIECBAgAABAgQIECBAgAABAgQIVBdQEFcndSABAgQIECBAgAABAgQIECBAgAABAgQIECBAgAABAgTaFFAQt7kXqQgQIECAAAECBAgQIECAAAECBAgQIECAAAECBAgQIFBd4G/X//H1qmuUOwAAAABJRU5ErkJggg==)"
      ]
    },
    {
      "cell_type": "code",
      "metadata": {
        "id": "ZFA4uRJ8eB0O"
      },
      "source": [
        ""
      ],
      "execution_count": null,
      "outputs": []
    }
  ]
}